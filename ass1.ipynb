{
  "nbformat": 4,
  "nbformat_minor": 0,
  "metadata": {
    "colab": {
      "name": "ass1.ipynb",
      "provenance": [],
      "collapsed_sections": [],
      "include_colab_link": true
    },
    "kernelspec": {
      "name": "python3",
      "display_name": "Python 3"
    }
  },
  "cells": [
    {
      "cell_type": "markdown",
      "metadata": {
        "id": "view-in-github",
        "colab_type": "text"
      },
      "source": [
        "<a href=\"https://colab.research.google.com/github/hamzi27/adv-ml-assignment1/blob/master/ass1.ipynb\" target=\"_parent\"><img src=\"https://colab.research.google.com/assets/colab-badge.svg\" alt=\"Open In Colab\"/></a>"
      ]
    },
    {
      "cell_type": "markdown",
      "metadata": {
        "id": "ABVe6x05udwR",
        "colab_type": "text"
      },
      "source": [
        "# Amrani Hamza - 807386\n",
        "\n",
        "## Load data"
      ]
    },
    {
      "cell_type": "code",
      "metadata": {
        "id": "gsPy5ahXujZt",
        "colab_type": "code",
        "outputId": "ecbbf007-a4e7-4fc5-83e5-cb338d4f90ab",
        "colab": {
          "base_uri": "https://localhost:8080/",
          "height": 170
        }
      },
      "source": [
        "import pandas as pd\n",
        "import numpy as np\n",
        "\n",
        "url_train = 'https://raw.githubusercontent.com/hamzi27/adv-ml-assignment1/master/train.csv'\n",
        "url_test = 'https://raw.githubusercontent.com/hamzi27/adv-ml-assignment1/master/test.csv'\n",
        "\n",
        "train = pd.read_csv(url_train)\n",
        "test = pd.read_csv(url_test)\n",
        "\n",
        "print(train.head())\n",
        "print(\"Training set data shape: \", train.shape)"
      ],
      "execution_count": 1,
      "outputs": [
        {
          "output_type": "stream",
          "text": [
            "   LIMIT_BAL  SEX  EDUCATION  ...  PAY_AMT5  PAY_AMT6  default.payment.next.month\n",
            "0    20000.0    2          2  ...       0.0       0.0                           1\n",
            "1   120000.0    2          2  ...       0.0    2000.0                           1\n",
            "2    90000.0    2          2  ...    1000.0    5000.0                           0\n",
            "3    50000.0    2          2  ...    1069.0    1000.0                           0\n",
            "4    50000.0    1          2  ...     689.0     679.0                           0\n",
            "\n",
            "[5 rows x 24 columns]\n",
            "Training set data shape:  (27000, 24)\n"
          ],
          "name": "stdout"
        }
      ]
    },
    {
      "cell_type": "markdown",
      "metadata": {
        "id": "V0a7BVVIpvzO",
        "colab_type": "text"
      },
      "source": [
        "# Analysis on data"
      ]
    },
    {
      "cell_type": "code",
      "metadata": {
        "id": "KlQ4_442smWo",
        "colab_type": "code",
        "colab": {}
      },
      "source": [
        "# !pip install -U pandas_profiling"
      ],
      "execution_count": 0,
      "outputs": []
    },
    {
      "cell_type": "code",
      "metadata": {
        "id": "62TFvroXpyiP",
        "colab_type": "code",
        "colab": {}
      },
      "source": [
        "#import pandas_profiling\n",
        "\n",
        "# train.profile_report(style={'full_width':True})\n"
      ],
      "execution_count": 0,
      "outputs": []
    },
    {
      "cell_type": "markdown",
      "metadata": {
        "id": "Cb7jLOZtuVMH",
        "colab_type": "text"
      },
      "source": [
        "# Removing columns highly correlated and duplicates rows"
      ]
    },
    {
      "cell_type": "code",
      "metadata": {
        "id": "nL_qakFeuc7N",
        "colab_type": "code",
        "outputId": "0535c802-6a11-4c80-abf5-425e5d78c8ed",
        "colab": {
          "base_uri": "https://localhost:8080/",
          "height": 68
        }
      },
      "source": [
        "# Drop of duplicates rows\n",
        "train = train.drop_duplicates()\n",
        "test = test.drop_duplicates()\n",
        "\n",
        "# Drop columns lowly correlated to target\n",
        "\n",
        "train.drop(columns=['AGE','EDUCATION','LIMIT_BAL','MARRIAGE','PAY_AMT1','PAY_AMT2','PAY_AMT3','PAY_AMT4',\n",
        "                    'PAY_AMT5','PAY_AMT6','SEX','BILL_AMT1','BILL_AMT2','BILL_AMT3','BILL_AMT4','BILL_AMT5','BILL_AMT6'], axis=1, inplace=True)\n",
        "test.drop(columns=['AGE','EDUCATION','LIMIT_BAL','MARRIAGE','PAY_AMT1','PAY_AMT2','PAY_AMT3','PAY_AMT4',\n",
        "                    'PAY_AMT5','PAY_AMT6','SEX','BILL_AMT1','BILL_AMT2','BILL_AMT3','BILL_AMT4','BILL_AMT5','BILL_AMT6'], axis=1, inplace=True)\n",
        "\n",
        "print(\"Train shape: \", train.shape)\n",
        "print(\"Number of 0: \", sum(train['default.payment.next.month']==0))\n",
        "print(\"Number of 1: \", sum(train['default.payment.next.month']==1))"
      ],
      "execution_count": 2,
      "outputs": [
        {
          "output_type": "stream",
          "text": [
            "Train shape:  (26973, 7)\n",
            "Number of 0:  21004\n",
            "Number of 1:  5969\n"
          ],
          "name": "stdout"
        }
      ]
    },
    {
      "cell_type": "markdown",
      "metadata": {
        "id": "e9YrxFoahyvI",
        "colab_type": "text"
      },
      "source": [
        "# Split train"
      ]
    },
    {
      "cell_type": "code",
      "metadata": {
        "id": "RNQk-sc-h1-A",
        "colab_type": "code",
        "outputId": "88628fc5-9a8c-4a3b-cbe1-7690c3c7c04a",
        "colab": {
          "base_uri": "https://localhost:8080/",
          "height": 136
        }
      },
      "source": [
        "from sklearn.model_selection import train_test_split\n",
        "\n",
        "train, validation = train_test_split( train,test_size=0.2)\n",
        "\n",
        "print(\"Train: \", train.shape)\n",
        "\n",
        "num_0 = sum(train['default.payment.next.month']==0)\n",
        "num_1 = sum(train['default.payment.next.month']==1)\n",
        "print(\"Number of 0: \", num_0)\n",
        "print(\"Number of 1: \", num_1)\n",
        "\n",
        "print(\"\\nValidation: \", validation.shape)\n",
        "print(\"Number of 0: \", sum(validation['default.payment.next.month']==0))\n",
        "print(\"Number of 1: \", sum(validation['default.payment.next.month']==1))"
      ],
      "execution_count": 3,
      "outputs": [
        {
          "output_type": "stream",
          "text": [
            "Train:  (21578, 7)\n",
            "Number of 0:  16813\n",
            "Number of 1:  4765\n",
            "\n",
            "Validation:  (5395, 7)\n",
            "Number of 0:  4191\n",
            "Number of 1:  1204\n"
          ],
          "name": "stdout"
        }
      ]
    },
    {
      "cell_type": "markdown",
      "metadata": {
        "id": "HktIjzJ01HNV",
        "colab_type": "text"
      },
      "source": [
        "# Over-sample data"
      ]
    },
    {
      "cell_type": "code",
      "metadata": {
        "id": "99ISu_VF31NH",
        "colab_type": "code",
        "outputId": "dfac9aec-02a6-4c09-f2cd-033176bcb508",
        "colab": {
          "base_uri": "https://localhost:8080/",
          "height": 170
        }
      },
      "source": [
        "from numpy.random import random_sample\n",
        "\n",
        "train_1 = train[train['default.payment.next.month']==1]\n",
        "\n",
        "values = [train_1[column].value_counts(normalize=True).keys().tolist() for column in train_1.columns[:-1]]\n",
        "probabilities = [train_1[column].value_counts(normalize=True).tolist() for column in train_1.columns[:-1]]\n",
        "\n",
        "verify = {}\n",
        "for index, row in train_1.iterrows():\n",
        "    verify [str(row.values)]=1\n",
        "    \n",
        "sample_rows = []\n",
        "for _ in range(num_0-num_1):\n",
        "  while True:\n",
        "    sample_row = []\n",
        "    \n",
        "    for i in range(len(values)):\n",
        "      bins = np.add.accumulate(probabilities[i])\n",
        "      sample_of_column = [values[i][n] for n in np.digitize(random_sample(1), bins)]\n",
        "      sample_row.extend(sample_of_column)\n",
        "    sample_row.extend([1])\n",
        "    \n",
        "    try:\n",
        "      verify[str(sample_row)]\n",
        "    except:\n",
        "      verify[str(sample_row)] = 1\n",
        "      break\n",
        "  \n",
        "  sample_rows.append(sample_row)\n",
        "\n",
        "train_oversample = pd.DataFrame(sample_rows, columns = train.columns) \n",
        "train = train.append(train_oversample, ignore_index=True)\n",
        "\n",
        "print(train.head())\n",
        "\n",
        "print(\"Ended over-sample on train!\")\n",
        "print(\"Number of 0: \", sum(train['default.payment.next.month']==0))\n",
        "print(\"Number of 1: \", sum(train['default.payment.next.month']==1))\n",
        "\n"
      ],
      "execution_count": 4,
      "outputs": [
        {
          "output_type": "stream",
          "text": [
            "   PAY_0  PAY_2  PAY_3  PAY_4  PAY_5  PAY_6  default.payment.next.month\n",
            "0      0      0      0      0      0      0                           0\n",
            "1     -1     -1     -1     -1      0      0                           0\n",
            "2      0      0      0      0      0      0                           0\n",
            "3     -2     -2     -2     -1     -1     -1                           0\n",
            "4     -2     -2     -2     -2     -2     -2                           0\n",
            "Ended over-sample on train!\n",
            "Number of 0:  16813\n",
            "Number of 1:  16813\n"
          ],
          "name": "stdout"
        }
      ]
    },
    {
      "cell_type": "markdown",
      "metadata": {
        "id": "mRRgLhpASlgK",
        "colab_type": "text"
      },
      "source": [
        "# Standardization"
      ]
    },
    {
      "cell_type": "code",
      "metadata": {
        "id": "yB7BcrYNSpgw",
        "colab_type": "code",
        "outputId": "32dc0bf5-66d0-4a36-a876-72c630ad8c8b",
        "colab": {
          "base_uri": "https://localhost:8080/",
          "height": 68
        }
      },
      "source": [
        "from sklearn.preprocessing import StandardScaler\n",
        "from sklearn.preprocessing import LabelEncoder\n",
        "from keras.utils import np_utils\n",
        "\n",
        "def load_data(df, train=True):\n",
        "    X = df.values.copy()\n",
        "    if train:\n",
        "        np.random.shuffle(X)  \n",
        "        X, labels = X[:, 0:-1].astype(np.float32), X[:, -1]\n",
        "        return X, labels\n",
        "    else:\n",
        "        X, ids = X[:, 0:].astype(np.float32), X[:, 0].astype(str)\n",
        "        return X, ids\n",
        "\n",
        "\n",
        "def preprocess_labels(labels, encoder=None, categorical=True):\n",
        "    \"\"\"Encode labels with values among 0 and `n-classes-1`\"\"\"\n",
        "    if not encoder:\n",
        "        encoder = LabelEncoder()\n",
        "        encoder.fit(labels)\n",
        "    y = encoder.transform(labels).astype(np.int32)\n",
        "    if categorical:\n",
        "        y = np_utils.to_categorical(y)\n",
        "    return y, encoder\n",
        "  \n",
        "\n",
        "X_train, Y_train = load_data(train, train=True)\n",
        "X_val, Y_val = load_data(train, train=True)\n",
        "X_test, Y_test = load_data(test, train=False)\n",
        "  \n",
        "scaler = StandardScaler()\n",
        "scaler.fit(X_train)\n",
        "\n",
        "X_train = scaler.transform(X_train)\n",
        "X_val = scaler.transform(X_val)\n",
        "X_test = scaler.transform(X_test)\n",
        "\n",
        "\n",
        "Y_train, encoder = preprocess_labels(Y_train)\n",
        "Y_val, encoder_val = preprocess_labels(Y_val)\n",
        "\n",
        "nb_classes = Y_train.shape[1]\n",
        "dims = X_train.shape[1]\n",
        "\n",
        "print(nb_classes, 'classes')\n",
        "print(dims, 'dims')"
      ],
      "execution_count": 5,
      "outputs": [
        {
          "output_type": "stream",
          "text": [
            "Using TensorFlow backend.\n"
          ],
          "name": "stderr"
        },
        {
          "output_type": "stream",
          "text": [
            "2 classes\n",
            "6 dims\n"
          ],
          "name": "stdout"
        }
      ]
    },
    {
      "cell_type": "markdown",
      "metadata": {
        "id": "KOsKfsy4Ta5C",
        "colab_type": "text"
      },
      "source": [
        "# Neural Network"
      ]
    },
    {
      "cell_type": "code",
      "metadata": {
        "id": "CTA4XjQwBF96",
        "colab_type": "code",
        "outputId": "4f0dd43d-1595-49c4-c2a6-930f77cd8088",
        "colab": {
          "base_uri": "https://localhost:8080/",
          "height": 241
        }
      },
      "source": [
        "pip install keras_metrics"
      ],
      "execution_count": 6,
      "outputs": [
        {
          "output_type": "stream",
          "text": [
            "Collecting keras_metrics\n",
            "  Downloading https://files.pythonhosted.org/packages/32/c9/a87420da8e73de944e63a8e9cdcfb1f03ca31a7c4cdcdbd45d2cdf13275a/keras_metrics-1.1.0-py2.py3-none-any.whl\n",
            "Requirement already satisfied: Keras>=2.1.5 in /usr/local/lib/python3.6/dist-packages (from keras_metrics) (2.2.5)\n",
            "Requirement already satisfied: scipy>=0.14 in /usr/local/lib/python3.6/dist-packages (from Keras>=2.1.5->keras_metrics) (1.3.1)\n",
            "Requirement already satisfied: pyyaml in /usr/local/lib/python3.6/dist-packages (from Keras>=2.1.5->keras_metrics) (3.13)\n",
            "Requirement already satisfied: h5py in /usr/local/lib/python3.6/dist-packages (from Keras>=2.1.5->keras_metrics) (2.8.0)\n",
            "Requirement already satisfied: keras-applications>=1.0.8 in /usr/local/lib/python3.6/dist-packages (from Keras>=2.1.5->keras_metrics) (1.0.8)\n",
            "Requirement already satisfied: keras-preprocessing>=1.1.0 in /usr/local/lib/python3.6/dist-packages (from Keras>=2.1.5->keras_metrics) (1.1.0)\n",
            "Requirement already satisfied: six>=1.9.0 in /usr/local/lib/python3.6/dist-packages (from Keras>=2.1.5->keras_metrics) (1.12.0)\n",
            "Requirement already satisfied: numpy>=1.9.1 in /usr/local/lib/python3.6/dist-packages (from Keras>=2.1.5->keras_metrics) (1.16.5)\n",
            "Installing collected packages: keras-metrics\n",
            "Successfully installed keras-metrics-1.1.0\n"
          ],
          "name": "stdout"
        }
      ]
    },
    {
      "cell_type": "code",
      "metadata": {
        "id": "J3OAAJsOTeyH",
        "colab_type": "code",
        "outputId": "4b6370cd-5263-47c1-91f7-ef2913a7d991",
        "colab": {
          "base_uri": "https://localhost:8080/",
          "height": 564
        }
      },
      "source": [
        "from keras.models import Sequential\n",
        "from keras.layers import Dense, Activation\n",
        "from keras.layers.core import Activation, Dropout\n",
        "import keras_metrics\n",
        "\n",
        "model = Sequential()\n",
        "model.add(Dense(64, activation='relu', input_shape=(dims,)))\n",
        "model.add(Dense(32, activation='relu'))\n",
        "model.add(Dense(nb_classes))\n",
        "model.add(Activation('softmax'))\n",
        "          \n",
        "model.compile(optimizer='sgd',\n",
        "              loss='binary_crossentropy',\n",
        "              metrics =[\"accuracy\", keras_metrics.binary_precision(), keras_metrics.binary_recall(), keras_metrics.binary_f1_score()])\n",
        "\n",
        "model.summary()"
      ],
      "execution_count": 7,
      "outputs": [
        {
          "output_type": "stream",
          "text": [
            "WARNING:tensorflow:From /usr/local/lib/python3.6/dist-packages/keras/backend/tensorflow_backend.py:66: The name tf.get_default_graph is deprecated. Please use tf.compat.v1.get_default_graph instead.\n",
            "\n",
            "WARNING:tensorflow:From /usr/local/lib/python3.6/dist-packages/keras/backend/tensorflow_backend.py:541: The name tf.placeholder is deprecated. Please use tf.compat.v1.placeholder instead.\n",
            "\n",
            "WARNING:tensorflow:From /usr/local/lib/python3.6/dist-packages/keras/backend/tensorflow_backend.py:4432: The name tf.random_uniform is deprecated. Please use tf.random.uniform instead.\n",
            "\n",
            "WARNING:tensorflow:From /usr/local/lib/python3.6/dist-packages/keras/optimizers.py:793: The name tf.train.Optimizer is deprecated. Please use tf.compat.v1.train.Optimizer instead.\n",
            "\n",
            "WARNING:tensorflow:From /usr/local/lib/python3.6/dist-packages/keras/backend/tensorflow_backend.py:3657: The name tf.log is deprecated. Please use tf.math.log instead.\n",
            "\n",
            "WARNING:tensorflow:From /usr/local/lib/python3.6/dist-packages/tensorflow_core/python/ops/nn_impl.py:183: where (from tensorflow.python.ops.array_ops) is deprecated and will be removed in a future version.\n",
            "Instructions for updating:\n",
            "Use tf.where in 2.0, which has the same broadcast rule as np.where\n",
            "WARNING:tensorflow:From /usr/local/lib/python3.6/dist-packages/keras/backend/tensorflow_backend.py:1033: The name tf.assign_add is deprecated. Please use tf.compat.v1.assign_add instead.\n",
            "\n",
            "Model: \"sequential_1\"\n",
            "_________________________________________________________________\n",
            "Layer (type)                 Output Shape              Param #   \n",
            "=================================================================\n",
            "dense_1 (Dense)              (None, 64)                448       \n",
            "_________________________________________________________________\n",
            "dense_2 (Dense)              (None, 32)                2080      \n",
            "_________________________________________________________________\n",
            "dense_3 (Dense)              (None, 2)                 66        \n",
            "_________________________________________________________________\n",
            "activation_1 (Activation)    (None, 2)                 0         \n",
            "=================================================================\n",
            "Total params: 2,594\n",
            "Trainable params: 2,594\n",
            "Non-trainable params: 0\n",
            "_________________________________________________________________\n"
          ],
          "name": "stdout"
        }
      ]
    },
    {
      "cell_type": "code",
      "metadata": {
        "id": "umdZhxDfC4mX",
        "colab_type": "code",
        "outputId": "a5f82a9d-810c-41ed-fad0-54881e2dd8d8",
        "colab": {
          "base_uri": "https://localhost:8080/",
          "height": 1000
        }
      },
      "source": [
        "hist = model.fit(X_train, Y_train, validation_split=0.2, epochs=100, batch_size=128, verbose=True) \n"
      ],
      "execution_count": 8,
      "outputs": [
        {
          "output_type": "stream",
          "text": [
            "WARNING:tensorflow:From /usr/local/lib/python3.6/dist-packages/keras/backend/tensorflow_backend.py:1020: The name tf.assign is deprecated. Please use tf.compat.v1.assign instead.\n",
            "\n",
            "WARNING:tensorflow:From /usr/local/lib/python3.6/dist-packages/keras/backend/tensorflow_backend.py:3005: The name tf.Session is deprecated. Please use tf.compat.v1.Session instead.\n",
            "\n",
            "Train on 26900 samples, validate on 6726 samples\n",
            "WARNING:tensorflow:From /usr/local/lib/python3.6/dist-packages/keras/backend/tensorflow_backend.py:190: The name tf.get_default_session is deprecated. Please use tf.compat.v1.get_default_session instead.\n",
            "\n",
            "WARNING:tensorflow:From /usr/local/lib/python3.6/dist-packages/keras/backend/tensorflow_backend.py:197: The name tf.ConfigProto is deprecated. Please use tf.compat.v1.ConfigProto instead.\n",
            "\n",
            "WARNING:tensorflow:From /usr/local/lib/python3.6/dist-packages/keras/backend/tensorflow_backend.py:207: The name tf.global_variables is deprecated. Please use tf.compat.v1.global_variables instead.\n",
            "\n",
            "WARNING:tensorflow:From /usr/local/lib/python3.6/dist-packages/keras/backend/tensorflow_backend.py:216: The name tf.is_variable_initialized is deprecated. Please use tf.compat.v1.is_variable_initialized instead.\n",
            "\n",
            "WARNING:tensorflow:From /usr/local/lib/python3.6/dist-packages/keras/backend/tensorflow_backend.py:223: The name tf.variables_initializer is deprecated. Please use tf.compat.v1.variables_initializer instead.\n",
            "\n",
            "Epoch 1/100\n",
            "26900/26900 [==============================] - 1s 36us/step - loss: 0.5798 - acc: 0.7651 - precision: 0.7358 - recall: 0.8246 - f1_score: 0.7777 - val_loss: 0.5117 - val_acc: 0.8043 - val_precision: 0.8032 - val_recall: 0.8131 - val_f1_score: 0.8082\n",
            "Epoch 2/100\n",
            "26900/26900 [==============================] - 0s 15us/step - loss: 0.4825 - acc: 0.8089 - precision: 0.8090 - recall: 0.8071 - f1_score: 0.8081 - val_loss: 0.4610 - val_acc: 0.8147 - val_precision: 0.8231 - val_recall: 0.8082 - val_f1_score: 0.8156\n",
            "Epoch 3/100\n",
            "26900/26900 [==============================] - 0s 16us/step - loss: 0.4453 - acc: 0.8143 - precision: 0.8202 - recall: 0.8036 - f1_score: 0.8118 - val_loss: 0.4316 - val_acc: 0.8174 - val_precision: 0.8290 - val_recall: 0.8061 - val_f1_score: 0.8174\n",
            "Epoch 4/100\n",
            "26900/26900 [==============================] - 0s 15us/step - loss: 0.4223 - acc: 0.8185 - precision: 0.8275 - recall: 0.8031 - f1_score: 0.8151 - val_loss: 0.4127 - val_acc: 0.8197 - val_precision: 0.8339 - val_recall: 0.8043 - val_f1_score: 0.8189\n",
            "Epoch 5/100\n",
            "26900/26900 [==============================] - 0s 15us/step - loss: 0.4071 - acc: 0.8201 - precision: 0.8315 - recall: 0.8013 - f1_score: 0.8161 - val_loss: 0.4001 - val_acc: 0.8195 - val_precision: 0.8357 - val_recall: 0.8014 - val_f1_score: 0.8182\n",
            "Epoch 6/100\n",
            "26900/26900 [==============================] - 0s 15us/step - loss: 0.3971 - acc: 0.8243 - precision: 0.8324 - recall: 0.8107 - f1_score: 0.8214 - val_loss: 0.3919 - val_acc: 0.8243 - val_precision: 0.8339 - val_recall: 0.8158 - val_f1_score: 0.8247\n",
            "Epoch 7/100\n",
            "26900/26900 [==============================] - 0s 15us/step - loss: 0.3905 - acc: 0.8267 - precision: 0.8333 - recall: 0.8154 - f1_score: 0.8243 - val_loss: 0.3865 - val_acc: 0.8304 - val_precision: 0.8373 - val_recall: 0.8258 - val_f1_score: 0.8315\n",
            "Epoch 8/100\n",
            "26900/26900 [==============================] - 0s 15us/step - loss: 0.3861 - acc: 0.8318 - precision: 0.8346 - recall: 0.8262 - f1_score: 0.8304 - val_loss: 0.3827 - val_acc: 0.8314 - val_precision: 0.8378 - val_recall: 0.8275 - val_f1_score: 0.8326\n",
            "Epoch 9/100\n",
            "26900/26900 [==============================] - 0s 14us/step - loss: 0.3829 - acc: 0.8333 - precision: 0.8349 - recall: 0.8295 - f1_score: 0.8322 - val_loss: 0.3795 - val_acc: 0.8330 - val_precision: 0.8384 - val_recall: 0.8307 - val_f1_score: 0.8345\n",
            "Epoch 10/100\n",
            "26900/26900 [==============================] - 0s 14us/step - loss: 0.3803 - acc: 0.8335 - precision: 0.8340 - recall: 0.8314 - f1_score: 0.8327 - val_loss: 0.3771 - val_acc: 0.8329 - val_precision: 0.8355 - val_recall: 0.8346 - val_f1_score: 0.8350\n",
            "Epoch 11/100\n",
            "26900/26900 [==============================] - 0s 15us/step - loss: 0.3783 - acc: 0.8342 - precision: 0.8306 - recall: 0.8383 - f1_score: 0.8344 - val_loss: 0.3752 - val_acc: 0.8345 - val_precision: 0.8371 - val_recall: 0.8363 - val_f1_score: 0.8367\n",
            "Epoch 12/100\n",
            "26900/26900 [==============================] - 0s 15us/step - loss: 0.3766 - acc: 0.8354 - precision: 0.8309 - recall: 0.8406 - f1_score: 0.8357 - val_loss: 0.3735 - val_acc: 0.8347 - val_precision: 0.8326 - val_recall: 0.8434 - val_f1_score: 0.8379\n",
            "Epoch 13/100\n",
            "26900/26900 [==============================] - 0s 15us/step - loss: 0.3752 - acc: 0.8381 - precision: 0.8294 - recall: 0.8499 - f1_score: 0.8395 - val_loss: 0.3722 - val_acc: 0.8390 - val_precision: 0.8306 - val_recall: 0.8571 - val_f1_score: 0.8437\n",
            "Epoch 14/100\n",
            "26900/26900 [==============================] - 0s 15us/step - loss: 0.3739 - acc: 0.8396 - precision: 0.8273 - recall: 0.8569 - f1_score: 0.8418 - val_loss: 0.3709 - val_acc: 0.8406 - val_precision: 0.8285 - val_recall: 0.8645 - val_f1_score: 0.8461\n",
            "Epoch 15/100\n",
            "26900/26900 [==============================] - 0s 15us/step - loss: 0.3727 - acc: 0.8407 - precision: 0.8269 - recall: 0.8604 - f1_score: 0.8433 - val_loss: 0.3698 - val_acc: 0.8384 - val_precision: 0.8300 - val_recall: 0.8566 - val_f1_score: 0.8431\n",
            "Epoch 16/100\n",
            "26900/26900 [==============================] - 0s 15us/step - loss: 0.3717 - acc: 0.8415 - precision: 0.8283 - recall: 0.8603 - f1_score: 0.8440 - val_loss: 0.3687 - val_acc: 0.8415 - val_precision: 0.8292 - val_recall: 0.8656 - val_f1_score: 0.8470\n",
            "Epoch 17/100\n",
            "26900/26900 [==============================] - 0s 15us/step - loss: 0.3707 - acc: 0.8424 - precision: 0.8277 - recall: 0.8634 - f1_score: 0.8452 - val_loss: 0.3679 - val_acc: 0.8415 - val_precision: 0.8308 - val_recall: 0.8630 - val_f1_score: 0.8466\n",
            "Epoch 18/100\n",
            "26900/26900 [==============================] - 0s 14us/step - loss: 0.3698 - acc: 0.8432 - precision: 0.8272 - recall: 0.8662 - f1_score: 0.8462 - val_loss: 0.3671 - val_acc: 0.8421 - val_precision: 0.8318 - val_recall: 0.8630 - val_f1_score: 0.8471\n",
            "Epoch 19/100\n",
            "26900/26900 [==============================] - 0s 15us/step - loss: 0.3690 - acc: 0.8445 - precision: 0.8267 - recall: 0.8704 - f1_score: 0.8480 - val_loss: 0.3663 - val_acc: 0.8412 - val_precision: 0.8281 - val_recall: 0.8665 - val_f1_score: 0.8469\n",
            "Epoch 20/100\n",
            "26900/26900 [==============================] - 0s 15us/step - loss: 0.3683 - acc: 0.8466 - precision: 0.8260 - recall: 0.8769 - f1_score: 0.8507 - val_loss: 0.3656 - val_acc: 0.8482 - val_precision: 0.8282 - val_recall: 0.8838 - val_f1_score: 0.8551\n",
            "Epoch 21/100\n",
            "26900/26900 [==============================] - 0s 15us/step - loss: 0.3675 - acc: 0.8486 - precision: 0.8255 - recall: 0.8826 - f1_score: 0.8531 - val_loss: 0.3652 - val_acc: 0.8483 - val_precision: 0.8323 - val_recall: 0.8777 - val_f1_score: 0.8544\n",
            "Epoch 22/100\n",
            "26900/26900 [==============================] - 0s 15us/step - loss: 0.3669 - acc: 0.8482 - precision: 0.8255 - recall: 0.8818 - f1_score: 0.8527 - val_loss: 0.3643 - val_acc: 0.8503 - val_precision: 0.8257 - val_recall: 0.8932 - val_f1_score: 0.8581\n",
            "Epoch 23/100\n",
            "26900/26900 [==============================] - 0s 15us/step - loss: 0.3663 - acc: 0.8491 - precision: 0.8247 - recall: 0.8854 - f1_score: 0.8540 - val_loss: 0.3638 - val_acc: 0.8512 - val_precision: 0.8293 - val_recall: 0.8894 - val_f1_score: 0.8583\n",
            "Epoch 24/100\n",
            "26900/26900 [==============================] - 0s 15us/step - loss: 0.3657 - acc: 0.8495 - precision: 0.8258 - recall: 0.8846 - f1_score: 0.8542 - val_loss: 0.3632 - val_acc: 0.8512 - val_precision: 0.8263 - val_recall: 0.8944 - val_f1_score: 0.8590\n",
            "Epoch 25/100\n",
            "26900/26900 [==============================] - 0s 15us/step - loss: 0.3651 - acc: 0.8509 - precision: 0.8256 - recall: 0.8885 - f1_score: 0.8559 - val_loss: 0.3631 - val_acc: 0.8516 - val_precision: 0.8300 - val_recall: 0.8894 - val_f1_score: 0.8587\n",
            "Epoch 26/100\n",
            "26900/26900 [==============================] - 0s 15us/step - loss: 0.3647 - acc: 0.8506 - precision: 0.8263 - recall: 0.8865 - f1_score: 0.8553 - val_loss: 0.3622 - val_acc: 0.8522 - val_precision: 0.8282 - val_recall: 0.8938 - val_f1_score: 0.8598\n",
            "Epoch 27/100\n",
            "26900/26900 [==============================] - 0s 15us/step - loss: 0.3641 - acc: 0.8505 - precision: 0.8258 - recall: 0.8871 - f1_score: 0.8553 - val_loss: 0.3618 - val_acc: 0.8521 - val_precision: 0.8280 - val_recall: 0.8938 - val_f1_score: 0.8596\n",
            "Epoch 28/100\n",
            "26900/26900 [==============================] - 0s 15us/step - loss: 0.3638 - acc: 0.8513 - precision: 0.8265 - recall: 0.8881 - f1_score: 0.8562 - val_loss: 0.3614 - val_acc: 0.8519 - val_precision: 0.8278 - val_recall: 0.8938 - val_f1_score: 0.8595\n",
            "Epoch 29/100\n",
            "26900/26900 [==============================] - 0s 15us/step - loss: 0.3634 - acc: 0.8512 - precision: 0.8264 - recall: 0.8878 - f1_score: 0.8560 - val_loss: 0.3611 - val_acc: 0.8515 - val_precision: 0.8267 - val_recall: 0.8944 - val_f1_score: 0.8592\n",
            "Epoch 30/100\n",
            "26900/26900 [==============================] - 0s 15us/step - loss: 0.3629 - acc: 0.8511 - precision: 0.8268 - recall: 0.8870 - f1_score: 0.8558 - val_loss: 0.3609 - val_acc: 0.8516 - val_precision: 0.8261 - val_recall: 0.8959 - val_f1_score: 0.8596\n",
            "Epoch 31/100\n",
            "26900/26900 [==============================] - 0s 15us/step - loss: 0.3626 - acc: 0.8515 - precision: 0.8269 - recall: 0.8878 - f1_score: 0.8563 - val_loss: 0.3604 - val_acc: 0.8513 - val_precision: 0.8255 - val_recall: 0.8962 - val_f1_score: 0.8594\n",
            "Epoch 32/100\n",
            "26900/26900 [==============================] - 0s 14us/step - loss: 0.3621 - acc: 0.8516 - precision: 0.8270 - recall: 0.8879 - f1_score: 0.8564 - val_loss: 0.3601 - val_acc: 0.8510 - val_precision: 0.8252 - val_recall: 0.8959 - val_f1_score: 0.8591\n",
            "Epoch 33/100\n",
            "26900/26900 [==============================] - 0s 15us/step - loss: 0.3618 - acc: 0.8519 - precision: 0.8274 - recall: 0.8879 - f1_score: 0.8566 - val_loss: 0.3596 - val_acc: 0.8509 - val_precision: 0.8260 - val_recall: 0.8941 - val_f1_score: 0.8587\n",
            "Epoch 34/100\n",
            "26900/26900 [==============================] - 0s 15us/step - loss: 0.3615 - acc: 0.8516 - precision: 0.8271 - recall: 0.8878 - f1_score: 0.8564 - val_loss: 0.3594 - val_acc: 0.8519 - val_precision: 0.8279 - val_recall: 0.8935 - val_f1_score: 0.8595\n",
            "Epoch 35/100\n",
            "26900/26900 [==============================] - 0s 15us/step - loss: 0.3611 - acc: 0.8517 - precision: 0.8273 - recall: 0.8876 - f1_score: 0.8564 - val_loss: 0.3590 - val_acc: 0.8519 - val_precision: 0.8278 - val_recall: 0.8938 - val_f1_score: 0.8595\n",
            "Epoch 36/100\n",
            "26900/26900 [==============================] - 0s 15us/step - loss: 0.3609 - acc: 0.8520 - precision: 0.8277 - recall: 0.8876 - f1_score: 0.8566 - val_loss: 0.3589 - val_acc: 0.8515 - val_precision: 0.8259 - val_recall: 0.8959 - val_f1_score: 0.8594\n",
            "Epoch 37/100\n",
            "26900/26900 [==============================] - 0s 14us/step - loss: 0.3605 - acc: 0.8523 - precision: 0.8281 - recall: 0.8879 - f1_score: 0.8569 - val_loss: 0.3584 - val_acc: 0.8519 - val_precision: 0.8279 - val_recall: 0.8935 - val_f1_score: 0.8595\n",
            "Epoch 38/100\n",
            "26900/26900 [==============================] - 0s 15us/step - loss: 0.3603 - acc: 0.8525 - precision: 0.8285 - recall: 0.8876 - f1_score: 0.8571 - val_loss: 0.3580 - val_acc: 0.8518 - val_precision: 0.8268 - val_recall: 0.8950 - val_f1_score: 0.8596\n",
            "Epoch 39/100\n",
            "26900/26900 [==============================] - 0s 14us/step - loss: 0.3600 - acc: 0.8521 - precision: 0.8278 - recall: 0.8878 - f1_score: 0.8568 - val_loss: 0.3581 - val_acc: 0.8525 - val_precision: 0.8285 - val_recall: 0.8941 - val_f1_score: 0.8600\n",
            "Epoch 40/100\n",
            "26900/26900 [==============================] - 0s 15us/step - loss: 0.3598 - acc: 0.8525 - precision: 0.8286 - recall: 0.8876 - f1_score: 0.8571 - val_loss: 0.3576 - val_acc: 0.8521 - val_precision: 0.8280 - val_recall: 0.8938 - val_f1_score: 0.8596\n",
            "Epoch 41/100\n",
            "26900/26900 [==============================] - 0s 15us/step - loss: 0.3595 - acc: 0.8520 - precision: 0.8281 - recall: 0.8871 - f1_score: 0.8566 - val_loss: 0.3574 - val_acc: 0.8519 - val_precision: 0.8279 - val_recall: 0.8935 - val_f1_score: 0.8595\n",
            "Epoch 42/100\n",
            "26900/26900 [==============================] - 0s 15us/step - loss: 0.3592 - acc: 0.8523 - precision: 0.8283 - recall: 0.8874 - f1_score: 0.8569 - val_loss: 0.3574 - val_acc: 0.8513 - val_precision: 0.8281 - val_recall: 0.8918 - val_f1_score: 0.8588\n",
            "Epoch 43/100\n",
            "26900/26900 [==============================] - 0s 15us/step - loss: 0.3590 - acc: 0.8524 - precision: 0.8290 - recall: 0.8868 - f1_score: 0.8569 - val_loss: 0.3570 - val_acc: 0.8518 - val_precision: 0.8274 - val_recall: 0.8941 - val_f1_score: 0.8594\n",
            "Epoch 44/100\n",
            "26900/26900 [==============================] - 0s 14us/step - loss: 0.3587 - acc: 0.8528 - precision: 0.8291 - recall: 0.8876 - f1_score: 0.8573 - val_loss: 0.3570 - val_acc: 0.8524 - val_precision: 0.8263 - val_recall: 0.8973 - val_f1_score: 0.8604\n",
            "Epoch 45/100\n",
            "26900/26900 [==============================] - 0s 14us/step - loss: 0.3585 - acc: 0.8524 - precision: 0.8285 - recall: 0.8875 - f1_score: 0.8570 - val_loss: 0.3565 - val_acc: 0.8525 - val_precision: 0.8280 - val_recall: 0.8950 - val_f1_score: 0.8602\n",
            "Epoch 46/100\n",
            "26900/26900 [==============================] - 0s 15us/step - loss: 0.3583 - acc: 0.8532 - precision: 0.8287 - recall: 0.8891 - f1_score: 0.8579 - val_loss: 0.3564 - val_acc: 0.8525 - val_precision: 0.8290 - val_recall: 0.8932 - val_f1_score: 0.8599\n",
            "Epoch 47/100\n",
            "26900/26900 [==============================] - 0s 14us/step - loss: 0.3580 - acc: 0.8525 - precision: 0.8287 - recall: 0.8875 - f1_score: 0.8571 - val_loss: 0.3563 - val_acc: 0.8528 - val_precision: 0.8289 - val_recall: 0.8941 - val_f1_score: 0.8603\n",
            "Epoch 48/100\n",
            "26900/26900 [==============================] - 0s 15us/step - loss: 0.3578 - acc: 0.8530 - precision: 0.8295 - recall: 0.8873 - f1_score: 0.8575 - val_loss: 0.3560 - val_acc: 0.8537 - val_precision: 0.8281 - val_recall: 0.8976 - val_f1_score: 0.8615\n",
            "Epoch 49/100\n",
            "26900/26900 [==============================] - 0s 15us/step - loss: 0.3576 - acc: 0.8533 - precision: 0.8288 - recall: 0.8894 - f1_score: 0.8580 - val_loss: 0.3559 - val_acc: 0.8525 - val_precision: 0.8288 - val_recall: 0.8935 - val_f1_score: 0.8600\n",
            "Epoch 50/100\n",
            "26900/26900 [==============================] - 0s 16us/step - loss: 0.3573 - acc: 0.8529 - precision: 0.8285 - recall: 0.8887 - f1_score: 0.8576 - val_loss: 0.3559 - val_acc: 0.8531 - val_precision: 0.8305 - val_recall: 0.8923 - val_f1_score: 0.8603\n",
            "Epoch 51/100\n",
            "26900/26900 [==============================] - 0s 16us/step - loss: 0.3571 - acc: 0.8533 - precision: 0.8290 - recall: 0.8888 - f1_score: 0.8579 - val_loss: 0.3556 - val_acc: 0.8531 - val_precision: 0.8305 - val_recall: 0.8923 - val_f1_score: 0.8603\n",
            "Epoch 52/100\n",
            "26900/26900 [==============================] - 0s 15us/step - loss: 0.3570 - acc: 0.8529 - precision: 0.8288 - recall: 0.8882 - f1_score: 0.8575 - val_loss: 0.3553 - val_acc: 0.8533 - val_precision: 0.8293 - val_recall: 0.8947 - val_f1_score: 0.8607\n",
            "Epoch 53/100\n",
            "26900/26900 [==============================] - 0s 15us/step - loss: 0.3567 - acc: 0.8530 - precision: 0.8292 - recall: 0.8879 - f1_score: 0.8575 - val_loss: 0.3552 - val_acc: 0.8546 - val_precision: 0.8291 - val_recall: 0.8982 - val_f1_score: 0.8623\n",
            "Epoch 54/100\n",
            "26900/26900 [==============================] - 0s 15us/step - loss: 0.3565 - acc: 0.8532 - precision: 0.8291 - recall: 0.8885 - f1_score: 0.8578 - val_loss: 0.3553 - val_acc: 0.8533 - val_precision: 0.8271 - val_recall: 0.8982 - val_f1_score: 0.8612\n",
            "Epoch 55/100\n",
            "26900/26900 [==============================] - 0s 14us/step - loss: 0.3562 - acc: 0.8532 - precision: 0.8289 - recall: 0.8888 - f1_score: 0.8578 - val_loss: 0.3551 - val_acc: 0.8527 - val_precision: 0.8307 - val_recall: 0.8909 - val_f1_score: 0.8597\n",
            "Epoch 56/100\n",
            "26900/26900 [==============================] - 0s 15us/step - loss: 0.3561 - acc: 0.8536 - precision: 0.8298 - recall: 0.8883 - f1_score: 0.8581 - val_loss: 0.3546 - val_acc: 0.8544 - val_precision: 0.8294 - val_recall: 0.8973 - val_f1_score: 0.8621\n",
            "Epoch 57/100\n",
            "26900/26900 [==============================] - 0s 15us/step - loss: 0.3559 - acc: 0.8535 - precision: 0.8294 - recall: 0.8889 - f1_score: 0.8581 - val_loss: 0.3545 - val_acc: 0.8541 - val_precision: 0.8290 - val_recall: 0.8973 - val_f1_score: 0.8618\n",
            "Epoch 58/100\n",
            "26900/26900 [==============================] - 0s 15us/step - loss: 0.3556 - acc: 0.8536 - precision: 0.8292 - recall: 0.8895 - f1_score: 0.8583 - val_loss: 0.3544 - val_acc: 0.8546 - val_precision: 0.8306 - val_recall: 0.8959 - val_f1_score: 0.8620\n",
            "Epoch 59/100\n",
            "26900/26900 [==============================] - 0s 15us/step - loss: 0.3555 - acc: 0.8537 - precision: 0.8296 - recall: 0.8890 - f1_score: 0.8583 - val_loss: 0.3547 - val_acc: 0.8528 - val_precision: 0.8282 - val_recall: 0.8953 - val_f1_score: 0.8604\n",
            "Epoch 60/100\n",
            "26900/26900 [==============================] - 0s 15us/step - loss: 0.3552 - acc: 0.8537 - precision: 0.8291 - recall: 0.8898 - f1_score: 0.8584 - val_loss: 0.3548 - val_acc: 0.8534 - val_precision: 0.8326 - val_recall: 0.8897 - val_f1_score: 0.8602\n",
            "Epoch 61/100\n",
            "26900/26900 [==============================] - 0s 15us/step - loss: 0.3551 - acc: 0.8534 - precision: 0.8300 - recall: 0.8876 - f1_score: 0.8579 - val_loss: 0.3542 - val_acc: 0.8533 - val_precision: 0.8294 - val_recall: 0.8944 - val_f1_score: 0.8607\n",
            "Epoch 62/100\n",
            "26900/26900 [==============================] - 0s 16us/step - loss: 0.3549 - acc: 0.8537 - precision: 0.8296 - recall: 0.8890 - f1_score: 0.8583 - val_loss: 0.3542 - val_acc: 0.8537 - val_precision: 0.8301 - val_recall: 0.8944 - val_f1_score: 0.8611\n",
            "Epoch 63/100\n",
            "26900/26900 [==============================] - 0s 15us/step - loss: 0.3547 - acc: 0.8536 - precision: 0.8298 - recall: 0.8885 - f1_score: 0.8582 - val_loss: 0.3539 - val_acc: 0.8537 - val_precision: 0.8296 - val_recall: 0.8953 - val_f1_score: 0.8612\n",
            "Epoch 64/100\n",
            "26900/26900 [==============================] - 0s 15us/step - loss: 0.3545 - acc: 0.8541 - precision: 0.8299 - recall: 0.8894 - f1_score: 0.8586 - val_loss: 0.3537 - val_acc: 0.8541 - val_precision: 0.8317 - val_recall: 0.8929 - val_f1_score: 0.8612\n",
            "Epoch 65/100\n",
            "26900/26900 [==============================] - 0s 14us/step - loss: 0.3543 - acc: 0.8542 - precision: 0.8305 - recall: 0.8888 - f1_score: 0.8586 - val_loss: 0.3534 - val_acc: 0.8547 - val_precision: 0.8301 - val_recall: 0.8970 - val_f1_score: 0.8623\n",
            "Epoch 66/100\n",
            "26900/26900 [==============================] - 0s 14us/step - loss: 0.3541 - acc: 0.8541 - precision: 0.8300 - recall: 0.8894 - f1_score: 0.8587 - val_loss: 0.3536 - val_acc: 0.8541 - val_precision: 0.8313 - val_recall: 0.8935 - val_f1_score: 0.8613\n",
            "Epoch 67/100\n",
            "26900/26900 [==============================] - 0s 15us/step - loss: 0.3540 - acc: 0.8539 - precision: 0.8307 - recall: 0.8879 - f1_score: 0.8583 - val_loss: 0.3532 - val_acc: 0.8544 - val_precision: 0.8307 - val_recall: 0.8953 - val_f1_score: 0.8618\n",
            "Epoch 68/100\n",
            "26900/26900 [==============================] - 0s 15us/step - loss: 0.3538 - acc: 0.8542 - precision: 0.8297 - recall: 0.8900 - f1_score: 0.8588 - val_loss: 0.3534 - val_acc: 0.8547 - val_precision: 0.8278 - val_recall: 0.9009 - val_f1_score: 0.8628\n",
            "Epoch 69/100\n",
            "26900/26900 [==============================] - 0s 14us/step - loss: 0.3537 - acc: 0.8545 - precision: 0.8301 - recall: 0.8902 - f1_score: 0.8591 - val_loss: 0.3532 - val_acc: 0.8540 - val_precision: 0.8306 - val_recall: 0.8944 - val_f1_score: 0.8613\n",
            "Epoch 70/100\n",
            "26900/26900 [==============================] - 0s 14us/step - loss: 0.3536 - acc: 0.8539 - precision: 0.8302 - recall: 0.8887 - f1_score: 0.8584 - val_loss: 0.3530 - val_acc: 0.8546 - val_precision: 0.8313 - val_recall: 0.8947 - val_f1_score: 0.8618\n",
            "Epoch 71/100\n",
            "26900/26900 [==============================] - 0s 15us/step - loss: 0.3534 - acc: 0.8552 - precision: 0.8306 - recall: 0.8912 - f1_score: 0.8598 - val_loss: 0.3528 - val_acc: 0.8555 - val_precision: 0.8307 - val_recall: 0.8979 - val_f1_score: 0.8630\n",
            "Epoch 72/100\n",
            "26900/26900 [==============================] - 0s 15us/step - loss: 0.3532 - acc: 0.8544 - precision: 0.8304 - recall: 0.8896 - f1_score: 0.8590 - val_loss: 0.3527 - val_acc: 0.8544 - val_precision: 0.8300 - val_recall: 0.8965 - val_f1_score: 0.8619\n",
            "Epoch 73/100\n",
            "26900/26900 [==============================] - 0s 15us/step - loss: 0.3529 - acc: 0.8552 - precision: 0.8311 - recall: 0.8903 - f1_score: 0.8597 - val_loss: 0.3526 - val_acc: 0.8567 - val_precision: 0.8291 - val_recall: 0.9035 - val_f1_score: 0.8647\n",
            "Epoch 74/100\n",
            "26900/26900 [==============================] - 0s 15us/step - loss: 0.3529 - acc: 0.8555 - precision: 0.8304 - recall: 0.8923 - f1_score: 0.8602 - val_loss: 0.3526 - val_acc: 0.8541 - val_precision: 0.8313 - val_recall: 0.8935 - val_f1_score: 0.8613\n",
            "Epoch 75/100\n",
            "26900/26900 [==============================] - 0s 15us/step - loss: 0.3527 - acc: 0.8548 - precision: 0.8311 - recall: 0.8894 - f1_score: 0.8592 - val_loss: 0.3524 - val_acc: 0.8547 - val_precision: 0.8315 - val_recall: 0.8947 - val_f1_score: 0.8619\n",
            "Epoch 76/100\n",
            "26900/26900 [==============================] - 0s 15us/step - loss: 0.3526 - acc: 0.8550 - precision: 0.8306 - recall: 0.8906 - f1_score: 0.8596 - val_loss: 0.3523 - val_acc: 0.8571 - val_precision: 0.8296 - val_recall: 0.9038 - val_f1_score: 0.8651\n",
            "Epoch 77/100\n",
            "26900/26900 [==============================] - 0s 15us/step - loss: 0.3524 - acc: 0.8554 - precision: 0.8301 - recall: 0.8925 - f1_score: 0.8602 - val_loss: 0.3522 - val_acc: 0.8552 - val_precision: 0.8337 - val_recall: 0.8923 - val_f1_score: 0.8620\n",
            "Epoch 78/100\n",
            "26900/26900 [==============================] - 0s 15us/step - loss: 0.3523 - acc: 0.8553 - precision: 0.8308 - recall: 0.8911 - f1_score: 0.8599 - val_loss: 0.3520 - val_acc: 0.8562 - val_precision: 0.8325 - val_recall: 0.8967 - val_f1_score: 0.8634\n",
            "Epoch 79/100\n",
            "26900/26900 [==============================] - 0s 14us/step - loss: 0.3521 - acc: 0.8555 - precision: 0.8303 - recall: 0.8924 - f1_score: 0.8603 - val_loss: 0.3519 - val_acc: 0.8562 - val_precision: 0.8323 - val_recall: 0.8970 - val_f1_score: 0.8635\n",
            "Epoch 80/100\n",
            "26900/26900 [==============================] - 0s 15us/step - loss: 0.3519 - acc: 0.8552 - precision: 0.8307 - recall: 0.8911 - f1_score: 0.8598 - val_loss: 0.3524 - val_acc: 0.8555 - val_precision: 0.8269 - val_recall: 0.9041 - val_f1_score: 0.8638\n",
            "Epoch 81/100\n",
            "26900/26900 [==============================] - 0s 14us/step - loss: 0.3518 - acc: 0.8565 - precision: 0.8302 - recall: 0.8950 - f1_score: 0.8614 - val_loss: 0.3517 - val_acc: 0.8564 - val_precision: 0.8306 - val_recall: 0.9003 - val_f1_score: 0.8640\n",
            "Epoch 82/100\n",
            "26900/26900 [==============================] - 0s 14us/step - loss: 0.3516 - acc: 0.8557 - precision: 0.8305 - recall: 0.8926 - f1_score: 0.8604 - val_loss: 0.3513 - val_acc: 0.8571 - val_precision: 0.8297 - val_recall: 0.9035 - val_f1_score: 0.8650\n",
            "Epoch 83/100\n",
            "26900/26900 [==============================] - 0s 15us/step - loss: 0.3513 - acc: 0.8559 - precision: 0.8305 - recall: 0.8931 - f1_score: 0.8607 - val_loss: 0.3511 - val_acc: 0.8568 - val_precision: 0.8289 - val_recall: 0.9041 - val_f1_score: 0.8649\n",
            "Epoch 84/100\n",
            "26900/26900 [==============================] - 0s 15us/step - loss: 0.3511 - acc: 0.8569 - precision: 0.8304 - recall: 0.8959 - f1_score: 0.8619 - val_loss: 0.3511 - val_acc: 0.8558 - val_precision: 0.8326 - val_recall: 0.8956 - val_f1_score: 0.8629\n",
            "Epoch 85/100\n",
            "26900/26900 [==============================] - 0s 14us/step - loss: 0.3509 - acc: 0.8564 - precision: 0.8301 - recall: 0.8950 - f1_score: 0.8614 - val_loss: 0.3510 - val_acc: 0.8567 - val_precision: 0.8323 - val_recall: 0.8982 - val_f1_score: 0.8640\n",
            "Epoch 86/100\n",
            "26900/26900 [==============================] - 0s 14us/step - loss: 0.3507 - acc: 0.8569 - precision: 0.8309 - recall: 0.8950 - f1_score: 0.8618 - val_loss: 0.3507 - val_acc: 0.8576 - val_precision: 0.8306 - val_recall: 0.9032 - val_f1_score: 0.8654\n",
            "Epoch 87/100\n",
            "26900/26900 [==============================] - 0s 14us/step - loss: 0.3505 - acc: 0.8570 - precision: 0.8306 - recall: 0.8956 - f1_score: 0.8619 - val_loss: 0.3509 - val_acc: 0.8567 - val_precision: 0.8325 - val_recall: 0.8979 - val_f1_score: 0.8640\n",
            "Epoch 88/100\n",
            "26900/26900 [==============================] - 0s 15us/step - loss: 0.3504 - acc: 0.8568 - precision: 0.8310 - recall: 0.8945 - f1_score: 0.8616 - val_loss: 0.3506 - val_acc: 0.8567 - val_precision: 0.8289 - val_recall: 0.9038 - val_f1_score: 0.8647\n",
            "Epoch 89/100\n",
            "26900/26900 [==============================] - 0s 15us/step - loss: 0.3501 - acc: 0.8574 - precision: 0.8306 - recall: 0.8967 - f1_score: 0.8623 - val_loss: 0.3503 - val_acc: 0.8576 - val_precision: 0.8313 - val_recall: 0.9020 - val_f1_score: 0.8652\n",
            "Epoch 90/100\n",
            "26900/26900 [==============================] - 0s 15us/step - loss: 0.3500 - acc: 0.8574 - precision: 0.8312 - recall: 0.8959 - f1_score: 0.8623 - val_loss: 0.3502 - val_acc: 0.8577 - val_precision: 0.8310 - val_recall: 0.9029 - val_f1_score: 0.8655\n",
            "Epoch 91/100\n",
            "26900/26900 [==============================] - 0s 15us/step - loss: 0.3498 - acc: 0.8571 - precision: 0.8302 - recall: 0.8967 - f1_score: 0.8622 - val_loss: 0.3503 - val_acc: 0.8576 - val_precision: 0.8320 - val_recall: 0.9009 - val_f1_score: 0.8651\n",
            "Epoch 92/100\n",
            "26900/26900 [==============================] - 0s 15us/step - loss: 0.3497 - acc: 0.8568 - precision: 0.8309 - recall: 0.8947 - f1_score: 0.8617 - val_loss: 0.3499 - val_acc: 0.8576 - val_precision: 0.8290 - val_recall: 0.9058 - val_f1_score: 0.8657\n",
            "Epoch 93/100\n",
            "26900/26900 [==============================] - 0s 15us/step - loss: 0.3496 - acc: 0.8574 - precision: 0.8304 - recall: 0.8969 - f1_score: 0.8624 - val_loss: 0.3499 - val_acc: 0.8571 - val_precision: 0.8296 - val_recall: 0.9038 - val_f1_score: 0.8651\n",
            "Epoch 94/100\n",
            "26900/26900 [==============================] - 0s 14us/step - loss: 0.3494 - acc: 0.8571 - precision: 0.8305 - recall: 0.8961 - f1_score: 0.8620 - val_loss: 0.3497 - val_acc: 0.8579 - val_precision: 0.8310 - val_recall: 0.9032 - val_f1_score: 0.8656\n",
            "Epoch 95/100\n",
            "26900/26900 [==============================] - 0s 14us/step - loss: 0.3492 - acc: 0.8576 - precision: 0.8308 - recall: 0.8969 - f1_score: 0.8626 - val_loss: 0.3499 - val_acc: 0.8573 - val_precision: 0.8291 - val_recall: 0.9050 - val_f1_score: 0.8654\n",
            "Epoch 96/100\n",
            "26900/26900 [==============================] - 0s 14us/step - loss: 0.3491 - acc: 0.8580 - precision: 0.8312 - recall: 0.8970 - f1_score: 0.8629 - val_loss: 0.3497 - val_acc: 0.8568 - val_precision: 0.8284 - val_recall: 0.9050 - val_f1_score: 0.8650\n",
            "Epoch 97/100\n",
            "26900/26900 [==============================] - 0s 14us/step - loss: 0.3489 - acc: 0.8574 - precision: 0.8307 - recall: 0.8965 - f1_score: 0.8624 - val_loss: 0.3493 - val_acc: 0.8570 - val_precision: 0.8313 - val_recall: 0.9006 - val_f1_score: 0.8645\n",
            "Epoch 98/100\n",
            "26900/26900 [==============================] - 0s 15us/step - loss: 0.3488 - acc: 0.8577 - precision: 0.8310 - recall: 0.8967 - f1_score: 0.8626 - val_loss: 0.3493 - val_acc: 0.8573 - val_precision: 0.8321 - val_recall: 0.9000 - val_f1_score: 0.8647\n",
            "Epoch 99/100\n",
            "26900/26900 [==============================] - 0s 15us/step - loss: 0.3487 - acc: 0.8578 - precision: 0.8312 - recall: 0.8966 - f1_score: 0.8627 - val_loss: 0.3495 - val_acc: 0.8562 - val_precision: 0.8291 - val_recall: 0.9023 - val_f1_score: 0.8642\n",
            "Epoch 100/100\n",
            "26900/26900 [==============================] - 0s 15us/step - loss: 0.3485 - acc: 0.8575 - precision: 0.8305 - recall: 0.8971 - f1_score: 0.8625 - val_loss: 0.3490 - val_acc: 0.8570 - val_precision: 0.8304 - val_recall: 0.9020 - val_f1_score: 0.8647\n"
          ],
          "name": "stdout"
        }
      ]
    },
    {
      "cell_type": "code",
      "metadata": {
        "id": "6xpGzBlnxyA4",
        "colab_type": "code",
        "outputId": "2f197314-7a5a-4a0c-c633-b431c34a3713",
        "colab": {
          "base_uri": "https://localhost:8080/",
          "height": 295
        }
      },
      "source": [
        "# Plot model loss\n",
        "\n",
        "import matplotlib.pyplot as plt\n",
        "\n",
        "plt.plot(hist.history['loss'])\n",
        "plt.plot(hist.history['val_loss'])\n",
        "plt.title('Model loss')\n",
        "plt.ylabel('Loss')\n",
        "plt.xlabel('Epoch')\n",
        "plt.legend(['Train', 'Val'], loc='upper right')\n",
        "plt.show()"
      ],
      "execution_count": 9,
      "outputs": [
        {
          "output_type": "display_data",
          "data": {
            "image/png": "[encoded data removed]",
            "text/plain": [
              "<Figure size 432x288 with 1 Axes>"
            ]
          },
          "metadata": {
            "tags": []
          }
        }
      ]
    },
    {
      "cell_type": "code",
      "metadata": {
        "id": "ylOZKSEfD_5K",
        "colab_type": "code",
        "outputId": "5ee88716-03c1-443a-f90b-8e50421b8054",
        "colab": {
          "base_uri": "https://localhost:8080/",
          "height": 295
        }
      },
      "source": [
        "# Plot model acuracy\n",
        "\n",
        "import matplotlib.pyplot as plt\n",
        "\n",
        "plt.plot(hist.history['acc'])\n",
        "plt.plot(hist.history['val_acc'])\n",
        "plt.title('Model accuracy')\n",
        "plt.ylabel('Accuracy')\n",
        "plt.xlabel('Epoch')\n",
        "plt.legend(['Train', 'Val'], loc='lower right')\n",
        "plt.show()"
      ],
      "execution_count": 10,
      "outputs": [
        {
          "output_type": "display_data",
          "data": {
            "image/png": "[encoded data removed]",
            "text/plain": [
              "<Figure size 432x288 with 1 Axes>"
            ]
          },
          "metadata": {
            "tags": []
          }
        }
      ]
    },
    {
      "cell_type": "code",
      "metadata": {
        "id": "-CIT6vRWk5Ls",
        "colab_type": "code",
        "outputId": "e401682a-4bc0-4d9c-8de1-bbe713bd5edd",
        "colab": {
          "base_uri": "https://localhost:8080/",
          "height": 51
        }
      },
      "source": [
        "results = model.evaluate(X_val, Y_val)\n",
        "\n",
        "print('test loss, test acc:', results)"
      ],
      "execution_count": 11,
      "outputs": [
        {
          "output_type": "stream",
          "text": [
            "33626/33626 [==============================] - 1s 23us/step\n",
            "test loss, test acc: [0.34816408387960784, 0.8575507048188431, 0.8313033893588795, 0.8971629096479083, 0.8629783813280267]\n"
          ],
          "name": "stdout"
        }
      ]
    },
    {
      "cell_type": "code",
      "metadata": {
        "id": "kLHgr2-flkuV",
        "colab_type": "code",
        "outputId": "22e5ca43-ba4d-40db-9bbe-e2cc8f9f7987",
        "colab": {
          "base_uri": "https://localhost:8080/",
          "height": 187
        }
      },
      "source": [
        "from sklearn.metrics import classification_report, confusion_matrix\n",
        "\n",
        "Y_val_true = [ enc[int(max(enc))] for enc in Y_val]\n",
        "\n",
        "print( 'Classification report\\n', classification_report(Y_val_true, model.predict_classes(X_val)) )"
      ],
      "execution_count": 12,
      "outputs": [
        {
          "output_type": "stream",
          "text": [
            "Classification report\n",
            "               precision    recall  f1-score   support\n",
            "\n",
            "         0.0       0.83      0.90      0.86     16813\n",
            "         1.0       0.89      0.82      0.85     16813\n",
            "\n",
            "    accuracy                           0.86     33626\n",
            "   macro avg       0.86      0.86      0.86     33626\n",
            "weighted avg       0.86      0.86      0.86     33626\n",
            "\n"
          ],
          "name": "stdout"
        }
      ]
    },
    {
      "cell_type": "code",
      "metadata": {
        "id": "M_ahp5YQ5Mw2",
        "colab_type": "code",
        "outputId": "669be583-2ad6-47ff-a77e-4c3abd5c0833",
        "colab": {
          "base_uri": "https://localhost:8080/",
          "height": 348
        }
      },
      "source": [
        "def plot_confusion_matrix(y_true, y_pred, classes,\n",
        "                          normalize=False,\n",
        "                          title=None,\n",
        "                          cmap=plt.cm.Blues):\n",
        "    \"\"\"\n",
        "    This function prints and plots the confusion matrix.\n",
        "    Normalization can be applied by setting `normalize=True`.\n",
        "    \"\"\"\n",
        "    if not title:\n",
        "        if normalize:\n",
        "            title = 'Normalized confusion matrix'\n",
        "        else:\n",
        "            title = 'Confusion matrix, without normalization'\n",
        "\n",
        "    # Compute confusion matrix\n",
        "    cm = confusion_matrix(y_true, y_pred)\n",
        "    # Only use the labels that appear in the data\n",
        "    #classes = classes[unique_labels(y_true, y_pred)]\n",
        "    if normalize:\n",
        "        cm = cm.astype('float') / cm.sum(axis=1)[:, np.newaxis]\n",
        "        print(\"\\nNormalized confusion matrix\")\n",
        "    else:\n",
        "        print('\\nConfusion matrix, without normalization')\n",
        "\n",
        "    fig, ax = plt.subplots()\n",
        "    im = ax.imshow(cm, interpolation='nearest', cmap=cmap)\n",
        "    ax.figure.colorbar(im, ax=ax)\n",
        "    # We want to show all ticks...\n",
        "    ax.set(xticks=np.arange(cm.shape[1]),\n",
        "           yticks=np.arange(cm.shape[0]),\n",
        "           # ... and label them with the respective list entries\n",
        "           xticklabels=classes, yticklabels=classes,\n",
        "           title=title,\n",
        "           ylabel='True label',\n",
        "           xlabel='Predicted label')\n",
        "\n",
        "    # Rotate the tick labels and set their alignment.\n",
        "    plt.setp(ax.get_xticklabels(), rotation=45, ha=\"right\",\n",
        "             rotation_mode=\"anchor\")\n",
        "\n",
        "    # Loop over data dimensions and create text annotations.\n",
        "    fmt = '.2f' if normalize else 'd'\n",
        "    thresh = cm.max() / 2.\n",
        "    for i in range(cm.shape[0]):\n",
        "        for j in range(cm.shape[1]):\n",
        "            ax.text(j, i, format(cm[i, j], fmt),\n",
        "                    ha=\"center\", va=\"center\",\n",
        "                    color=\"white\" if cm[i, j] > thresh else \"black\")\n",
        "    fig.tight_layout()\n",
        "    return ax\n",
        "\n",
        "  \n",
        "plot_confusion_matrix(Y_val_true, model.predict_classes(X_val), ['0','1'], normalize = True)\n"
      ],
      "execution_count": 13,
      "outputs": [
        {
          "output_type": "stream",
          "text": [
            "\n",
            "Normalized confusion matrix\n"
          ],
          "name": "stdout"
        },
        {
          "output_type": "execute_result",
          "data": {
            "text/plain": [
              "<matplotlib.axes._subplots.AxesSubplot at 0x7f44a73e9748>"
            ]
          },
          "metadata": {
            "tags": []
          },
          "execution_count": 13
        },
        {
          "output_type": "display_data",
          "data": {
            "image/png": "[encoded data removed]",
            "text/plain": [
              "<Figure size 432x288 with 2 Axes>"
            ]
          },
          "metadata": {
            "tags": []
          }
        }
      ]
    },
    {
      "cell_type": "code",
      "metadata": {
        "id": "GyrMuDtYBVNO",
        "colab_type": "code",
        "outputId": "4ecb429f-2619-4315-eac4-62ae1b1d2e2a",
        "colab": {
          "base_uri": "https://localhost:8080/",
          "height": 153
        }
      },
      "source": [
        "# Predict on test\n",
        "\n",
        "print(X_test)\n",
        "\n",
        "Y_test_pred = model.predict_classes(X_test)\n",
        "print(Y_test_pred)"
      ],
      "execution_count": 14,
      "outputs": [
        {
          "output_type": "stream",
          "text": [
            "[[ 0.5072648  -1.3898492  -1.3375895  -1.2943534  -1.2877427  -0.6094199 ]\n",
            " [-0.18169579 -0.07260772 -0.04810729 -0.01735526  0.01030688  0.03708776]\n",
            " [-0.18169579 -0.07260772 -0.04810729 -0.01735526  0.01030688  0.03708776]\n",
            " ...\n",
            " [ 1.1962254  -0.07260772 -0.04810729 -0.01735526  0.01030688  1.330103  ]\n",
            " [-1.5596169  -1.3898492  -1.3375895  -1.2943534  -1.2877427  -1.2559274 ]\n",
            " [-0.8706563  -0.7312285  -0.69284844 -0.6558543  -0.6387179  -0.6094199 ]]\n",
            "[0 0 0 ... 1 0 0]\n"
          ],
          "name": "stdout"
        }
      ]
    }
  ]
}