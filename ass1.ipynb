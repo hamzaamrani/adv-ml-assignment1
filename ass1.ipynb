{
  "nbformat": 4,
  "nbformat_minor": 0,
  "metadata": {
    "colab": {
      "name": "ass1.ipynb",
      "provenance": [],
      "collapsed_sections": [],
      "include_colab_link": true
    },
    "kernelspec": {
      "name": "python3",
      "display_name": "Python 3"
    }
  },
  "cells": [
    {
      "cell_type": "markdown",
      "metadata": {
        "id": "view-in-github",
        "colab_type": "text"
      },
      "source": [
        "<a href=\"https://colab.research.google.com/github/hamzi27/adv-ml-assignment1/blob/master/ass1.ipynb\" target=\"_parent\"><img src=\"https://colab.research.google.com/assets/colab-badge.svg\" alt=\"Open In Colab\"/></a>"
      ]
    },
    {
      "cell_type": "markdown",
      "metadata": {
        "id": "ABVe6x05udwR",
        "colab_type": "text"
      },
      "source": [
        "# Amrani Hamza - 807386\n",
        "\n",
        "## Load data"
      ]
    },
    {
      "cell_type": "code",
      "metadata": {
        "id": "gsPy5ahXujZt",
        "colab_type": "code",
        "colab": {
          "base_uri": "https://localhost:8080/",
          "height": 1000
        },
        "outputId": "fe827db6-95dc-4203-80c5-724bfc52e6c7"
      },
      "source": [
        "import pandas as pd\n",
        "import numpy as np\n",
        "\n",
        "\n",
        "\n",
        "url_train = 'https://raw.githubusercontent.com/hamzi27/adv-ml-assignment1/master/train.csv'\n",
        "url_test = 'https://raw.githubusercontent.com/hamzi27/adv-ml-assignment1/master/test.csv'\n",
        "\n",
        "train = pd.read_csv(url_train)\n",
        "test = pd.read_csv(url_test)\n",
        "\n",
        "\n",
        "print(\"Training set data\")\n",
        "print(train)\n",
        "\n"
      ],
      "execution_count": 12,
      "outputs": [
        {
          "output_type": "stream",
          "text": [
            "Training set data\n",
            "       LIMIT_BAL  SEX  ...  PAY_AMT6  default.payment.next.month\n",
            "0        20000.0    2  ...       0.0                           1\n",
            "1       120000.0    2  ...    2000.0                           1\n",
            "2        90000.0    2  ...    5000.0                           0\n",
            "3        50000.0    2  ...    1000.0                           0\n",
            "4        50000.0    1  ...     679.0                           0\n",
            "5        50000.0    1  ...     800.0                           0\n",
            "6       500000.0    1  ...   13770.0                           0\n",
            "7       100000.0    2  ...    1542.0                           0\n",
            "8       140000.0    2  ...    1000.0                           0\n",
            "9        20000.0    1  ...       0.0                           0\n",
            "10      200000.0    2  ...      66.0                           0\n",
            "11      260000.0    2  ...    3640.0                           0\n",
            "12      630000.0    2  ...       0.0                           0\n",
            "13       70000.0    1  ...       0.0                           1\n",
            "14      250000.0    1  ...    3000.0                           0\n",
            "15       50000.0    2  ...    1100.0                           0\n",
            "16       20000.0    1  ...       0.0                           1\n",
            "17      320000.0    1  ...   50000.0                           0\n",
            "18      180000.0    2  ...       0.0                           0\n",
            "19      130000.0    2  ...   33764.0                           0\n",
            "20      120000.0    2  ...       0.0                           1\n",
            "21       70000.0    2  ...    1820.0                           1\n",
            "22      450000.0    2  ...    1128.0                           1\n",
            "23       90000.0    1  ...    2000.0                           0\n",
            "24       50000.0    1  ...     997.0                           0\n",
            "25       60000.0    1  ...    1000.0                           1\n",
            "26       50000.0    2  ...    1012.0                           0\n",
            "27       50000.0    2  ...       0.0                           0\n",
            "28       50000.0    1  ...       0.0                           0\n",
            "29      230000.0    2  ...       0.0                           0\n",
            "...          ...  ...  ...       ...                         ...\n",
            "26970   140000.0    1  ...    5000.0                           0\n",
            "26971   150000.0    1  ...       0.0                           1\n",
            "26972    50000.0    1  ...    1500.0                           0\n",
            "26973    20000.0    1  ...     600.0                           0\n",
            "26974   200000.0    1  ...    3000.0                           0\n",
            "26975   190000.0    1  ...    4800.0                           0\n",
            "26976   230000.0    1  ...       0.0                           1\n",
            "26977    40000.0    1  ...       0.0                           1\n",
            "26978   420000.0    1  ...    5000.0                           0\n",
            "26979   310000.0    1  ...   10059.0                           0\n",
            "26980   180000.0    1  ...       0.0                           0\n",
            "26981    50000.0    1  ...    2000.0                           0\n",
            "26982    50000.0    1  ...     585.0                           0\n",
            "26983    90000.0    1  ...       0.0                           1\n",
            "26984    20000.0    1  ...    1701.0                           0\n",
            "26985    30000.0    1  ...    1000.0                           0\n",
            "26986   240000.0    1  ...       0.0                           0\n",
            "26987   360000.0    1  ...       0.0                           0\n",
            "26988   130000.0    1  ...    4005.0                           0\n",
            "26989   250000.0    1  ...    6009.0                           0\n",
            "26990   150000.0    1  ...       0.0                           0\n",
            "26991   140000.0    1  ...    2000.0                           0\n",
            "26992   210000.0    1  ...       0.0                           1\n",
            "26993    10000.0    1  ...       0.0                           0\n",
            "26994   100000.0    1  ...    2000.0                           0\n",
            "26995    80000.0    1  ...    4000.0                           1\n",
            "26996   220000.0    1  ...    1000.0                           0\n",
            "26997   150000.0    1  ...       0.0                           0\n",
            "26998    30000.0    1  ...    3100.0                           1\n",
            "26999    80000.0    1  ...    1804.0                           1\n",
            "\n",
            "[27000 rows x 24 columns]\n"
          ],
          "name": "stdout"
        }
      ]
    }
  ]
}