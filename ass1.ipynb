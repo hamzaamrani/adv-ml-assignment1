{
  "nbformat": 4,
  "nbformat_minor": 0,
  "metadata": {
    "colab": {
      "name": "ass1.ipynb",
      "provenance": [],
      "collapsed_sections": [],
      "include_colab_link": true
    },
    "kernelspec": {
      "name": "python3",
      "display_name": "Python 3"
    }
  },
  "cells": [
    {
      "cell_type": "markdown",
      "metadata": {
        "id": "view-in-github",
        "colab_type": "text"
      },
      "source": [
        "<a href=\"https://colab.research.google.com/github/hamzi27/adv-ml-assignment1/blob/master/ass1.ipynb\" target=\"_parent\"><img src=\"https://colab.research.google.com/assets/colab-badge.svg\" alt=\"Open In Colab\"/></a>"
      ]
    },
    {
      "cell_type": "markdown",
      "metadata": {
        "id": "ABVe6x05udwR",
        "colab_type": "text"
      },
      "source": [
        "# Amrani Hamza - 807386\n",
        "\n",
        "## Load data"
      ]
    },
    {
      "cell_type": "code",
      "metadata": {
        "id": "gsPy5ahXujZt",
        "colab_type": "code",
        "outputId": "80106075-09ef-4b34-aa20-d7493e3ca931",
        "colab": {
          "base_uri": "https://localhost:8080/",
          "height": 170
        }
      },
      "source": [
        "import pandas as pd\n",
        "import numpy as np\n",
        "\n",
        "url_train = 'https://raw.githubusercontent.com/hamzi27/adv-ml-assignment1/master/train.csv'\n",
        "url_test = 'https://raw.githubusercontent.com/hamzi27/adv-ml-assignment1/master/test.csv'\n",
        "\n",
        "train = pd.read_csv(url_train)\n",
        "test = pd.read_csv(url_test)\n",
        "\n",
        "print(train.head())\n",
        "print(\"Training set data shape: \", train.shape)"
      ],
      "execution_count": 1,
      "outputs": [
        {
          "output_type": "stream",
          "text": [
            "   LIMIT_BAL  SEX  EDUCATION  ...  PAY_AMT5  PAY_AMT6  default.payment.next.month\n",
            "0    20000.0    2          2  ...       0.0       0.0                           1\n",
            "1   120000.0    2          2  ...       0.0    2000.0                           1\n",
            "2    90000.0    2          2  ...    1000.0    5000.0                           0\n",
            "3    50000.0    2          2  ...    1069.0    1000.0                           0\n",
            "4    50000.0    1          2  ...     689.0     679.0                           0\n",
            "\n",
            "[5 rows x 24 columns]\n",
            "Training set data shape:  (27000, 24)\n"
          ],
          "name": "stdout"
        }
      ]
    },
    {
      "cell_type": "markdown",
      "metadata": {
        "id": "V0a7BVVIpvzO",
        "colab_type": "text"
      },
      "source": [
        "# Analysis on data"
      ]
    },
    {
      "cell_type": "code",
      "metadata": {
        "id": "KlQ4_442smWo",
        "colab_type": "code",
        "colab": {}
      },
      "source": [
        "# !pip install -U pandas_profiling"
      ],
      "execution_count": 0,
      "outputs": []
    },
    {
      "cell_type": "code",
      "metadata": {
        "id": "62TFvroXpyiP",
        "colab_type": "code",
        "colab": {}
      },
      "source": [
        "#import pandas_profiling\n",
        "\n",
        "# train.profile_report(style={'full_width':True})\n"
      ],
      "execution_count": 0,
      "outputs": []
    },
    {
      "cell_type": "markdown",
      "metadata": {
        "id": "Cb7jLOZtuVMH",
        "colab_type": "text"
      },
      "source": [
        "# Removing columns highly correlated and duplicates rows"
      ]
    },
    {
      "cell_type": "code",
      "metadata": {
        "id": "nL_qakFeuc7N",
        "colab_type": "code",
        "outputId": "48909549-640b-4f14-dfd0-5db7a430fddb",
        "colab": {
          "base_uri": "https://localhost:8080/",
          "height": 68
        }
      },
      "source": [
        "# Drop of duplicates rows\n",
        "train = train.drop_duplicates()\n",
        "test = test.drop_duplicates()\n",
        "\n",
        "# Drop columns lowly correlated to target\n",
        "\n",
        "train.drop(columns=['AGE','EDUCATION','LIMIT_BAL','MARRIAGE','SEX','BILL_AMT1','BILL_AMT2','BILL_AMT3','BILL_AMT4','BILL_AMT5','BILL_AMT6'], axis=1, inplace=True)\n",
        "test.drop(columns=['AGE','EDUCATION','LIMIT_BAL','MARRIAGE','SEX','BILL_AMT1','BILL_AMT2','BILL_AMT3','BILL_AMT4','BILL_AMT5','BILL_AMT6'], axis=1, inplace=True)\n",
        "\n",
        "print(\"Train shape: \", train.shape)\n",
        "print(\"Number of 0: \", sum(train['default.payment.next.month']==0))\n",
        "print(\"Number of 1: \", sum(train['default.payment.next.month']==1))"
      ],
      "execution_count": 3,
      "outputs": [
        {
          "output_type": "stream",
          "text": [
            "Train shape:  (26973, 13)\n",
            "Number of 0:  21004\n",
            "Number of 1:  5969\n"
          ],
          "name": "stdout"
        }
      ]
    },
    {
      "cell_type": "markdown",
      "metadata": {
        "id": "e9YrxFoahyvI",
        "colab_type": "text"
      },
      "source": [
        "# Split train"
      ]
    },
    {
      "cell_type": "code",
      "metadata": {
        "id": "RNQk-sc-h1-A",
        "colab_type": "code",
        "outputId": "72c380f5-d1c6-497a-dbec-e2db53e6e2a9",
        "colab": {
          "base_uri": "https://localhost:8080/",
          "height": 136
        }
      },
      "source": [
        "from sklearn.model_selection import train_test_split\n",
        "\n",
        "train, validation = train_test_split( train,test_size=0.2)\n",
        "\n",
        "print(\"Train: \", train.shape)\n",
        "\n",
        "num_0 = sum(train['default.payment.next.month']==0)\n",
        "num_1 = sum(train['default.payment.next.month']==1)\n",
        "print(\"Number of 0: \", num_0)\n",
        "print(\"Number of 1: \", num_1)\n",
        "\n",
        "print(\"\\nValidation: \", validation.shape)\n",
        "print(\"Number of 0: \", sum(validation['default.payment.next.month']==0))\n",
        "print(\"Number of 1: \", sum(validation['default.payment.next.month']==1))"
      ],
      "execution_count": 4,
      "outputs": [
        {
          "output_type": "stream",
          "text": [
            "Train:  (21578, 13)\n",
            "Number of 0:  16757\n",
            "Number of 1:  4821\n",
            "\n",
            "Validation:  (5395, 13)\n",
            "Number of 0:  4247\n",
            "Number of 1:  1148\n"
          ],
          "name": "stdout"
        }
      ]
    },
    {
      "cell_type": "markdown",
      "metadata": {
        "id": "HktIjzJ01HNV",
        "colab_type": "text"
      },
      "source": [
        "# Over-sample data"
      ]
    },
    {
      "cell_type": "code",
      "metadata": {
        "id": "99ISu_VF31NH",
        "colab_type": "code",
        "outputId": "7594f7b4-5a7f-4768-871a-7f2dca9f26a2",
        "colab": {
          "base_uri": "https://localhost:8080/",
          "height": 204
        }
      },
      "source": [
        "from numpy.random import random_sample\n",
        "\n",
        "train_1 = train[train['default.payment.next.month']==1]\n",
        "\n",
        "values = [train_1[column].value_counts(normalize=True).keys().tolist() for column in train_1.columns[:-1]]\n",
        "probabilities = [train_1[column].value_counts(normalize=True).tolist() for column in train_1.columns[:-1]]\n",
        "\n",
        "verify = {}\n",
        "for index, row in train_1.iterrows():\n",
        "    verify [str(row.values)]=1\n",
        "    \n",
        "sample_rows = []\n",
        "for _ in range(num_0-num_1):\n",
        "  while True:\n",
        "    sample_row = []\n",
        "    \n",
        "    for i in range(len(values)):\n",
        "      bins = np.add.accumulate(probabilities[i])\n",
        "      sample_of_column = [values[i][n] for n in np.digitize(random_sample(1), bins)]\n",
        "      sample_row.extend(sample_of_column)\n",
        "    sample_row.extend([1])\n",
        "    \n",
        "    try:\n",
        "      verify[str(sample_row)]\n",
        "    except:\n",
        "      verify[str(sample_row)] = 1\n",
        "      break\n",
        "  \n",
        "  sample_rows.append(sample_row)\n",
        "\n",
        "train_oversample = pd.DataFrame(sample_rows, columns = train.columns) \n",
        "train = train.append(train_oversample, ignore_index=True)\n",
        "\n",
        "print(train.head())\n",
        "\n",
        "print(\"Ended over-sample on train!\")\n",
        "print(\"Number of 0: \", sum(train['default.payment.next.month']==0))\n",
        "print(\"Number of 1: \", sum(train['default.payment.next.month']==1))\n",
        "\n"
      ],
      "execution_count": 5,
      "outputs": [
        {
          "output_type": "stream",
          "text": [
            "   PAY_0  PAY_2  PAY_3  ...  PAY_AMT5  PAY_AMT6  default.payment.next.month\n",
            "0      0      0      0  ...    1600.0    2600.0                           0\n",
            "1      0      0      0  ...    4300.0    5012.0                           0\n",
            "2      0      0      0  ...   12508.0   19216.0                           0\n",
            "3      2      0      0  ...    1568.0    7400.0                           1\n",
            "4      2      0     -1  ...    2030.0       0.0                           1\n",
            "\n",
            "[5 rows x 13 columns]\n",
            "Ended over-sample on train!\n",
            "Number of 0:  16757\n",
            "Number of 1:  16757\n"
          ],
          "name": "stdout"
        }
      ]
    },
    {
      "cell_type": "markdown",
      "metadata": {
        "id": "mRRgLhpASlgK",
        "colab_type": "text"
      },
      "source": [
        "# Standardization"
      ]
    },
    {
      "cell_type": "code",
      "metadata": {
        "id": "yB7BcrYNSpgw",
        "colab_type": "code",
        "outputId": "706b15ec-8d54-4d4c-9957-10188ff11f84",
        "colab": {
          "base_uri": "https://localhost:8080/",
          "height": 68
        }
      },
      "source": [
        "from sklearn.preprocessing import StandardScaler\n",
        "from sklearn.preprocessing import LabelEncoder\n",
        "from keras.utils import np_utils\n",
        "\n",
        "def load_data(df, train=True):\n",
        "    X = df.values.copy()\n",
        "    if train:\n",
        "        np.random.shuffle(X)  \n",
        "        X, labels = X[:, 0:-1].astype(np.float32), X[:, -1]\n",
        "        return X, labels\n",
        "    else:\n",
        "        X, ids = X[:, 0:].astype(np.float32), X[:, 0].astype(str)\n",
        "        return X, ids\n",
        "\n",
        "\n",
        "def preprocess_labels(labels, encoder=None, categorical=True):\n",
        "    \"\"\"Encode labels with values among 0 and `n-classes-1`\"\"\"\n",
        "    if not encoder:\n",
        "        encoder = LabelEncoder()\n",
        "        encoder.fit(labels)\n",
        "    y = encoder.transform(labels).astype(np.int32)\n",
        "    if categorical:\n",
        "        y = np_utils.to_categorical(y)\n",
        "    return y, encoder\n",
        "  \n",
        "\n",
        "X_train, Y_train = load_data(train, train=True)\n",
        "X_val, Y_val = load_data(validation, train=True)\n",
        "X_test, Y_test = load_data(test, train=False)\n",
        "  \n",
        "scaler = StandardScaler()\n",
        "scaler.fit(X_train)\n",
        "\n",
        "X_train = scaler.transform(X_train)\n",
        "X_val = scaler.transform(X_val)\n",
        "X_test = scaler.transform(X_test)\n",
        "\n",
        "\n",
        "Y_train, encoder = preprocess_labels(Y_train)\n",
        "Y_val, encoder_val = preprocess_labels(Y_val)\n",
        "\n",
        "nb_classes = Y_train.shape[1]\n",
        "dims = X_train.shape[1]\n",
        "\n",
        "print(nb_classes, 'classes')\n",
        "print(dims, 'dims')"
      ],
      "execution_count": 6,
      "outputs": [
        {
          "output_type": "stream",
          "text": [
            "Using TensorFlow backend.\n"
          ],
          "name": "stderr"
        },
        {
          "output_type": "stream",
          "text": [
            "2 classes\n",
            "12 dims\n"
          ],
          "name": "stdout"
        }
      ]
    },
    {
      "cell_type": "markdown",
      "metadata": {
        "id": "KOsKfsy4Ta5C",
        "colab_type": "text"
      },
      "source": [
        "# Neural Network"
      ]
    },
    {
      "cell_type": "code",
      "metadata": {
        "id": "CTA4XjQwBF96",
        "colab_type": "code",
        "outputId": "60131774-9f45-47a0-f442-e69b37c3824b",
        "colab": {
          "base_uri": "https://localhost:8080/",
          "height": 190
        }
      },
      "source": [
        "pip install keras_metrics"
      ],
      "execution_count": 7,
      "outputs": [
        {
          "output_type": "stream",
          "text": [
            "Requirement already satisfied: keras_metrics in /usr/local/lib/python3.6/dist-packages (1.1.0)\n",
            "Requirement already satisfied: Keras>=2.1.5 in /usr/local/lib/python3.6/dist-packages (from keras_metrics) (2.2.5)\n",
            "Requirement already satisfied: six>=1.9.0 in /usr/local/lib/python3.6/dist-packages (from Keras>=2.1.5->keras_metrics) (1.12.0)\n",
            "Requirement already satisfied: numpy>=1.9.1 in /usr/local/lib/python3.6/dist-packages (from Keras>=2.1.5->keras_metrics) (1.16.5)\n",
            "Requirement already satisfied: keras-applications>=1.0.8 in /usr/local/lib/python3.6/dist-packages (from Keras>=2.1.5->keras_metrics) (1.0.8)\n",
            "Requirement already satisfied: keras-preprocessing>=1.1.0 in /usr/local/lib/python3.6/dist-packages (from Keras>=2.1.5->keras_metrics) (1.1.0)\n",
            "Requirement already satisfied: scipy>=0.14 in /usr/local/lib/python3.6/dist-packages (from Keras>=2.1.5->keras_metrics) (1.3.1)\n",
            "Requirement already satisfied: h5py in /usr/local/lib/python3.6/dist-packages (from Keras>=2.1.5->keras_metrics) (2.8.0)\n",
            "Requirement already satisfied: pyyaml in /usr/local/lib/python3.6/dist-packages (from Keras>=2.1.5->keras_metrics) (3.13)\n"
          ],
          "name": "stdout"
        }
      ]
    },
    {
      "cell_type": "code",
      "metadata": {
        "id": "J3OAAJsOTeyH",
        "colab_type": "code",
        "outputId": "7c50a152-3d6f-4707-944c-f1decbc54886",
        "colab": {
          "base_uri": "https://localhost:8080/",
          "height": 564
        }
      },
      "source": [
        "from keras.models import Sequential\n",
        "from keras.layers import Dense, Activation\n",
        "from keras.layers.core import Activation, Dropout\n",
        "import keras_metrics\n",
        "\n",
        "model = Sequential()\n",
        "model.add(Dense(64, activation='relu', input_shape=(dims,)))\n",
        "model.add(Dense(32, activation='relu'))\n",
        "model.add(Dense(nb_classes))\n",
        "model.add(Activation('softmax'))\n",
        "          \n",
        "model.compile(optimizer='sgd',\n",
        "              loss='binary_crossentropy',\n",
        "              metrics =[\"accuracy\", keras_metrics.binary_precision(), keras_metrics.binary_recall(), keras_metrics.binary_f1_score()])\n",
        "\n",
        "model.summary()"
      ],
      "execution_count": 8,
      "outputs": [
        {
          "output_type": "stream",
          "text": [
            "WARNING:tensorflow:From /usr/local/lib/python3.6/dist-packages/keras/backend/tensorflow_backend.py:66: The name tf.get_default_graph is deprecated. Please use tf.compat.v1.get_default_graph instead.\n",
            "\n",
            "WARNING:tensorflow:From /usr/local/lib/python3.6/dist-packages/keras/backend/tensorflow_backend.py:541: The name tf.placeholder is deprecated. Please use tf.compat.v1.placeholder instead.\n",
            "\n",
            "WARNING:tensorflow:From /usr/local/lib/python3.6/dist-packages/keras/backend/tensorflow_backend.py:4432: The name tf.random_uniform is deprecated. Please use tf.random.uniform instead.\n",
            "\n",
            "WARNING:tensorflow:From /usr/local/lib/python3.6/dist-packages/keras/optimizers.py:793: The name tf.train.Optimizer is deprecated. Please use tf.compat.v1.train.Optimizer instead.\n",
            "\n",
            "WARNING:tensorflow:From /usr/local/lib/python3.6/dist-packages/keras/backend/tensorflow_backend.py:3657: The name tf.log is deprecated. Please use tf.math.log instead.\n",
            "\n",
            "WARNING:tensorflow:From /usr/local/lib/python3.6/dist-packages/tensorflow_core/python/ops/nn_impl.py:183: where (from tensorflow.python.ops.array_ops) is deprecated and will be removed in a future version.\n",
            "Instructions for updating:\n",
            "Use tf.where in 2.0, which has the same broadcast rule as np.where\n",
            "WARNING:tensorflow:From /usr/local/lib/python3.6/dist-packages/keras/backend/tensorflow_backend.py:1033: The name tf.assign_add is deprecated. Please use tf.compat.v1.assign_add instead.\n",
            "\n",
            "Model: \"sequential_1\"\n",
            "_________________________________________________________________\n",
            "Layer (type)                 Output Shape              Param #   \n",
            "=================================================================\n",
            "dense_1 (Dense)              (None, 64)                832       \n",
            "_________________________________________________________________\n",
            "dense_2 (Dense)              (None, 32)                2080      \n",
            "_________________________________________________________________\n",
            "dense_3 (Dense)              (None, 2)                 66        \n",
            "_________________________________________________________________\n",
            "activation_1 (Activation)    (None, 2)                 0         \n",
            "=================================================================\n",
            "Total params: 2,978\n",
            "Trainable params: 2,978\n",
            "Non-trainable params: 0\n",
            "_________________________________________________________________\n"
          ],
          "name": "stdout"
        }
      ]
    },
    {
      "cell_type": "code",
      "metadata": {
        "id": "umdZhxDfC4mX",
        "colab_type": "code",
        "outputId": "882c2d70-cb44-4f0e-ab8d-63aeb8818731",
        "colab": {
          "base_uri": "https://localhost:8080/",
          "height": 1000
        }
      },
      "source": [
        "hist = model.fit(X_train, Y_train, validation_split=0.2, epochs=100, batch_size=64, verbose=True) \n"
      ],
      "execution_count": 9,
      "outputs": [
        {
          "output_type": "stream",
          "text": [
            "WARNING:tensorflow:From /usr/local/lib/python3.6/dist-packages/keras/backend/tensorflow_backend.py:1020: The name tf.assign is deprecated. Please use tf.compat.v1.assign instead.\n",
            "\n",
            "WARNING:tensorflow:From /usr/local/lib/python3.6/dist-packages/keras/backend/tensorflow_backend.py:3005: The name tf.Session is deprecated. Please use tf.compat.v1.Session instead.\n",
            "\n",
            "Train on 26811 samples, validate on 6703 samples\n",
            "WARNING:tensorflow:From /usr/local/lib/python3.6/dist-packages/keras/backend/tensorflow_backend.py:190: The name tf.get_default_session is deprecated. Please use tf.compat.v1.get_default_session instead.\n",
            "\n",
            "WARNING:tensorflow:From /usr/local/lib/python3.6/dist-packages/keras/backend/tensorflow_backend.py:197: The name tf.ConfigProto is deprecated. Please use tf.compat.v1.ConfigProto instead.\n",
            "\n",
            "WARNING:tensorflow:From /usr/local/lib/python3.6/dist-packages/keras/backend/tensorflow_backend.py:207: The name tf.global_variables is deprecated. Please use tf.compat.v1.global_variables instead.\n",
            "\n",
            "WARNING:tensorflow:From /usr/local/lib/python3.6/dist-packages/keras/backend/tensorflow_backend.py:216: The name tf.is_variable_initialized is deprecated. Please use tf.compat.v1.is_variable_initialized instead.\n",
            "\n",
            "WARNING:tensorflow:From /usr/local/lib/python3.6/dist-packages/keras/backend/tensorflow_backend.py:223: The name tf.variables_initializer is deprecated. Please use tf.compat.v1.variables_initializer instead.\n",
            "\n",
            "Epoch 1/100\n",
            "26811/26811 [==============================] - 1s 30us/step - loss: 0.5614 - acc: 0.7689 - precision: 0.7750 - recall: 0.7577 - f1_score: 0.7662 - val_loss: 0.5121 - val_acc: 0.8046 - val_precision: 0.7994 - val_recall: 0.8137 - val_f1_score: 0.8064\n",
            "Epoch 2/100\n",
            "26811/26811 [==============================] - 1s 26us/step - loss: 0.4905 - acc: 0.8006 - precision: 0.8013 - recall: 0.7993 - f1_score: 0.8003 - val_loss: 0.4694 - val_acc: 0.8099 - val_precision: 0.8134 - val_recall: 0.8047 - val_f1_score: 0.8091\n",
            "Epoch 3/100\n",
            "26811/26811 [==============================] - 1s 25us/step - loss: 0.4598 - acc: 0.8057 - precision: 0.8107 - recall: 0.7975 - f1_score: 0.8040 - val_loss: 0.4455 - val_acc: 0.8144 - val_precision: 0.8183 - val_recall: 0.8086 - val_f1_score: 0.8134\n",
            "Epoch 4/100\n",
            "26811/26811 [==============================] - 1s 25us/step - loss: 0.4425 - acc: 0.8083 - precision: 0.8137 - recall: 0.7995 - f1_score: 0.8065 - val_loss: 0.4305 - val_acc: 0.8190 - val_precision: 0.8187 - val_recall: 0.8199 - val_f1_score: 0.8193\n",
            "Epoch 5/100\n",
            "26811/26811 [==============================] - 1s 25us/step - loss: 0.4320 - acc: 0.8129 - precision: 0.8130 - recall: 0.8127 - f1_score: 0.8128 - val_loss: 0.4214 - val_acc: 0.8240 - val_precision: 0.8253 - val_recall: 0.8223 - val_f1_score: 0.8238\n",
            "Epoch 6/100\n",
            "26811/26811 [==============================] - 1s 25us/step - loss: 0.4254 - acc: 0.8158 - precision: 0.8143 - recall: 0.8180 - f1_score: 0.8162 - val_loss: 0.4157 - val_acc: 0.8249 - val_precision: 0.8210 - val_recall: 0.8312 - val_f1_score: 0.8261\n",
            "Epoch 7/100\n",
            "26811/26811 [==============================] - 1s 26us/step - loss: 0.4210 - acc: 0.8174 - precision: 0.8140 - recall: 0.8227 - f1_score: 0.8183 - val_loss: 0.4107 - val_acc: 0.8271 - val_precision: 0.8262 - val_recall: 0.8289 - val_f1_score: 0.8275\n",
            "Epoch 8/100\n",
            "26811/26811 [==============================] - 1s 26us/step - loss: 0.4176 - acc: 0.8190 - precision: 0.8161 - recall: 0.8234 - f1_score: 0.8197 - val_loss: 0.4069 - val_acc: 0.8287 - val_precision: 0.8265 - val_recall: 0.8324 - val_f1_score: 0.8295\n",
            "Epoch 9/100\n",
            "26811/26811 [==============================] - 1s 26us/step - loss: 0.4147 - acc: 0.8202 - precision: 0.8173 - recall: 0.8248 - f1_score: 0.8210 - val_loss: 0.4045 - val_acc: 0.8290 - val_precision: 0.8257 - val_recall: 0.8345 - val_f1_score: 0.8301\n",
            "Epoch 10/100\n",
            "26811/26811 [==============================] - 1s 26us/step - loss: 0.4123 - acc: 0.8225 - precision: 0.8198 - recall: 0.8265 - f1_score: 0.8232 - val_loss: 0.4022 - val_acc: 0.8283 - val_precision: 0.8199 - val_recall: 0.8417 - val_f1_score: 0.8307\n",
            "Epoch 11/100\n",
            "26811/26811 [==============================] - 1s 26us/step - loss: 0.4104 - acc: 0.8231 - precision: 0.8196 - recall: 0.8286 - f1_score: 0.8241 - val_loss: 0.3995 - val_acc: 0.8286 - val_precision: 0.8230 - val_recall: 0.8375 - val_f1_score: 0.8302\n",
            "Epoch 12/100\n",
            "26811/26811 [==============================] - 1s 26us/step - loss: 0.4086 - acc: 0.8235 - precision: 0.8200 - recall: 0.8291 - f1_score: 0.8245 - val_loss: 0.3977 - val_acc: 0.8301 - val_precision: 0.8230 - val_recall: 0.8414 - val_f1_score: 0.8321\n",
            "Epoch 13/100\n",
            "26811/26811 [==============================] - 1s 26us/step - loss: 0.4067 - acc: 0.8247 - precision: 0.8206 - recall: 0.8309 - f1_score: 0.8258 - val_loss: 0.3956 - val_acc: 0.8320 - val_precision: 0.8275 - val_recall: 0.8393 - val_f1_score: 0.8333\n",
            "Epoch 14/100\n",
            "26811/26811 [==============================] - 1s 26us/step - loss: 0.4051 - acc: 0.8260 - precision: 0.8217 - recall: 0.8326 - f1_score: 0.8271 - val_loss: 0.3944 - val_acc: 0.8313 - val_precision: 0.8226 - val_recall: 0.8450 - val_f1_score: 0.8337\n",
            "Epoch 15/100\n",
            "26811/26811 [==============================] - 1s 26us/step - loss: 0.4036 - acc: 0.8267 - precision: 0.8208 - recall: 0.8357 - f1_score: 0.8282 - val_loss: 0.3929 - val_acc: 0.8331 - val_precision: 0.8270 - val_recall: 0.8426 - val_f1_score: 0.8347\n",
            "Epoch 16/100\n",
            "26811/26811 [==============================] - 1s 25us/step - loss: 0.4022 - acc: 0.8260 - precision: 0.8220 - recall: 0.8321 - f1_score: 0.8270 - val_loss: 0.3927 - val_acc: 0.8332 - val_precision: 0.8174 - val_recall: 0.8584 - val_f1_score: 0.8374\n",
            "Epoch 17/100\n",
            "26811/26811 [==============================] - 1s 25us/step - loss: 0.4010 - acc: 0.8281 - precision: 0.8219 - recall: 0.8377 - f1_score: 0.8297 - val_loss: 0.3904 - val_acc: 0.8341 - val_precision: 0.8194 - val_recall: 0.8575 - val_f1_score: 0.8380\n",
            "Epoch 18/100\n",
            "26811/26811 [==============================] - 1s 26us/step - loss: 0.3994 - acc: 0.8290 - precision: 0.8209 - recall: 0.8415 - f1_score: 0.8311 - val_loss: 0.3894 - val_acc: 0.8350 - val_precision: 0.8269 - val_recall: 0.8476 - val_f1_score: 0.8372\n",
            "Epoch 19/100\n",
            "26811/26811 [==============================] - 1s 26us/step - loss: 0.3982 - acc: 0.8303 - precision: 0.8223 - recall: 0.8425 - f1_score: 0.8323 - val_loss: 0.3883 - val_acc: 0.8372 - val_precision: 0.8385 - val_recall: 0.8357 - val_f1_score: 0.8371\n",
            "Epoch 20/100\n",
            "26811/26811 [==============================] - 1s 26us/step - loss: 0.3973 - acc: 0.8313 - precision: 0.8224 - recall: 0.8450 - f1_score: 0.8335 - val_loss: 0.3863 - val_acc: 0.8368 - val_precision: 0.8268 - val_recall: 0.8524 - val_f1_score: 0.8394\n",
            "Epoch 21/100\n",
            "26811/26811 [==============================] - 1s 26us/step - loss: 0.3959 - acc: 0.8333 - precision: 0.8239 - recall: 0.8477 - f1_score: 0.8356 - val_loss: 0.3857 - val_acc: 0.8372 - val_precision: 0.8247 - val_recall: 0.8569 - val_f1_score: 0.8405\n",
            "Epoch 22/100\n",
            "26811/26811 [==============================] - 1s 26us/step - loss: 0.3948 - acc: 0.8333 - precision: 0.8227 - recall: 0.8497 - f1_score: 0.8359 - val_loss: 0.3846 - val_acc: 0.8398 - val_precision: 0.8233 - val_recall: 0.8655 - val_f1_score: 0.8439\n",
            "Epoch 23/100\n",
            "26811/26811 [==============================] - 1s 26us/step - loss: 0.3937 - acc: 0.8342 - precision: 0.8219 - recall: 0.8532 - f1_score: 0.8373 - val_loss: 0.3843 - val_acc: 0.8408 - val_precision: 0.8337 - val_recall: 0.8518 - val_f1_score: 0.8426\n",
            "Epoch 24/100\n",
            "26811/26811 [==============================] - 1s 26us/step - loss: 0.3925 - acc: 0.8357 - precision: 0.8241 - recall: 0.8535 - f1_score: 0.8386 - val_loss: 0.3839 - val_acc: 0.8411 - val_precision: 0.8189 - val_recall: 0.8763 - val_f1_score: 0.8466\n",
            "Epoch 25/100\n",
            "26811/26811 [==============================] - 1s 26us/step - loss: 0.3917 - acc: 0.8361 - precision: 0.8217 - recall: 0.8584 - f1_score: 0.8397 - val_loss: 0.3817 - val_acc: 0.8410 - val_precision: 0.8221 - val_recall: 0.8706 - val_f1_score: 0.8456\n",
            "Epoch 26/100\n",
            "26811/26811 [==============================] - 1s 26us/step - loss: 0.3905 - acc: 0.8382 - precision: 0.8229 - recall: 0.8619 - f1_score: 0.8419 - val_loss: 0.3809 - val_acc: 0.8422 - val_precision: 0.8260 - val_recall: 0.8673 - val_f1_score: 0.8461\n",
            "Epoch 27/100\n",
            "26811/26811 [==============================] - 1s 26us/step - loss: 0.3897 - acc: 0.8373 - precision: 0.8226 - recall: 0.8600 - f1_score: 0.8409 - val_loss: 0.3803 - val_acc: 0.8432 - val_precision: 0.8219 - val_recall: 0.8766 - val_f1_score: 0.8484\n",
            "Epoch 28/100\n",
            "26811/26811 [==============================] - 1s 26us/step - loss: 0.3891 - acc: 0.8383 - precision: 0.8217 - recall: 0.8641 - f1_score: 0.8424 - val_loss: 0.3791 - val_acc: 0.8454 - val_precision: 0.8278 - val_recall: 0.8727 - val_f1_score: 0.8496\n",
            "Epoch 29/100\n",
            "26811/26811 [==============================] - 1s 26us/step - loss: 0.3882 - acc: 0.8388 - precision: 0.8226 - recall: 0.8638 - f1_score: 0.8427 - val_loss: 0.3789 - val_acc: 0.8434 - val_precision: 0.8223 - val_recall: 0.8763 - val_f1_score: 0.8484\n",
            "Epoch 30/100\n",
            "26811/26811 [==============================] - 1s 26us/step - loss: 0.3873 - acc: 0.8402 - precision: 0.8221 - recall: 0.8682 - f1_score: 0.8445 - val_loss: 0.3780 - val_acc: 0.8453 - val_precision: 0.8305 - val_recall: 0.8679 - val_f1_score: 0.8488\n",
            "Epoch 31/100\n",
            "26811/26811 [==============================] - 1s 26us/step - loss: 0.3865 - acc: 0.8406 - precision: 0.8236 - recall: 0.8667 - f1_score: 0.8446 - val_loss: 0.3780 - val_acc: 0.8435 - val_precision: 0.8193 - val_recall: 0.8816 - val_f1_score: 0.8493\n",
            "Epoch 32/100\n",
            "26811/26811 [==============================] - 1s 26us/step - loss: 0.3857 - acc: 0.8409 - precision: 0.8228 - recall: 0.8690 - f1_score: 0.8452 - val_loss: 0.3771 - val_acc: 0.8454 - val_precision: 0.8287 - val_recall: 0.8712 - val_f1_score: 0.8494\n",
            "Epoch 33/100\n",
            "26811/26811 [==============================] - 1s 26us/step - loss: 0.3849 - acc: 0.8404 - precision: 0.8226 - recall: 0.8679 - f1_score: 0.8446 - val_loss: 0.3753 - val_acc: 0.8459 - val_precision: 0.8281 - val_recall: 0.8733 - val_f1_score: 0.8501\n",
            "Epoch 34/100\n",
            "26811/26811 [==============================] - 1s 26us/step - loss: 0.3841 - acc: 0.8421 - precision: 0.8234 - recall: 0.8708 - f1_score: 0.8465 - val_loss: 0.3755 - val_acc: 0.8474 - val_precision: 0.8342 - val_recall: 0.8673 - val_f1_score: 0.8505\n",
            "Epoch 35/100\n",
            "26811/26811 [==============================] - 1s 26us/step - loss: 0.3831 - acc: 0.8417 - precision: 0.8238 - recall: 0.8692 - f1_score: 0.8459 - val_loss: 0.3749 - val_acc: 0.8448 - val_precision: 0.8221 - val_recall: 0.8804 - val_f1_score: 0.8503\n",
            "Epoch 36/100\n",
            "26811/26811 [==============================] - 1s 26us/step - loss: 0.3828 - acc: 0.8424 - precision: 0.8226 - recall: 0.8731 - f1_score: 0.8471 - val_loss: 0.3740 - val_acc: 0.8490 - val_precision: 0.8342 - val_recall: 0.8715 - val_f1_score: 0.8524\n",
            "Epoch 37/100\n",
            "26811/26811 [==============================] - 1s 26us/step - loss: 0.3819 - acc: 0.8421 - precision: 0.8233 - recall: 0.8712 - f1_score: 0.8466 - val_loss: 0.3740 - val_acc: 0.8483 - val_precision: 0.8388 - val_recall: 0.8626 - val_f1_score: 0.8505\n",
            "Epoch 38/100\n",
            "26811/26811 [==============================] - 1s 25us/step - loss: 0.3813 - acc: 0.8430 - precision: 0.8255 - recall: 0.8700 - f1_score: 0.8471 - val_loss: 0.3736 - val_acc: 0.8451 - val_precision: 0.8192 - val_recall: 0.8861 - val_f1_score: 0.8513\n",
            "Epoch 39/100\n",
            "26811/26811 [==============================] - 1s 26us/step - loss: 0.3804 - acc: 0.8426 - precision: 0.8234 - recall: 0.8723 - f1_score: 0.8471 - val_loss: 0.3719 - val_acc: 0.8489 - val_precision: 0.8298 - val_recall: 0.8781 - val_f1_score: 0.8533\n",
            "Epoch 40/100\n",
            "26811/26811 [==============================] - 1s 25us/step - loss: 0.3799 - acc: 0.8434 - precision: 0.8237 - recall: 0.8738 - f1_score: 0.8480 - val_loss: 0.3714 - val_acc: 0.8490 - val_precision: 0.8330 - val_recall: 0.8733 - val_f1_score: 0.8527\n",
            "Epoch 41/100\n",
            "26811/26811 [==============================] - 1s 25us/step - loss: 0.3793 - acc: 0.8434 - precision: 0.8236 - recall: 0.8739 - f1_score: 0.8480 - val_loss: 0.3713 - val_acc: 0.8490 - val_precision: 0.8350 - val_recall: 0.8703 - val_f1_score: 0.8523\n",
            "Epoch 42/100\n",
            "26811/26811 [==============================] - 1s 26us/step - loss: 0.3788 - acc: 0.8438 - precision: 0.8243 - recall: 0.8739 - f1_score: 0.8484 - val_loss: 0.3706 - val_acc: 0.8493 - val_precision: 0.8341 - val_recall: 0.8724 - val_f1_score: 0.8528\n",
            "Epoch 43/100\n",
            "26811/26811 [==============================] - 1s 26us/step - loss: 0.3778 - acc: 0.8439 - precision: 0.8249 - recall: 0.8732 - f1_score: 0.8483 - val_loss: 0.3701 - val_acc: 0.8489 - val_precision: 0.8313 - val_recall: 0.8757 - val_f1_score: 0.8529\n",
            "Epoch 44/100\n",
            "26811/26811 [==============================] - 1s 25us/step - loss: 0.3774 - acc: 0.8446 - precision: 0.8243 - recall: 0.8758 - f1_score: 0.8493 - val_loss: 0.3702 - val_acc: 0.8489 - val_precision: 0.8378 - val_recall: 0.8655 - val_f1_score: 0.8514\n",
            "Epoch 45/100\n",
            "26811/26811 [==============================] - 1s 25us/step - loss: 0.3768 - acc: 0.8457 - precision: 0.8255 - recall: 0.8766 - f1_score: 0.8503 - val_loss: 0.3688 - val_acc: 0.8498 - val_precision: 0.8316 - val_recall: 0.8775 - val_f1_score: 0.8539\n",
            "Epoch 46/100\n",
            "26811/26811 [==============================] - 1s 26us/step - loss: 0.3761 - acc: 0.8448 - precision: 0.8248 - recall: 0.8755 - f1_score: 0.8494 - val_loss: 0.3684 - val_acc: 0.8496 - val_precision: 0.8312 - val_recall: 0.8778 - val_f1_score: 0.8538\n",
            "Epoch 47/100\n",
            "26811/26811 [==============================] - 1s 26us/step - loss: 0.3753 - acc: 0.8454 - precision: 0.8254 - recall: 0.8761 - f1_score: 0.8500 - val_loss: 0.3697 - val_acc: 0.8499 - val_precision: 0.8405 - val_recall: 0.8640 - val_f1_score: 0.8521\n",
            "Epoch 48/100\n",
            "26811/26811 [==============================] - 1s 26us/step - loss: 0.3751 - acc: 0.8454 - precision: 0.8251 - recall: 0.8766 - f1_score: 0.8501 - val_loss: 0.3674 - val_acc: 0.8495 - val_precision: 0.8340 - val_recall: 0.8730 - val_f1_score: 0.8530\n",
            "Epoch 49/100\n",
            "26811/26811 [==============================] - 1s 25us/step - loss: 0.3746 - acc: 0.8455 - precision: 0.8247 - recall: 0.8774 - f1_score: 0.8503 - val_loss: 0.3672 - val_acc: 0.8514 - val_precision: 0.8382 - val_recall: 0.8712 - val_f1_score: 0.8544\n",
            "Epoch 50/100\n",
            "26811/26811 [==============================] - 1s 26us/step - loss: 0.3740 - acc: 0.8459 - precision: 0.8249 - recall: 0.8782 - f1_score: 0.8507 - val_loss: 0.3672 - val_acc: 0.8493 - val_precision: 0.8326 - val_recall: 0.8748 - val_f1_score: 0.8532\n",
            "Epoch 51/100\n",
            "26811/26811 [==============================] - 1s 26us/step - loss: 0.3738 - acc: 0.8456 - precision: 0.8256 - recall: 0.8764 - f1_score: 0.8502 - val_loss: 0.3666 - val_acc: 0.8496 - val_precision: 0.8277 - val_recall: 0.8834 - val_f1_score: 0.8546\n",
            "Epoch 52/100\n",
            "26811/26811 [==============================] - 1s 26us/step - loss: 0.3728 - acc: 0.8464 - precision: 0.8254 - recall: 0.8786 - f1_score: 0.8512 - val_loss: 0.3667 - val_acc: 0.8474 - val_precision: 0.8284 - val_recall: 0.8766 - val_f1_score: 0.8518\n",
            "Epoch 53/100\n",
            "26811/26811 [==============================] - 1s 26us/step - loss: 0.3729 - acc: 0.8457 - precision: 0.8240 - recall: 0.8791 - f1_score: 0.8507 - val_loss: 0.3656 - val_acc: 0.8504 - val_precision: 0.8335 - val_recall: 0.8760 - val_f1_score: 0.8542\n",
            "Epoch 54/100\n",
            "26811/26811 [==============================] - 1s 26us/step - loss: 0.3720 - acc: 0.8459 - precision: 0.8247 - recall: 0.8785 - f1_score: 0.8508 - val_loss: 0.3653 - val_acc: 0.8504 - val_precision: 0.8329 - val_recall: 0.8769 - val_f1_score: 0.8543\n",
            "Epoch 55/100\n",
            "26811/26811 [==============================] - 1s 26us/step - loss: 0.3718 - acc: 0.8462 - precision: 0.8251 - recall: 0.8786 - f1_score: 0.8510 - val_loss: 0.3660 - val_acc: 0.8496 - val_precision: 0.8282 - val_recall: 0.8825 - val_f1_score: 0.8545\n",
            "Epoch 56/100\n",
            "26811/26811 [==============================] - 1s 26us/step - loss: 0.3712 - acc: 0.8455 - precision: 0.8239 - recall: 0.8788 - f1_score: 0.8505 - val_loss: 0.3657 - val_acc: 0.8498 - val_precision: 0.8312 - val_recall: 0.8781 - val_f1_score: 0.8540\n",
            "Epoch 57/100\n",
            "26811/26811 [==============================] - 1s 26us/step - loss: 0.3706 - acc: 0.8466 - precision: 0.8252 - recall: 0.8793 - f1_score: 0.8514 - val_loss: 0.3648 - val_acc: 0.8501 - val_precision: 0.8341 - val_recall: 0.8742 - val_f1_score: 0.8537\n",
            "Epoch 58/100\n",
            "26811/26811 [==============================] - 1s 26us/step - loss: 0.3703 - acc: 0.8464 - precision: 0.8254 - recall: 0.8787 - f1_score: 0.8512 - val_loss: 0.3642 - val_acc: 0.8517 - val_precision: 0.8281 - val_recall: 0.8879 - val_f1_score: 0.8570\n",
            "Epoch 59/100\n",
            "26811/26811 [==============================] - 1s 26us/step - loss: 0.3699 - acc: 0.8470 - precision: 0.8259 - recall: 0.8794 - f1_score: 0.8518 - val_loss: 0.3654 - val_acc: 0.8480 - val_precision: 0.8205 - val_recall: 0.8912 - val_f1_score: 0.8544\n",
            "Epoch 60/100\n",
            "26811/26811 [==============================] - 1s 26us/step - loss: 0.3693 - acc: 0.8471 - precision: 0.8247 - recall: 0.8814 - f1_score: 0.8521 - val_loss: 0.3646 - val_acc: 0.8504 - val_precision: 0.8337 - val_recall: 0.8757 - val_f1_score: 0.8542\n",
            "Epoch 61/100\n",
            "26811/26811 [==============================] - 1s 26us/step - loss: 0.3691 - acc: 0.8471 - precision: 0.8250 - recall: 0.8809 - f1_score: 0.8521 - val_loss: 0.3640 - val_acc: 0.8501 - val_precision: 0.8349 - val_recall: 0.8730 - val_f1_score: 0.8535\n",
            "Epoch 62/100\n",
            "26811/26811 [==============================] - 1s 26us/step - loss: 0.3687 - acc: 0.8477 - precision: 0.8263 - recall: 0.8803 - f1_score: 0.8525 - val_loss: 0.3637 - val_acc: 0.8486 - val_precision: 0.8235 - val_recall: 0.8876 - val_f1_score: 0.8544\n",
            "Epoch 63/100\n",
            "26811/26811 [==============================] - 1s 26us/step - loss: 0.3679 - acc: 0.8483 - precision: 0.8260 - recall: 0.8823 - f1_score: 0.8532 - val_loss: 0.3637 - val_acc: 0.8486 - val_precision: 0.8200 - val_recall: 0.8936 - val_f1_score: 0.8552\n",
            "Epoch 64/100\n",
            "26811/26811 [==============================] - 1s 26us/step - loss: 0.3675 - acc: 0.8477 - precision: 0.8249 - recall: 0.8828 - f1_score: 0.8528 - val_loss: 0.3629 - val_acc: 0.8502 - val_precision: 0.8317 - val_recall: 0.8784 - val_f1_score: 0.8544\n",
            "Epoch 65/100\n",
            "26811/26811 [==============================] - 1s 26us/step - loss: 0.3672 - acc: 0.8481 - precision: 0.8266 - recall: 0.8808 - f1_score: 0.8529 - val_loss: 0.3637 - val_acc: 0.8498 - val_precision: 0.8316 - val_recall: 0.8775 - val_f1_score: 0.8539\n",
            "Epoch 66/100\n",
            "26811/26811 [==============================] - 1s 25us/step - loss: 0.3669 - acc: 0.8488 - precision: 0.8261 - recall: 0.8835 - f1_score: 0.8538 - val_loss: 0.3616 - val_acc: 0.8504 - val_precision: 0.8295 - val_recall: 0.8822 - val_f1_score: 0.8551\n",
            "Epoch 67/100\n",
            "26811/26811 [==============================] - 1s 26us/step - loss: 0.3666 - acc: 0.8486 - precision: 0.8265 - recall: 0.8823 - f1_score: 0.8535 - val_loss: 0.3624 - val_acc: 0.8495 - val_precision: 0.8215 - val_recall: 0.8933 - val_f1_score: 0.8559\n",
            "Epoch 68/100\n",
            "26811/26811 [==============================] - 1s 28us/step - loss: 0.3660 - acc: 0.8492 - precision: 0.8273 - recall: 0.8827 - f1_score: 0.8541 - val_loss: 0.3615 - val_acc: 0.8513 - val_precision: 0.8309 - val_recall: 0.8822 - val_f1_score: 0.8558\n",
            "Epoch 69/100\n",
            "26811/26811 [==============================] - 1s 28us/step - loss: 0.3655 - acc: 0.8499 - precision: 0.8274 - recall: 0.8841 - f1_score: 0.8548 - val_loss: 0.3632 - val_acc: 0.8477 - val_precision: 0.8159 - val_recall: 0.8983 - val_f1_score: 0.8551\n",
            "Epoch 70/100\n",
            "26811/26811 [==============================] - 1s 28us/step - loss: 0.3652 - acc: 0.8493 - precision: 0.8253 - recall: 0.8860 - f1_score: 0.8546 - val_loss: 0.3614 - val_acc: 0.8511 - val_precision: 0.8305 - val_recall: 0.8825 - val_f1_score: 0.8557\n",
            "Epoch 71/100\n",
            "26811/26811 [==============================] - 1s 28us/step - loss: 0.3645 - acc: 0.8501 - precision: 0.8272 - recall: 0.8850 - f1_score: 0.8551 - val_loss: 0.3620 - val_acc: 0.8508 - val_precision: 0.8314 - val_recall: 0.8804 - val_f1_score: 0.8552\n",
            "Epoch 72/100\n",
            "26811/26811 [==============================] - 1s 28us/step - loss: 0.3643 - acc: 0.8501 - precision: 0.8267 - recall: 0.8858 - f1_score: 0.8552 - val_loss: 0.3619 - val_acc: 0.8514 - val_precision: 0.8288 - val_recall: 0.8861 - val_f1_score: 0.8565\n",
            "Epoch 73/100\n",
            "26811/26811 [==============================] - 1s 28us/step - loss: 0.3638 - acc: 0.8506 - precision: 0.8272 - recall: 0.8863 - f1_score: 0.8557 - val_loss: 0.3614 - val_acc: 0.8501 - val_precision: 0.8267 - val_recall: 0.8861 - val_f1_score: 0.8554\n",
            "Epoch 74/100\n",
            "26811/26811 [==============================] - 1s 27us/step - loss: 0.3633 - acc: 0.8500 - precision: 0.8264 - recall: 0.8862 - f1_score: 0.8552 - val_loss: 0.3616 - val_acc: 0.8505 - val_precision: 0.8270 - val_recall: 0.8867 - val_f1_score: 0.8558\n",
            "Epoch 75/100\n",
            "26811/26811 [==============================] - 1s 28us/step - loss: 0.3632 - acc: 0.8513 - precision: 0.8276 - recall: 0.8874 - f1_score: 0.8565 - val_loss: 0.3603 - val_acc: 0.8489 - val_precision: 0.8269 - val_recall: 0.8828 - val_f1_score: 0.8539\n",
            "Epoch 76/100\n",
            "26811/26811 [==============================] - 1s 28us/step - loss: 0.3628 - acc: 0.8508 - precision: 0.8270 - recall: 0.8873 - f1_score: 0.8561 - val_loss: 0.3638 - val_acc: 0.8483 - val_precision: 0.8345 - val_recall: 0.8691 - val_f1_score: 0.8515\n",
            "Epoch 77/100\n",
            "26811/26811 [==============================] - 1s 27us/step - loss: 0.3623 - acc: 0.8519 - precision: 0.8289 - recall: 0.8867 - f1_score: 0.8568 - val_loss: 0.3602 - val_acc: 0.8516 - val_precision: 0.8270 - val_recall: 0.8894 - val_f1_score: 0.8571\n",
            "Epoch 78/100\n",
            "26811/26811 [==============================] - 1s 28us/step - loss: 0.3620 - acc: 0.8514 - precision: 0.8277 - recall: 0.8875 - f1_score: 0.8565 - val_loss: 0.3605 - val_acc: 0.8490 - val_precision: 0.8237 - val_recall: 0.8885 - val_f1_score: 0.8548\n",
            "Epoch 79/100\n",
            "26811/26811 [==============================] - 1s 28us/step - loss: 0.3617 - acc: 0.8518 - precision: 0.8276 - recall: 0.8887 - f1_score: 0.8571 - val_loss: 0.3592 - val_acc: 0.8502 - val_precision: 0.8235 - val_recall: 0.8918 - val_f1_score: 0.8563\n",
            "Epoch 80/100\n",
            "26811/26811 [==============================] - 1s 28us/step - loss: 0.3614 - acc: 0.8511 - precision: 0.8276 - recall: 0.8869 - f1_score: 0.8562 - val_loss: 0.3585 - val_acc: 0.8525 - val_precision: 0.8336 - val_recall: 0.8810 - val_f1_score: 0.8566\n",
            "Epoch 81/100\n",
            "26811/26811 [==============================] - 1s 28us/step - loss: 0.3608 - acc: 0.8518 - precision: 0.8288 - recall: 0.8867 - f1_score: 0.8568 - val_loss: 0.3590 - val_acc: 0.8499 - val_precision: 0.8204 - val_recall: 0.8962 - val_f1_score: 0.8567\n",
            "Epoch 82/100\n",
            "26811/26811 [==============================] - 1s 27us/step - loss: 0.3605 - acc: 0.8521 - precision: 0.8283 - recall: 0.8882 - f1_score: 0.8572 - val_loss: 0.3589 - val_acc: 0.8486 - val_precision: 0.8177 - val_recall: 0.8974 - val_f1_score: 0.8557\n",
            "Epoch 83/100\n",
            "26811/26811 [==============================] - 1s 28us/step - loss: 0.3601 - acc: 0.8520 - precision: 0.8279 - recall: 0.8888 - f1_score: 0.8573 - val_loss: 0.3590 - val_acc: 0.8501 - val_precision: 0.8235 - val_recall: 0.8915 - val_f1_score: 0.8561\n",
            "Epoch 84/100\n",
            "26811/26811 [==============================] - 1s 27us/step - loss: 0.3594 - acc: 0.8528 - precision: 0.8290 - recall: 0.8889 - f1_score: 0.8579 - val_loss: 0.3612 - val_acc: 0.8490 - val_precision: 0.8155 - val_recall: 0.9025 - val_f1_score: 0.8568\n",
            "Epoch 85/100\n",
            "26811/26811 [==============================] - 1s 27us/step - loss: 0.3593 - acc: 0.8524 - precision: 0.8282 - recall: 0.8892 - f1_score: 0.8576 - val_loss: 0.3607 - val_acc: 0.8508 - val_precision: 0.8424 - val_recall: 0.8634 - val_f1_score: 0.8528\n",
            "Epoch 86/100\n",
            "26811/26811 [==============================] - 1s 28us/step - loss: 0.3589 - acc: 0.8524 - precision: 0.8293 - recall: 0.8875 - f1_score: 0.8574 - val_loss: 0.3591 - val_acc: 0.8508 - val_precision: 0.8327 - val_recall: 0.8784 - val_f1_score: 0.8549\n",
            "Epoch 87/100\n",
            "26811/26811 [==============================] - 1s 28us/step - loss: 0.3584 - acc: 0.8531 - precision: 0.8292 - recall: 0.8894 - f1_score: 0.8582 - val_loss: 0.3590 - val_acc: 0.8517 - val_precision: 0.8258 - val_recall: 0.8918 - val_f1_score: 0.8575\n",
            "Epoch 88/100\n",
            "26811/26811 [==============================] - 1s 28us/step - loss: 0.3582 - acc: 0.8533 - precision: 0.8292 - recall: 0.8900 - f1_score: 0.8585 - val_loss: 0.3569 - val_acc: 0.8532 - val_precision: 0.8308 - val_recall: 0.8873 - val_f1_score: 0.8581\n",
            "Epoch 89/100\n",
            "26811/26811 [==============================] - 1s 28us/step - loss: 0.3578 - acc: 0.8533 - precision: 0.8286 - recall: 0.8908 - f1_score: 0.8586 - val_loss: 0.3574 - val_acc: 0.8526 - val_precision: 0.8347 - val_recall: 0.8795 - val_f1_score: 0.8566\n",
            "Epoch 90/100\n",
            "26811/26811 [==============================] - 1s 28us/step - loss: 0.3577 - acc: 0.8525 - precision: 0.8282 - recall: 0.8894 - f1_score: 0.8577 - val_loss: 0.3601 - val_acc: 0.8520 - val_precision: 0.8392 - val_recall: 0.8712 - val_f1_score: 0.8549\n",
            "Epoch 91/100\n",
            "26811/26811 [==============================] - 1s 28us/step - loss: 0.3572 - acc: 0.8543 - precision: 0.8305 - recall: 0.8901 - f1_score: 0.8593 - val_loss: 0.3573 - val_acc: 0.8490 - val_precision: 0.8199 - val_recall: 0.8948 - val_f1_score: 0.8557\n",
            "Epoch 92/100\n",
            "26811/26811 [==============================] - 1s 28us/step - loss: 0.3569 - acc: 0.8529 - precision: 0.8286 - recall: 0.8898 - f1_score: 0.8581 - val_loss: 0.3576 - val_acc: 0.8508 - val_precision: 0.8315 - val_recall: 0.8801 - val_f1_score: 0.8552\n",
            "Epoch 93/100\n",
            "26811/26811 [==============================] - 1s 28us/step - loss: 0.3566 - acc: 0.8536 - precision: 0.8291 - recall: 0.8908 - f1_score: 0.8589 - val_loss: 0.3557 - val_acc: 0.8541 - val_precision: 0.8346 - val_recall: 0.8834 - val_f1_score: 0.8583\n",
            "Epoch 94/100\n",
            "26811/26811 [==============================] - 1s 28us/step - loss: 0.3558 - acc: 0.8541 - precision: 0.8289 - recall: 0.8922 - f1_score: 0.8594 - val_loss: 0.3559 - val_acc: 0.8535 - val_precision: 0.8339 - val_recall: 0.8831 - val_f1_score: 0.8578\n",
            "Epoch 95/100\n",
            "26811/26811 [==============================] - 1s 28us/step - loss: 0.3555 - acc: 0.8539 - precision: 0.8301 - recall: 0.8899 - f1_score: 0.8589 - val_loss: 0.3564 - val_acc: 0.8501 - val_precision: 0.8213 - val_recall: 0.8951 - val_f1_score: 0.8566\n",
            "Epoch 96/100\n",
            "26811/26811 [==============================] - 1s 27us/step - loss: 0.3553 - acc: 0.8540 - precision: 0.8294 - recall: 0.8911 - f1_score: 0.8592 - val_loss: 0.3544 - val_acc: 0.8520 - val_precision: 0.8299 - val_recall: 0.8858 - val_f1_score: 0.8569\n",
            "Epoch 97/100\n",
            "26811/26811 [==============================] - 1s 27us/step - loss: 0.3550 - acc: 0.8542 - precision: 0.8298 - recall: 0.8910 - f1_score: 0.8593 - val_loss: 0.3556 - val_acc: 0.8547 - val_precision: 0.8371 - val_recall: 0.8810 - val_f1_score: 0.8585\n",
            "Epoch 98/100\n",
            "26811/26811 [==============================] - 1s 28us/step - loss: 0.3544 - acc: 0.8542 - precision: 0.8295 - recall: 0.8917 - f1_score: 0.8594 - val_loss: 0.3552 - val_acc: 0.8520 - val_precision: 0.8275 - val_recall: 0.8897 - val_f1_score: 0.8575\n",
            "Epoch 99/100\n",
            "26811/26811 [==============================] - 1s 28us/step - loss: 0.3541 - acc: 0.8542 - precision: 0.8299 - recall: 0.8911 - f1_score: 0.8594 - val_loss: 0.3559 - val_acc: 0.8499 - val_precision: 0.8197 - val_recall: 0.8974 - val_f1_score: 0.8568\n",
            "Epoch 100/100\n",
            "26811/26811 [==============================] - 1s 28us/step - loss: 0.3539 - acc: 0.8542 - precision: 0.8295 - recall: 0.8917 - f1_score: 0.8594 - val_loss: 0.3556 - val_acc: 0.8508 - val_precision: 0.8242 - val_recall: 0.8921 - val_f1_score: 0.8568\n"
          ],
          "name": "stdout"
        }
      ]
    },
    {
      "cell_type": "code",
      "metadata": {
        "id": "6xpGzBlnxyA4",
        "colab_type": "code",
        "outputId": "5fd38414-fd21-429f-f5a0-0d60774f9d40",
        "colab": {
          "base_uri": "https://localhost:8080/",
          "height": 295
        }
      },
      "source": [
        "# Plot model loss\n",
        "\n",
        "import matplotlib.pyplot as plt\n",
        "\n",
        "plt.plot(hist.history['loss'])\n",
        "plt.plot(hist.history['val_loss'])\n",
        "plt.title('Model loss')\n",
        "plt.ylabel('Loss')\n",
        "plt.xlabel('Epoch')\n",
        "plt.legend(['Train', 'Val'], loc='upper right')\n",
        "plt.show()"
      ],
      "execution_count": 10,
      "outputs": [
        {
          "output_type": "display_data",
          "data": {
            "image/png": "[encoded data removed]",
            "text/plain": [
              "<Figure size 432x288 with 1 Axes>"
            ]
          },
          "metadata": {
            "tags": []
          }
        }
      ]
    },
    {
      "cell_type": "code",
      "metadata": {
        "id": "ylOZKSEfD_5K",
        "colab_type": "code",
        "outputId": "6c0e8659-4c4c-437d-a297-a7105a257acc",
        "colab": {
          "base_uri": "https://localhost:8080/",
          "height": 295
        }
      },
      "source": [
        "# Plot model acuracy\n",
        "\n",
        "import matplotlib.pyplot as plt\n",
        "\n",
        "plt.plot(hist.history['acc'])\n",
        "plt.plot(hist.history['val_acc'])\n",
        "plt.title('Model accuracy')\n",
        "plt.ylabel('Accuracy')\n",
        "plt.xlabel('Epoch')\n",
        "plt.legend(['Train', 'Val'], loc='lower right')\n",
        "plt.show()"
      ],
      "execution_count": 11,
      "outputs": [
        {
          "output_type": "display_data",
          "data": {
            "image/png": "[encoded data removed]",
            "text/plain": [
              "<Figure size 432x288 with 1 Axes>"
            ]
          },
          "metadata": {
            "tags": []
          }
        }
      ]
    },
    {
      "cell_type": "code",
      "metadata": {
        "id": "-CIT6vRWk5Ls",
        "colab_type": "code",
        "outputId": "1da824dd-0b6f-4bb7-8cb4-b7adcfcf41e2",
        "colab": {
          "base_uri": "https://localhost:8080/",
          "height": 51
        }
      },
      "source": [
        "results = model.evaluate(X_val, Y_val)\n",
        "\n",
        "print('test loss, test acc:', results)"
      ],
      "execution_count": 12,
      "outputs": [
        {
          "output_type": "stream",
          "text": [
            "5395/5395 [==============================] - 0s 25us/step\n",
            "test loss, test acc: [0.48727703328702715, 0.7916589434882686, 0.8511355970125672, 0.8912173298589307, 0.8707153859392599]\n"
          ],
          "name": "stdout"
        }
      ]
    },
    {
      "cell_type": "code",
      "metadata": {
        "id": "kLHgr2-flkuV",
        "colab_type": "code",
        "outputId": "6f5cabfa-00d7-4419-d435-0ad4ea0f325b",
        "colab": {
          "base_uri": "https://localhost:8080/",
          "height": 187
        }
      },
      "source": [
        "from sklearn.metrics import classification_report, confusion_matrix\n",
        "\n",
        "Y_val_true = [ enc[int(max(enc))] for enc in Y_val]\n",
        "\n",
        "print( 'Classification report\\n', classification_report(Y_val_true, model.predict_classes(X_val)) )"
      ],
      "execution_count": 13,
      "outputs": [
        {
          "output_type": "stream",
          "text": [
            "Classification report\n",
            "               precision    recall  f1-score   support\n",
            "\n",
            "         0.0       0.85      0.89      0.87      4247\n",
            "         1.0       0.51      0.42      0.46      1148\n",
            "\n",
            "    accuracy                           0.79      5395\n",
            "   macro avg       0.68      0.66      0.67      5395\n",
            "weighted avg       0.78      0.79      0.78      5395\n",
            "\n"
          ],
          "name": "stdout"
        }
      ]
    },
    {
      "cell_type": "code",
      "metadata": {
        "id": "GyrMuDtYBVNO",
        "colab_type": "code",
        "outputId": "b541ab58-32ab-40fa-d197-091a85ad9ff1",
        "colab": {
          "base_uri": "https://localhost:8080/",
          "height": 34
        }
      },
      "source": [
        "# Predict on test\n",
        "\n",
        "Y_test_pred = model.predict_classes(X_test)\n",
        "print(Y_test_pred)"
      ],
      "execution_count": 14,
      "outputs": [
        {
          "output_type": "stream",
          "text": [
            "[0 0 0 ... 1 0 0]\n"
          ],
          "name": "stdout"
        }
      ]
    }
  ]
}