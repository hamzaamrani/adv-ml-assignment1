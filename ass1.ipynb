{
  "nbformat": 4,
  "nbformat_minor": 0,
  "metadata": {
    "colab": {
      "name": "ass1.ipynb",
      "provenance": [],
      "collapsed_sections": [],
      "include_colab_link": true
    },
    "kernelspec": {
      "name": "python3",
      "display_name": "Python 3"
    }
  },
  "cells": [
    {
      "cell_type": "markdown",
      "metadata": {
        "id": "view-in-github",
        "colab_type": "text"
      },
      "source": [
        "<a href=\"https://colab.research.google.com/github/hamzi27/adv-ml-assignment1/blob/master/ass1.ipynb\" target=\"_parent\"><img src=\"https://colab.research.google.com/assets/colab-badge.svg\" alt=\"Open In Colab\"/></a>"
      ]
    },
    {
      "cell_type": "markdown",
      "metadata": {
        "id": "ABVe6x05udwR",
        "colab_type": "text"
      },
      "source": [
        "# Amrani Hamza - 807386\n",
        "\n",
        "## Load data"
      ]
    },
    {
      "cell_type": "code",
      "metadata": {
        "id": "gsPy5ahXujZt",
        "colab_type": "code",
        "outputId": "83daee29-56ee-44e6-8363-aad468799524",
        "colab": {
          "base_uri": "https://localhost:8080/",
          "height": 170
        }
      },
      "source": [
        "import pandas as pd\n",
        "import numpy as np\n",
        "\n",
        "url_train = 'https://raw.githubusercontent.com/hamzi27/adv-ml-assignment1/master/train.csv'\n",
        "url_test = 'https://raw.githubusercontent.com/hamzi27/adv-ml-assignment1/master/test.csv'\n",
        "\n",
        "train = pd.read_csv(url_train)\n",
        "test = pd.read_csv(url_test)\n",
        "\n",
        "print(train.head())\n",
        "print(\"Training set data shape: \", train.shape)"
      ],
      "execution_count": 42,
      "outputs": [
        {
          "output_type": "stream",
          "text": [
            "   LIMIT_BAL  SEX  EDUCATION  ...  PAY_AMT5  PAY_AMT6  default.payment.next.month\n",
            "0    20000.0    2          2  ...       0.0       0.0                           1\n",
            "1   120000.0    2          2  ...       0.0    2000.0                           1\n",
            "2    90000.0    2          2  ...    1000.0    5000.0                           0\n",
            "3    50000.0    2          2  ...    1069.0    1000.0                           0\n",
            "4    50000.0    1          2  ...     689.0     679.0                           0\n",
            "\n",
            "[5 rows x 24 columns]\n",
            "Training set data shape:  (27000, 24)\n"
          ],
          "name": "stdout"
        }
      ]
    },
    {
      "cell_type": "markdown",
      "metadata": {
        "id": "V0a7BVVIpvzO",
        "colab_type": "text"
      },
      "source": [
        "# Analysis on data"
      ]
    },
    {
      "cell_type": "code",
      "metadata": {
        "id": "KlQ4_442smWo",
        "colab_type": "code",
        "colab": {}
      },
      "source": [
        "# !pip install -U pandas_profiling"
      ],
      "execution_count": 0,
      "outputs": []
    },
    {
      "cell_type": "code",
      "metadata": {
        "id": "62TFvroXpyiP",
        "colab_type": "code",
        "colab": {}
      },
      "source": [
        "#import pandas_profiling\n",
        "\n",
        "# train.profile_report(style={'full_width':True})\n"
      ],
      "execution_count": 0,
      "outputs": []
    },
    {
      "cell_type": "markdown",
      "metadata": {
        "id": "Cb7jLOZtuVMH",
        "colab_type": "text"
      },
      "source": [
        "# Removing columns highly correlated and duplicates rows"
      ]
    },
    {
      "cell_type": "code",
      "metadata": {
        "id": "nL_qakFeuc7N",
        "colab_type": "code",
        "outputId": "63124cf1-27c2-4db6-f061-789866b8ff14",
        "colab": {
          "base_uri": "https://localhost:8080/",
          "height": 68
        }
      },
      "source": [
        "# Drop of duplicates rows\n",
        "train = train.drop_duplicates()\n",
        "test = test.drop_duplicates()\n",
        "\n",
        "# Drop columns lowly correlated to target\n",
        "\n",
        "train.drop(columns=['AGE','EDUCATION','LIMIT_BAL','MARRIAGE','PAY_AMT1','PAY_AMT2','PAY_AMT3','PAY_AMT4',\n",
        "                    'PAY_AMT5','PAY_AMT6','SEX','BILL_AMT1','BILL_AMT2','BILL_AMT3','BILL_AMT4','BILL_AMT5','BILL_AMT6'], axis=1, inplace=True)\n",
        "test.drop(columns=['AGE','EDUCATION','LIMIT_BAL','MARRIAGE','PAY_AMT1','PAY_AMT2','PAY_AMT3','PAY_AMT4',\n",
        "                    'PAY_AMT5','PAY_AMT6','SEX','BILL_AMT1','BILL_AMT2','BILL_AMT3','BILL_AMT4','BILL_AMT5','BILL_AMT6'], axis=1, inplace=True)\n",
        "\n",
        "print(\"Train shape: \", train.shape)\n",
        "print(\"Number of 0: \", sum(train['default.payment.next.month']==0))\n",
        "print(\"Number of 1: \", sum(train['default.payment.next.month']==1))"
      ],
      "execution_count": 44,
      "outputs": [
        {
          "output_type": "stream",
          "text": [
            "Train shape:  (26973, 7)\n",
            "Number of 0:  21004\n",
            "Number of 1:  5969\n"
          ],
          "name": "stdout"
        }
      ]
    },
    {
      "cell_type": "markdown",
      "metadata": {
        "id": "e9YrxFoahyvI",
        "colab_type": "text"
      },
      "source": [
        "# Split train"
      ]
    },
    {
      "cell_type": "code",
      "metadata": {
        "id": "RNQk-sc-h1-A",
        "colab_type": "code",
        "outputId": "5c34042b-0cf7-4b78-b0b1-d8fc1cdba115",
        "colab": {
          "base_uri": "https://localhost:8080/",
          "height": 136
        }
      },
      "source": [
        "from sklearn.model_selection import train_test_split\n",
        "\n",
        "train, validation = train_test_split( train,test_size=0.2)\n",
        "\n",
        "print(\"Train: \", train.shape)\n",
        "\n",
        "num_0 = sum(train['default.payment.next.month']==0)\n",
        "num_1 = sum(train['default.payment.next.month']==1)\n",
        "print(\"Number of 0: \", num_0)\n",
        "print(\"Number of 1: \", num_1)\n",
        "\n",
        "print(\"\\nValidation: \", validation.shape)\n",
        "print(\"Number of 0: \", sum(validation['default.payment.next.month']==0))\n",
        "print(\"Number of 1: \", sum(validation['default.payment.next.month']==1))"
      ],
      "execution_count": 45,
      "outputs": [
        {
          "output_type": "stream",
          "text": [
            "Train:  (21578, 7)\n",
            "Number of 0:  16780\n",
            "Number of 1:  4798\n",
            "\n",
            "Validation:  (5395, 7)\n",
            "Number of 0:  4224\n",
            "Number of 1:  1171\n"
          ],
          "name": "stdout"
        }
      ]
    },
    {
      "cell_type": "markdown",
      "metadata": {
        "id": "HktIjzJ01HNV",
        "colab_type": "text"
      },
      "source": [
        "# Over-sample data"
      ]
    },
    {
      "cell_type": "code",
      "metadata": {
        "id": "99ISu_VF31NH",
        "colab_type": "code",
        "outputId": "d6b776af-3a86-4484-ed63-349c1c88eb23",
        "colab": {
          "base_uri": "https://localhost:8080/",
          "height": 170
        }
      },
      "source": [
        "from numpy.random import random_sample\n",
        "\n",
        "train_1 = train[train['default.payment.next.month']==1]\n",
        "\n",
        "values = [train_1[column].value_counts(normalize=True).keys().tolist() for column in train_1.columns[:-1]]\n",
        "probabilities = [train_1[column].value_counts(normalize=True).tolist() for column in train_1.columns[:-1]]\n",
        "\n",
        "verify = {}\n",
        "for index, row in train_1.iterrows():\n",
        "    verify [str(row.values)]=1\n",
        "    \n",
        "sample_rows = []\n",
        "for _ in range(num_0-num_1):\n",
        "  while True:\n",
        "    sample_row = []\n",
        "    \n",
        "    for i in range(len(values)):\n",
        "      bins = np.add.accumulate(probabilities[i])\n",
        "      sample_of_column = [values[i][n] for n in np.digitize(random_sample(1), bins)]\n",
        "      sample_row.extend(sample_of_column)\n",
        "    sample_row.extend([1])\n",
        "    \n",
        "    try:\n",
        "      verify[str(sample_row)]\n",
        "    except:\n",
        "      verify[str(sample_row)] = 1\n",
        "      break\n",
        "  \n",
        "  sample_rows.append(sample_row)\n",
        "\n",
        "train_oversample = pd.DataFrame(sample_rows, columns = train.columns) \n",
        "train = train.append(train_oversample, ignore_index=True)\n",
        "\n",
        "print(train.head())\n",
        "\n",
        "print(\"Ended over-sample on train!\")\n",
        "print(\"Number of 0: \", sum(train['default.payment.next.month']==0))\n",
        "print(\"Number of 1: \", sum(train['default.payment.next.month']==1))\n",
        "\n"
      ],
      "execution_count": 46,
      "outputs": [
        {
          "output_type": "stream",
          "text": [
            "   PAY_0  PAY_2  PAY_3  PAY_4  PAY_5  PAY_6  default.payment.next.month\n",
            "0      0      0      0      0      0      0                           0\n",
            "1      0      0      0      0      0      0                           0\n",
            "2      2     -1      0      0      0     -1                           1\n",
            "3      0      0      0     -1      0      0                           0\n",
            "4      2      2      2      2      2      2                           1\n",
            "Ended over-sample on train!\n",
            "Number of 0:  16780\n",
            "Number of 1:  16780\n"
          ],
          "name": "stdout"
        }
      ]
    },
    {
      "cell_type": "markdown",
      "metadata": {
        "id": "mRRgLhpASlgK",
        "colab_type": "text"
      },
      "source": [
        "# Standardization"
      ]
    },
    {
      "cell_type": "code",
      "metadata": {
        "id": "yB7BcrYNSpgw",
        "colab_type": "code",
        "outputId": "6dedb878-c52d-4562-a4bc-fbce521d071e",
        "colab": {
          "base_uri": "https://localhost:8080/",
          "height": 51
        }
      },
      "source": [
        "from sklearn.preprocessing import StandardScaler\n",
        "from sklearn.preprocessing import LabelEncoder\n",
        "from keras.utils import np_utils\n",
        "\n",
        "def load_data(df, train=True):\n",
        "    X = df.values.copy()\n",
        "    if train:\n",
        "        np.random.shuffle(X)  \n",
        "        X, labels = X[:, 0:-1].astype(np.float32), X[:, -1]\n",
        "        return X, labels\n",
        "    else:\n",
        "        X, ids = X[:, 0:].astype(np.float32), X[:, 0].astype(str)\n",
        "        return X, ids\n",
        "\n",
        "\n",
        "def preprocess_labels(labels, encoder=None, categorical=True):\n",
        "    \"\"\"Encode labels with values among 0 and `n-classes-1`\"\"\"\n",
        "    if not encoder:\n",
        "        encoder = LabelEncoder()\n",
        "        encoder.fit(labels)\n",
        "    y = encoder.transform(labels).astype(np.int32)\n",
        "    if categorical:\n",
        "        y = np_utils.to_categorical(y)\n",
        "    return y, encoder\n",
        "  \n",
        "\n",
        "X_train, Y_train = load_data(train, train=True)\n",
        "X_val, Y_val = load_data(train, train=True)\n",
        "X_test, Y_test = load_data(test, train=False)\n",
        "  \n",
        "scaler = StandardScaler()\n",
        "scaler.fit(X_train)\n",
        "\n",
        "X_train = scaler.transform(X_train)\n",
        "X_val = scaler.transform(X_val)\n",
        "X_test = scaler.transform(X_test)\n",
        "\n",
        "\n",
        "Y_train, encoder = preprocess_labels(Y_train)\n",
        "Y_val, encoder_val = preprocess_labels(Y_val)\n",
        "\n",
        "nb_classes = Y_train.shape[1]\n",
        "dims = X_train.shape[1]\n",
        "\n",
        "print(nb_classes, 'classes')\n",
        "print(dims, 'dims')"
      ],
      "execution_count": 47,
      "outputs": [
        {
          "output_type": "stream",
          "text": [
            "2 classes\n",
            "6 dims\n"
          ],
          "name": "stdout"
        }
      ]
    },
    {
      "cell_type": "markdown",
      "metadata": {
        "id": "KOsKfsy4Ta5C",
        "colab_type": "text"
      },
      "source": [
        "# Neural Network"
      ]
    },
    {
      "cell_type": "code",
      "metadata": {
        "id": "CTA4XjQwBF96",
        "colab_type": "code",
        "outputId": "1d0a9df8-7b0e-403e-ec77-d90b558943cd",
        "colab": {
          "base_uri": "https://localhost:8080/",
          "height": 190
        }
      },
      "source": [
        "pip install keras_metrics"
      ],
      "execution_count": 48,
      "outputs": [
        {
          "output_type": "stream",
          "text": [
            "Requirement already satisfied: keras_metrics in /usr/local/lib/python3.6/dist-packages (1.1.0)\n",
            "Requirement already satisfied: Keras>=2.1.5 in /usr/local/lib/python3.6/dist-packages (from keras_metrics) (2.2.5)\n",
            "Requirement already satisfied: six>=1.9.0 in /usr/local/lib/python3.6/dist-packages (from Keras>=2.1.5->keras_metrics) (1.12.0)\n",
            "Requirement already satisfied: keras-preprocessing>=1.1.0 in /usr/local/lib/python3.6/dist-packages (from Keras>=2.1.5->keras_metrics) (1.1.0)\n",
            "Requirement already satisfied: pyyaml in /usr/local/lib/python3.6/dist-packages (from Keras>=2.1.5->keras_metrics) (3.13)\n",
            "Requirement already satisfied: scipy>=0.14 in /usr/local/lib/python3.6/dist-packages (from Keras>=2.1.5->keras_metrics) (1.3.1)\n",
            "Requirement already satisfied: h5py in /usr/local/lib/python3.6/dist-packages (from Keras>=2.1.5->keras_metrics) (2.8.0)\n",
            "Requirement already satisfied: keras-applications>=1.0.8 in /usr/local/lib/python3.6/dist-packages (from Keras>=2.1.5->keras_metrics) (1.0.8)\n",
            "Requirement already satisfied: numpy>=1.9.1 in /usr/local/lib/python3.6/dist-packages (from Keras>=2.1.5->keras_metrics) (1.16.5)\n"
          ],
          "name": "stdout"
        }
      ]
    },
    {
      "cell_type": "code",
      "metadata": {
        "id": "J3OAAJsOTeyH",
        "colab_type": "code",
        "outputId": "09ba9164-2dab-4bbd-b5eb-c5f9d0e7d014",
        "colab": {
          "base_uri": "https://localhost:8080/",
          "height": 289
        }
      },
      "source": [
        "from keras.models import Sequential\n",
        "from keras.layers import Dense, Activation\n",
        "from keras.layers.core import Activation, Dropout\n",
        "import keras_metrics\n",
        "\n",
        "model = Sequential()\n",
        "model.add(Dense(64, activation='relu', input_shape=(dims,)))\n",
        "model.add(Dense(32, activation='relu'))\n",
        "model.add(Dense(nb_classes))\n",
        "model.add(Activation('softmax'))\n",
        "          \n",
        "model.compile(optimizer='sgd',\n",
        "              loss='binary_crossentropy',\n",
        "              metrics =[\"accuracy\", keras_metrics.binary_precision(), keras_metrics.binary_recall(), keras_metrics.binary_f1_score()])\n",
        "\n",
        "model.summary()"
      ],
      "execution_count": 49,
      "outputs": [
        {
          "output_type": "stream",
          "text": [
            "Model: \"sequential_3\"\n",
            "_________________________________________________________________\n",
            "Layer (type)                 Output Shape              Param #   \n",
            "=================================================================\n",
            "dense_7 (Dense)              (None, 64)                448       \n",
            "_________________________________________________________________\n",
            "dense_8 (Dense)              (None, 32)                2080      \n",
            "_________________________________________________________________\n",
            "dense_9 (Dense)              (None, 2)                 66        \n",
            "_________________________________________________________________\n",
            "activation_3 (Activation)    (None, 2)                 0         \n",
            "=================================================================\n",
            "Total params: 2,594\n",
            "Trainable params: 2,594\n",
            "Non-trainable params: 0\n",
            "_________________________________________________________________\n"
          ],
          "name": "stdout"
        }
      ]
    },
    {
      "cell_type": "code",
      "metadata": {
        "id": "umdZhxDfC4mX",
        "colab_type": "code",
        "outputId": "7290513b-e030-42c4-c8bd-cc4d2e87ce14",
        "colab": {
          "base_uri": "https://localhost:8080/",
          "height": 1000
        }
      },
      "source": [
        "hist = model.fit(X_train, Y_train, validation_split=0.2, epochs=100, batch_size=128, verbose=True) \n"
      ],
      "execution_count": 50,
      "outputs": [
        {
          "output_type": "stream",
          "text": [
            "Train on 26848 samples, validate on 6712 samples\n",
            "Epoch 1/100\n",
            "26848/26848 [==============================] - 1s 25us/step - loss: 0.5556 - acc: 0.7785 - precision: 0.7829 - recall: 0.7694 - f1_score: 0.7761 - val_loss: 0.5089 - val_acc: 0.8004 - val_precision: 0.7985 - val_recall: 0.8075 - val_f1_score: 0.8029\n",
            "Epoch 2/100\n",
            "26848/26848 [==============================] - 0s 16us/step - loss: 0.4804 - acc: 0.8087 - precision: 0.8087 - recall: 0.8077 - f1_score: 0.8082 - val_loss: 0.4654 - val_acc: 0.8088 - val_precision: 0.8135 - val_recall: 0.8051 - val_f1_score: 0.8093\n",
            "Epoch 3/100\n",
            "26848/26848 [==============================] - 0s 15us/step - loss: 0.4455 - acc: 0.8151 - precision: 0.8210 - recall: 0.8050 - f1_score: 0.8129 - val_loss: 0.4385 - val_acc: 0.8130 - val_precision: 0.8227 - val_recall: 0.8015 - val_f1_score: 0.8120\n",
            "Epoch 4/100\n",
            "26848/26848 [==============================] - 0s 15us/step - loss: 0.4228 - acc: 0.8185 - precision: 0.8290 - recall: 0.8016 - f1_score: 0.8151 - val_loss: 0.4208 - val_acc: 0.8151 - val_precision: 0.8321 - val_recall: 0.7930 - val_f1_score: 0.8121\n",
            "Epoch 5/100\n",
            "26848/26848 [==============================] - 0s 18us/step - loss: 0.4076 - acc: 0.8201 - precision: 0.8333 - recall: 0.7996 - f1_score: 0.8161 - val_loss: 0.4085 - val_acc: 0.8218 - val_precision: 0.8336 - val_recall: 0.8075 - val_f1_score: 0.8203\n",
            "Epoch 6/100\n",
            "26848/26848 [==============================] - 0s 15us/step - loss: 0.3970 - acc: 0.8266 - precision: 0.8351 - recall: 0.8130 - f1_score: 0.8239 - val_loss: 0.4001 - val_acc: 0.8236 - val_precision: 0.8375 - val_recall: 0.8063 - val_f1_score: 0.8216\n",
            "Epoch 7/100\n",
            "26848/26848 [==============================] - 0s 15us/step - loss: 0.3896 - acc: 0.8314 - precision: 0.8366 - recall: 0.8229 - f1_score: 0.8297 - val_loss: 0.3942 - val_acc: 0.8309 - val_precision: 0.8374 - val_recall: 0.8243 - val_f1_score: 0.8308\n",
            "Epoch 8/100\n",
            "26848/26848 [==============================] - 0s 15us/step - loss: 0.3841 - acc: 0.8332 - precision: 0.8368 - recall: 0.8272 - f1_score: 0.8319 - val_loss: 0.3900 - val_acc: 0.8315 - val_precision: 0.8378 - val_recall: 0.8252 - val_f1_score: 0.8315\n",
            "Epoch 9/100\n",
            "26848/26848 [==============================] - 0s 15us/step - loss: 0.3801 - acc: 0.8389 - precision: 0.8364 - recall: 0.8420 - f1_score: 0.8392 - val_loss: 0.3868 - val_acc: 0.8388 - val_precision: 0.8344 - val_recall: 0.8483 - val_f1_score: 0.8413\n",
            "Epoch 10/100\n",
            "26848/26848 [==============================] - 0s 15us/step - loss: 0.3771 - acc: 0.8414 - precision: 0.8337 - recall: 0.8523 - f1_score: 0.8429 - val_loss: 0.3841 - val_acc: 0.8388 - val_precision: 0.8348 - val_recall: 0.8477 - val_f1_score: 0.8412\n",
            "Epoch 11/100\n",
            "26848/26848 [==============================] - 0s 16us/step - loss: 0.3746 - acc: 0.8422 - precision: 0.8347 - recall: 0.8526 - f1_score: 0.8436 - val_loss: 0.3820 - val_acc: 0.8389 - val_precision: 0.8320 - val_recall: 0.8524 - val_f1_score: 0.8421\n",
            "Epoch 12/100\n",
            "26848/26848 [==============================] - 0s 15us/step - loss: 0.3725 - acc: 0.8420 - precision: 0.8312 - recall: 0.8575 - f1_score: 0.8441 - val_loss: 0.3801 - val_acc: 0.8395 - val_precision: 0.8308 - val_recall: 0.8557 - val_f1_score: 0.8431\n",
            "Epoch 13/100\n",
            "26848/26848 [==============================] - 0s 15us/step - loss: 0.3706 - acc: 0.8419 - precision: 0.8293 - recall: 0.8603 - f1_score: 0.8445 - val_loss: 0.3784 - val_acc: 0.8391 - val_precision: 0.8303 - val_recall: 0.8554 - val_f1_score: 0.8427\n",
            "Epoch 14/100\n",
            "26848/26848 [==============================] - 0s 15us/step - loss: 0.3689 - acc: 0.8426 - precision: 0.8288 - recall: 0.8630 - f1_score: 0.8455 - val_loss: 0.3771 - val_acc: 0.8410 - val_precision: 0.8336 - val_recall: 0.8551 - val_f1_score: 0.8442\n",
            "Epoch 15/100\n",
            "26848/26848 [==============================] - 0s 15us/step - loss: 0.3674 - acc: 0.8441 - precision: 0.8301 - recall: 0.8647 - f1_score: 0.8470 - val_loss: 0.3758 - val_acc: 0.8430 - val_precision: 0.8323 - val_recall: 0.8619 - val_f1_score: 0.8468\n",
            "Epoch 16/100\n",
            "26848/26848 [==============================] - 0s 15us/step - loss: 0.3662 - acc: 0.8452 - precision: 0.8288 - recall: 0.8695 - f1_score: 0.8486 - val_loss: 0.3746 - val_acc: 0.8437 - val_precision: 0.8312 - val_recall: 0.8654 - val_f1_score: 0.8480\n",
            "Epoch 17/100\n",
            "26848/26848 [==============================] - 0s 15us/step - loss: 0.3650 - acc: 0.8455 - precision: 0.8287 - recall: 0.8704 - f1_score: 0.8491 - val_loss: 0.3735 - val_acc: 0.8434 - val_precision: 0.8289 - val_recall: 0.8684 - val_f1_score: 0.8482\n",
            "Epoch 18/100\n",
            "26848/26848 [==============================] - 0s 15us/step - loss: 0.3640 - acc: 0.8459 - precision: 0.8267 - recall: 0.8746 - f1_score: 0.8500 - val_loss: 0.3727 - val_acc: 0.8437 - val_precision: 0.8292 - val_recall: 0.8687 - val_f1_score: 0.8485\n",
            "Epoch 19/100\n",
            "26848/26848 [==============================] - 0s 15us/step - loss: 0.3631 - acc: 0.8468 - precision: 0.8273 - recall: 0.8757 - f1_score: 0.8508 - val_loss: 0.3722 - val_acc: 0.8437 - val_precision: 0.8320 - val_recall: 0.8649 - val_f1_score: 0.8482\n",
            "Epoch 20/100\n",
            "26848/26848 [==============================] - 0s 15us/step - loss: 0.3624 - acc: 0.8478 - precision: 0.8285 - recall: 0.8766 - f1_score: 0.8519 - val_loss: 0.3715 - val_acc: 0.8434 - val_precision: 0.8284 - val_recall: 0.8693 - val_f1_score: 0.8483\n",
            "Epoch 21/100\n",
            "26848/26848 [==============================] - 0s 15us/step - loss: 0.3616 - acc: 0.8471 - precision: 0.8272 - recall: 0.8766 - f1_score: 0.8512 - val_loss: 0.3708 - val_acc: 0.8442 - val_precision: 0.8295 - val_recall: 0.8693 - val_f1_score: 0.8489\n",
            "Epoch 22/100\n",
            "26848/26848 [==============================] - 0s 15us/step - loss: 0.3609 - acc: 0.8472 - precision: 0.8270 - recall: 0.8775 - f1_score: 0.8515 - val_loss: 0.3702 - val_acc: 0.8458 - val_precision: 0.8277 - val_recall: 0.8764 - val_f1_score: 0.8513\n",
            "Epoch 23/100\n",
            "26848/26848 [==============================] - 0s 15us/step - loss: 0.3603 - acc: 0.8482 - precision: 0.8265 - recall: 0.8807 - f1_score: 0.8528 - val_loss: 0.3699 - val_acc: 0.8462 - val_precision: 0.8304 - val_recall: 0.8731 - val_f1_score: 0.8512\n",
            "Epoch 24/100\n",
            "26848/26848 [==============================] - 0s 15us/step - loss: 0.3598 - acc: 0.8484 - precision: 0.8264 - recall: 0.8813 - f1_score: 0.8530 - val_loss: 0.3694 - val_acc: 0.8461 - val_precision: 0.8292 - val_recall: 0.8746 - val_f1_score: 0.8513\n",
            "Epoch 25/100\n",
            "26848/26848 [==============================] - 0s 15us/step - loss: 0.3594 - acc: 0.8482 - precision: 0.8261 - recall: 0.8815 - f1_score: 0.8529 - val_loss: 0.3688 - val_acc: 0.8467 - val_precision: 0.8290 - val_recall: 0.8764 - val_f1_score: 0.8520\n",
            "Epoch 26/100\n",
            "26848/26848 [==============================] - 0s 15us/step - loss: 0.3589 - acc: 0.8490 - precision: 0.8272 - recall: 0.8816 - f1_score: 0.8535 - val_loss: 0.3684 - val_acc: 0.8465 - val_precision: 0.8297 - val_recall: 0.8749 - val_f1_score: 0.8517\n",
            "Epoch 27/100\n",
            "26848/26848 [==============================] - 0s 15us/step - loss: 0.3585 - acc: 0.8492 - precision: 0.8266 - recall: 0.8831 - f1_score: 0.8539 - val_loss: 0.3681 - val_acc: 0.8476 - val_precision: 0.8303 - val_recall: 0.8767 - val_f1_score: 0.8528\n",
            "Epoch 28/100\n",
            "26848/26848 [==============================] - 0s 15us/step - loss: 0.3580 - acc: 0.8494 - precision: 0.8265 - recall: 0.8838 - f1_score: 0.8542 - val_loss: 0.3678 - val_acc: 0.8482 - val_precision: 0.8305 - val_recall: 0.8784 - val_f1_score: 0.8538\n",
            "Epoch 29/100\n",
            "26848/26848 [==============================] - 0s 15us/step - loss: 0.3577 - acc: 0.8496 - precision: 0.8268 - recall: 0.8836 - f1_score: 0.8543 - val_loss: 0.3674 - val_acc: 0.8468 - val_precision: 0.8293 - val_recall: 0.8764 - val_f1_score: 0.8522\n",
            "Epoch 30/100\n",
            "26848/26848 [==============================] - 0s 15us/step - loss: 0.3572 - acc: 0.8494 - precision: 0.8266 - recall: 0.8836 - f1_score: 0.8541 - val_loss: 0.3669 - val_acc: 0.8474 - val_precision: 0.8295 - val_recall: 0.8776 - val_f1_score: 0.8528\n",
            "Epoch 31/100\n",
            "26848/26848 [==============================] - 0s 15us/step - loss: 0.3568 - acc: 0.8496 - precision: 0.8274 - recall: 0.8828 - f1_score: 0.8542 - val_loss: 0.3667 - val_acc: 0.8473 - val_precision: 0.8285 - val_recall: 0.8787 - val_f1_score: 0.8529\n",
            "Epoch 32/100\n",
            "26848/26848 [==============================] - 0s 15us/step - loss: 0.3564 - acc: 0.8498 - precision: 0.8268 - recall: 0.8842 - f1_score: 0.8545 - val_loss: 0.3668 - val_acc: 0.8476 - val_precision: 0.8338 - val_recall: 0.8710 - val_f1_score: 0.8520\n",
            "Epoch 33/100\n",
            "26848/26848 [==============================] - 0s 16us/step - loss: 0.3561 - acc: 0.8500 - precision: 0.8275 - recall: 0.8836 - f1_score: 0.8546 - val_loss: 0.3668 - val_acc: 0.8476 - val_precision: 0.8338 - val_recall: 0.8710 - val_f1_score: 0.8520\n",
            "Epoch 34/100\n",
            "26848/26848 [==============================] - 0s 15us/step - loss: 0.3558 - acc: 0.8505 - precision: 0.8282 - recall: 0.8838 - f1_score: 0.8551 - val_loss: 0.3660 - val_acc: 0.8480 - val_precision: 0.8308 - val_recall: 0.8770 - val_f1_score: 0.8532\n",
            "Epoch 35/100\n",
            "26848/26848 [==============================] - 0s 15us/step - loss: 0.3554 - acc: 0.8507 - precision: 0.8285 - recall: 0.8838 - f1_score: 0.8553 - val_loss: 0.3656 - val_acc: 0.8477 - val_precision: 0.8281 - val_recall: 0.8805 - val_f1_score: 0.8535\n",
            "Epoch 36/100\n",
            "26848/26848 [==============================] - 0s 16us/step - loss: 0.3551 - acc: 0.8503 - precision: 0.8276 - recall: 0.8843 - f1_score: 0.8550 - val_loss: 0.3656 - val_acc: 0.8488 - val_precision: 0.8308 - val_recall: 0.8787 - val_f1_score: 0.8541\n",
            "Epoch 37/100\n",
            "26848/26848 [==============================] - 0s 15us/step - loss: 0.3548 - acc: 0.8506 - precision: 0.8276 - recall: 0.8850 - f1_score: 0.8553 - val_loss: 0.3654 - val_acc: 0.8479 - val_precision: 0.8307 - val_recall: 0.8767 - val_f1_score: 0.8531\n",
            "Epoch 38/100\n",
            "26848/26848 [==============================] - 0s 15us/step - loss: 0.3544 - acc: 0.8503 - precision: 0.8278 - recall: 0.8838 - f1_score: 0.8549 - val_loss: 0.3653 - val_acc: 0.8480 - val_precision: 0.8324 - val_recall: 0.8743 - val_f1_score: 0.8529\n",
            "Epoch 39/100\n",
            "26848/26848 [==============================] - 0s 15us/step - loss: 0.3542 - acc: 0.8505 - precision: 0.8279 - recall: 0.8844 - f1_score: 0.8552 - val_loss: 0.3647 - val_acc: 0.8515 - val_precision: 0.8296 - val_recall: 0.8873 - val_f1_score: 0.8575\n",
            "Epoch 40/100\n",
            "26848/26848 [==============================] - 0s 15us/step - loss: 0.3539 - acc: 0.8513 - precision: 0.8274 - recall: 0.8872 - f1_score: 0.8562 - val_loss: 0.3643 - val_acc: 0.8531 - val_precision: 0.8313 - val_recall: 0.8888 - val_f1_score: 0.8591\n",
            "Epoch 41/100\n",
            "26848/26848 [==============================] - 0s 15us/step - loss: 0.3537 - acc: 0.8515 - precision: 0.8277 - recall: 0.8871 - f1_score: 0.8564 - val_loss: 0.3643 - val_acc: 0.8518 - val_precision: 0.8314 - val_recall: 0.8852 - val_f1_score: 0.8575\n",
            "Epoch 42/100\n",
            "26848/26848 [==============================] - 0s 16us/step - loss: 0.3534 - acc: 0.8523 - precision: 0.8278 - recall: 0.8889 - f1_score: 0.8573 - val_loss: 0.3642 - val_acc: 0.8483 - val_precision: 0.8314 - val_recall: 0.8767 - val_f1_score: 0.8534\n",
            "Epoch 43/100\n",
            "26848/26848 [==============================] - 0s 16us/step - loss: 0.3531 - acc: 0.8527 - precision: 0.8280 - recall: 0.8895 - f1_score: 0.8577 - val_loss: 0.3645 - val_acc: 0.8485 - val_precision: 0.8345 - val_recall: 0.8728 - val_f1_score: 0.8532\n",
            "Epoch 44/100\n",
            "26848/26848 [==============================] - 0s 15us/step - loss: 0.3529 - acc: 0.8522 - precision: 0.8297 - recall: 0.8858 - f1_score: 0.8568 - val_loss: 0.3636 - val_acc: 0.8525 - val_precision: 0.8311 - val_recall: 0.8876 - val_f1_score: 0.8584\n",
            "Epoch 45/100\n",
            "26848/26848 [==============================] - 0s 16us/step - loss: 0.3527 - acc: 0.8533 - precision: 0.8293 - recall: 0.8890 - f1_score: 0.8581 - val_loss: 0.3633 - val_acc: 0.8521 - val_precision: 0.8295 - val_recall: 0.8891 - val_f1_score: 0.8582\n",
            "Epoch 46/100\n",
            "26848/26848 [==============================] - 0s 16us/step - loss: 0.3524 - acc: 0.8529 - precision: 0.8273 - recall: 0.8914 - f1_score: 0.8581 - val_loss: 0.3634 - val_acc: 0.8522 - val_precision: 0.8345 - val_recall: 0.8814 - val_f1_score: 0.8573\n",
            "Epoch 47/100\n",
            "26848/26848 [==============================] - 0s 15us/step - loss: 0.3522 - acc: 0.8527 - precision: 0.8289 - recall: 0.8882 - f1_score: 0.8575 - val_loss: 0.3630 - val_acc: 0.8534 - val_precision: 0.8315 - val_recall: 0.8891 - val_f1_score: 0.8593\n",
            "Epoch 48/100\n",
            "26848/26848 [==============================] - 0s 15us/step - loss: 0.3520 - acc: 0.8528 - precision: 0.8282 - recall: 0.8897 - f1_score: 0.8578 - val_loss: 0.3627 - val_acc: 0.8528 - val_precision: 0.8306 - val_recall: 0.8891 - val_f1_score: 0.8589\n",
            "Epoch 49/100\n",
            "26848/26848 [==============================] - 0s 17us/step - loss: 0.3518 - acc: 0.8535 - precision: 0.8283 - recall: 0.8913 - f1_score: 0.8586 - val_loss: 0.3629 - val_acc: 0.8524 - val_precision: 0.8319 - val_recall: 0.8858 - val_f1_score: 0.8580\n",
            "Epoch 50/100\n",
            "26848/26848 [==============================] - 0s 15us/step - loss: 0.3516 - acc: 0.8536 - precision: 0.8287 - recall: 0.8908 - f1_score: 0.8586 - val_loss: 0.3628 - val_acc: 0.8527 - val_precision: 0.8317 - val_recall: 0.8870 - val_f1_score: 0.8585\n",
            "Epoch 51/100\n",
            "26848/26848 [==============================] - 0s 15us/step - loss: 0.3514 - acc: 0.8530 - precision: 0.8277 - recall: 0.8909 - f1_score: 0.8581 - val_loss: 0.3626 - val_acc: 0.8522 - val_precision: 0.8317 - val_recall: 0.8858 - val_f1_score: 0.8579\n",
            "Epoch 52/100\n",
            "26848/26848 [==============================] - 0s 15us/step - loss: 0.3512 - acc: 0.8542 - precision: 0.8302 - recall: 0.8898 - f1_score: 0.8590 - val_loss: 0.3621 - val_acc: 0.8537 - val_precision: 0.8307 - val_recall: 0.8912 - val_f1_score: 0.8599\n",
            "Epoch 53/100\n",
            "26848/26848 [==============================] - 0s 15us/step - loss: 0.3511 - acc: 0.8531 - precision: 0.8274 - recall: 0.8917 - f1_score: 0.8583 - val_loss: 0.3621 - val_acc: 0.8547 - val_precision: 0.8321 - val_recall: 0.8915 - val_f1_score: 0.8608\n",
            "Epoch 54/100\n",
            "26848/26848 [==============================] - 0s 16us/step - loss: 0.3508 - acc: 0.8537 - precision: 0.8283 - recall: 0.8917 - f1_score: 0.8589 - val_loss: 0.3623 - val_acc: 0.8522 - val_precision: 0.8341 - val_recall: 0.8820 - val_f1_score: 0.8574\n",
            "Epoch 55/100\n",
            "26848/26848 [==============================] - 0s 15us/step - loss: 0.3507 - acc: 0.8539 - precision: 0.8300 - recall: 0.8895 - f1_score: 0.8587 - val_loss: 0.3617 - val_acc: 0.8546 - val_precision: 0.8301 - val_recall: 0.8944 - val_f1_score: 0.8610\n",
            "Epoch 56/100\n",
            "26848/26848 [==============================] - 0s 15us/step - loss: 0.3505 - acc: 0.8539 - precision: 0.8279 - recall: 0.8928 - f1_score: 0.8592 - val_loss: 0.3619 - val_acc: 0.8528 - val_precision: 0.8332 - val_recall: 0.8849 - val_f1_score: 0.8583\n",
            "Epoch 57/100\n",
            "26848/26848 [==============================] - 0s 15us/step - loss: 0.3503 - acc: 0.8535 - precision: 0.8286 - recall: 0.8907 - f1_score: 0.8586 - val_loss: 0.3616 - val_acc: 0.8534 - val_precision: 0.8306 - val_recall: 0.8906 - val_f1_score: 0.8595\n",
            "Epoch 58/100\n",
            "26848/26848 [==============================] - 0s 15us/step - loss: 0.3501 - acc: 0.8540 - precision: 0.8276 - recall: 0.8936 - f1_score: 0.8593 - val_loss: 0.3621 - val_acc: 0.8521 - val_precision: 0.8348 - val_recall: 0.8805 - val_f1_score: 0.8571\n",
            "Epoch 59/100\n",
            "26848/26848 [==============================] - 0s 16us/step - loss: 0.3500 - acc: 0.8537 - precision: 0.8294 - recall: 0.8899 - f1_score: 0.8586 - val_loss: 0.3613 - val_acc: 0.8546 - val_precision: 0.8318 - val_recall: 0.8928 - val_f1_score: 0.8612\n",
            "Epoch 60/100\n",
            "26848/26848 [==============================] - 0s 15us/step - loss: 0.3497 - acc: 0.8547 - precision: 0.8284 - recall: 0.8940 - f1_score: 0.8599 - val_loss: 0.3617 - val_acc: 0.8522 - val_precision: 0.8341 - val_recall: 0.8820 - val_f1_score: 0.8574\n",
            "Epoch 61/100\n",
            "26848/26848 [==============================] - 0s 15us/step - loss: 0.3496 - acc: 0.8534 - precision: 0.8291 - recall: 0.8895 - f1_score: 0.8582 - val_loss: 0.3609 - val_acc: 0.8544 - val_precision: 0.8293 - val_recall: 0.8953 - val_f1_score: 0.8610\n",
            "Epoch 62/100\n",
            "26848/26848 [==============================] - 0s 15us/step - loss: 0.3494 - acc: 0.8543 - precision: 0.8286 - recall: 0.8927 - f1_score: 0.8595 - val_loss: 0.3609 - val_acc: 0.8543 - val_precision: 0.8296 - val_recall: 0.8944 - val_f1_score: 0.8608\n",
            "Epoch 63/100\n",
            "26848/26848 [==============================] - 0s 15us/step - loss: 0.3493 - acc: 0.8545 - precision: 0.8292 - recall: 0.8923 - f1_score: 0.8596 - val_loss: 0.3607 - val_acc: 0.8535 - val_precision: 0.8301 - val_recall: 0.8917 - val_f1_score: 0.8598\n",
            "Epoch 64/100\n",
            "26848/26848 [==============================] - 0s 16us/step - loss: 0.3490 - acc: 0.8554 - precision: 0.8300 - recall: 0.8933 - f1_score: 0.8605 - val_loss: 0.3608 - val_acc: 0.8550 - val_precision: 0.8291 - val_recall: 0.8971 - val_f1_score: 0.8618\n",
            "Epoch 65/100\n",
            "26848/26848 [==============================] - 0s 15us/step - loss: 0.3490 - acc: 0.8552 - precision: 0.8275 - recall: 0.8969 - f1_score: 0.8608 - val_loss: 0.3609 - val_acc: 0.8525 - val_precision: 0.8335 - val_recall: 0.8838 - val_f1_score: 0.8579\n",
            "Epoch 66/100\n",
            "26848/26848 [==============================] - 0s 15us/step - loss: 0.3488 - acc: 0.8553 - precision: 0.8300 - recall: 0.8929 - f1_score: 0.8603 - val_loss: 0.3605 - val_acc: 0.8546 - val_precision: 0.8297 - val_recall: 0.8950 - val_f1_score: 0.8611\n",
            "Epoch 67/100\n",
            "26848/26848 [==============================] - 0s 15us/step - loss: 0.3486 - acc: 0.8551 - precision: 0.8288 - recall: 0.8943 - f1_score: 0.8603 - val_loss: 0.3606 - val_acc: 0.8534 - val_precision: 0.8328 - val_recall: 0.8870 - val_f1_score: 0.8591\n",
            "Epoch 68/100\n",
            "26848/26848 [==============================] - 0s 15us/step - loss: 0.3485 - acc: 0.8555 - precision: 0.8285 - recall: 0.8960 - f1_score: 0.8609 - val_loss: 0.3605 - val_acc: 0.8527 - val_precision: 0.8326 - val_recall: 0.8855 - val_f1_score: 0.8582\n",
            "Epoch 69/100\n",
            "26848/26848 [==============================] - 0s 15us/step - loss: 0.3483 - acc: 0.8560 - precision: 0.8302 - recall: 0.8944 - f1_score: 0.8611 - val_loss: 0.3602 - val_acc: 0.8564 - val_precision: 0.8299 - val_recall: 0.8991 - val_f1_score: 0.8631\n",
            "Epoch 70/100\n",
            "26848/26848 [==============================] - 0s 15us/step - loss: 0.3483 - acc: 0.8557 - precision: 0.8278 - recall: 0.8975 - f1_score: 0.8612 - val_loss: 0.3601 - val_acc: 0.8543 - val_precision: 0.8298 - val_recall: 0.8941 - val_f1_score: 0.8608\n",
            "Epoch 71/100\n",
            "26848/26848 [==============================] - 0s 15us/step - loss: 0.3481 - acc: 0.8563 - precision: 0.8294 - recall: 0.8964 - f1_score: 0.8616 - val_loss: 0.3601 - val_acc: 0.8544 - val_precision: 0.8306 - val_recall: 0.8932 - val_f1_score: 0.8608\n",
            "Epoch 72/100\n",
            "26848/26848 [==============================] - 0s 15us/step - loss: 0.3479 - acc: 0.8560 - precision: 0.8283 - recall: 0.8974 - f1_score: 0.8615 - val_loss: 0.3602 - val_acc: 0.8534 - val_precision: 0.8339 - val_recall: 0.8852 - val_f1_score: 0.8588\n",
            "Epoch 73/100\n",
            "26848/26848 [==============================] - 0s 15us/step - loss: 0.3478 - acc: 0.8560 - precision: 0.8300 - recall: 0.8946 - f1_score: 0.8611 - val_loss: 0.3596 - val_acc: 0.8553 - val_precision: 0.8300 - val_recall: 0.8965 - val_f1_score: 0.8619\n",
            "Epoch 74/100\n",
            "26848/26848 [==============================] - 0s 15us/step - loss: 0.3476 - acc: 0.8569 - precision: 0.8289 - recall: 0.8987 - f1_score: 0.8624 - val_loss: 0.3601 - val_acc: 0.8540 - val_precision: 0.8323 - val_recall: 0.8894 - val_f1_score: 0.8599\n",
            "Epoch 75/100\n",
            "26848/26848 [==============================] - 0s 16us/step - loss: 0.3475 - acc: 0.8572 - precision: 0.8306 - recall: 0.8966 - f1_score: 0.8624 - val_loss: 0.3597 - val_acc: 0.8546 - val_precision: 0.8326 - val_recall: 0.8903 - val_f1_score: 0.8605\n",
            "Epoch 76/100\n",
            "26848/26848 [==============================] - 0s 16us/step - loss: 0.3474 - acc: 0.8564 - precision: 0.8300 - recall: 0.8957 - f1_score: 0.8616 - val_loss: 0.3595 - val_acc: 0.8556 - val_precision: 0.8313 - val_recall: 0.8950 - val_f1_score: 0.8620\n",
            "Epoch 77/100\n",
            "26848/26848 [==============================] - 0s 15us/step - loss: 0.3472 - acc: 0.8573 - precision: 0.8289 - recall: 0.8997 - f1_score: 0.8629 - val_loss: 0.3591 - val_acc: 0.8559 - val_precision: 0.8314 - val_recall: 0.8956 - val_f1_score: 0.8623\n",
            "Epoch 78/100\n",
            "26848/26848 [==============================] - 0s 15us/step - loss: 0.3471 - acc: 0.8575 - precision: 0.8296 - recall: 0.8992 - f1_score: 0.8630 - val_loss: 0.3591 - val_acc: 0.8570 - val_precision: 0.8321 - val_recall: 0.8971 - val_f1_score: 0.8634\n",
            "Epoch 79/100\n",
            "26848/26848 [==============================] - 0s 15us/step - loss: 0.3469 - acc: 0.8576 - precision: 0.8295 - recall: 0.8995 - f1_score: 0.8631 - val_loss: 0.3589 - val_acc: 0.8564 - val_precision: 0.8310 - val_recall: 0.8974 - val_f1_score: 0.8629\n",
            "Epoch 80/100\n",
            "26848/26848 [==============================] - 0s 15us/step - loss: 0.3468 - acc: 0.8575 - precision: 0.8295 - recall: 0.8993 - f1_score: 0.8630 - val_loss: 0.3589 - val_acc: 0.8568 - val_precision: 0.8310 - val_recall: 0.8986 - val_f1_score: 0.8634\n",
            "Epoch 81/100\n",
            "26848/26848 [==============================] - 0s 15us/step - loss: 0.3466 - acc: 0.8580 - precision: 0.8299 - recall: 0.8998 - f1_score: 0.8635 - val_loss: 0.3594 - val_acc: 0.8527 - val_precision: 0.8352 - val_recall: 0.8814 - val_f1_score: 0.8577\n",
            "Epoch 82/100\n",
            "26848/26848 [==============================] - 0s 15us/step - loss: 0.3465 - acc: 0.8575 - precision: 0.8297 - recall: 0.8990 - f1_score: 0.8630 - val_loss: 0.3593 - val_acc: 0.8534 - val_precision: 0.8343 - val_recall: 0.8846 - val_f1_score: 0.8587\n",
            "Epoch 83/100\n",
            "26848/26848 [==============================] - 0s 15us/step - loss: 0.3464 - acc: 0.8578 - precision: 0.8304 - recall: 0.8986 - f1_score: 0.8632 - val_loss: 0.3588 - val_acc: 0.8549 - val_precision: 0.8326 - val_recall: 0.8912 - val_f1_score: 0.8609\n",
            "Epoch 84/100\n",
            "26848/26848 [==============================] - 0s 16us/step - loss: 0.3463 - acc: 0.8575 - precision: 0.8298 - recall: 0.8988 - f1_score: 0.8629 - val_loss: 0.3590 - val_acc: 0.8537 - val_precision: 0.8342 - val_recall: 0.8855 - val_f1_score: 0.8591\n",
            "Epoch 85/100\n",
            "26848/26848 [==============================] - 0s 16us/step - loss: 0.3461 - acc: 0.8578 - precision: 0.8312 - recall: 0.8974 - f1_score: 0.8631 - val_loss: 0.3588 - val_acc: 0.8546 - val_precision: 0.8345 - val_recall: 0.8873 - val_f1_score: 0.8601\n",
            "Epoch 86/100\n",
            "26848/26848 [==============================] - 0s 15us/step - loss: 0.3459 - acc: 0.8587 - precision: 0.8325 - recall: 0.8975 - f1_score: 0.8638 - val_loss: 0.3586 - val_acc: 0.8562 - val_precision: 0.8331 - val_recall: 0.8935 - val_f1_score: 0.8623\n",
            "Epoch 87/100\n",
            "26848/26848 [==============================] - 0s 15us/step - loss: 0.3458 - acc: 0.8584 - precision: 0.8317 - recall: 0.8980 - f1_score: 0.8636 - val_loss: 0.3582 - val_acc: 0.8571 - val_precision: 0.8338 - val_recall: 0.8947 - val_f1_score: 0.8632\n",
            "Epoch 88/100\n",
            "26848/26848 [==============================] - 0s 15us/step - loss: 0.3457 - acc: 0.8583 - precision: 0.8311 - recall: 0.8988 - f1_score: 0.8636 - val_loss: 0.3582 - val_acc: 0.8565 - val_precision: 0.8329 - val_recall: 0.8947 - val_f1_score: 0.8627\n",
            "Epoch 89/100\n",
            "26848/26848 [==============================] - 0s 15us/step - loss: 0.3455 - acc: 0.8589 - precision: 0.8320 - recall: 0.8987 - f1_score: 0.8641 - val_loss: 0.3586 - val_acc: 0.8550 - val_precision: 0.8354 - val_recall: 0.8870 - val_f1_score: 0.8604\n",
            "Epoch 90/100\n",
            "26848/26848 [==============================] - 0s 15us/step - loss: 0.3456 - acc: 0.8587 - precision: 0.8317 - recall: 0.8988 - f1_score: 0.8639 - val_loss: 0.3580 - val_acc: 0.8568 - val_precision: 0.8333 - val_recall: 0.8947 - val_f1_score: 0.8629\n",
            "Epoch 91/100\n",
            "26848/26848 [==============================] - 0s 15us/step - loss: 0.3454 - acc: 0.8585 - precision: 0.8318 - recall: 0.8981 - f1_score: 0.8637 - val_loss: 0.3578 - val_acc: 0.8570 - val_precision: 0.8310 - val_recall: 0.8988 - val_f1_score: 0.8636\n",
            "Epoch 92/100\n",
            "26848/26848 [==============================] - 0s 15us/step - loss: 0.3452 - acc: 0.8582 - precision: 0.8313 - recall: 0.8980 - f1_score: 0.8634 - val_loss: 0.3577 - val_acc: 0.8571 - val_precision: 0.8312 - val_recall: 0.8988 - val_f1_score: 0.8637\n",
            "Epoch 93/100\n",
            "26848/26848 [==============================] - 0s 15us/step - loss: 0.3451 - acc: 0.8588 - precision: 0.8321 - recall: 0.8985 - f1_score: 0.8640 - val_loss: 0.3578 - val_acc: 0.8565 - val_precision: 0.8329 - val_recall: 0.8947 - val_f1_score: 0.8627\n",
            "Epoch 94/100\n",
            "26848/26848 [==============================] - 0s 15us/step - loss: 0.3450 - acc: 0.8585 - precision: 0.8315 - recall: 0.8986 - f1_score: 0.8637 - val_loss: 0.3576 - val_acc: 0.8571 - val_precision: 0.8338 - val_recall: 0.8947 - val_f1_score: 0.8632\n",
            "Epoch 95/100\n",
            "26848/26848 [==============================] - 0s 15us/step - loss: 0.3449 - acc: 0.8588 - precision: 0.8321 - recall: 0.8983 - f1_score: 0.8639 - val_loss: 0.3578 - val_acc: 0.8562 - val_precision: 0.8335 - val_recall: 0.8929 - val_f1_score: 0.8622\n",
            "Epoch 96/100\n",
            "26848/26848 [==============================] - 0s 15us/step - loss: 0.3447 - acc: 0.8585 - precision: 0.8323 - recall: 0.8972 - f1_score: 0.8635 - val_loss: 0.3577 - val_acc: 0.8568 - val_precision: 0.8344 - val_recall: 0.8929 - val_f1_score: 0.8627\n",
            "Epoch 97/100\n",
            "26848/26848 [==============================] - 0s 15us/step - loss: 0.3447 - acc: 0.8586 - precision: 0.8325 - recall: 0.8972 - f1_score: 0.8636 - val_loss: 0.3577 - val_acc: 0.8561 - val_precision: 0.8333 - val_recall: 0.8929 - val_f1_score: 0.8621\n",
            "Epoch 98/100\n",
            "26848/26848 [==============================] - 0s 15us/step - loss: 0.3446 - acc: 0.8579 - precision: 0.8313 - recall: 0.8975 - f1_score: 0.8631 - val_loss: 0.3574 - val_acc: 0.8565 - val_precision: 0.8342 - val_recall: 0.8926 - val_f1_score: 0.8624\n",
            "Epoch 99/100\n",
            "26848/26848 [==============================] - 0s 15us/step - loss: 0.3445 - acc: 0.8589 - precision: 0.8327 - recall: 0.8977 - f1_score: 0.8640 - val_loss: 0.3574 - val_acc: 0.8553 - val_precision: 0.8338 - val_recall: 0.8903 - val_f1_score: 0.8611\n",
            "Epoch 100/100\n",
            "26848/26848 [==============================] - 0s 15us/step - loss: 0.3443 - acc: 0.8586 - precision: 0.8336 - recall: 0.8956 - f1_score: 0.8635 - val_loss: 0.3571 - val_acc: 0.8570 - val_precision: 0.8339 - val_recall: 0.8941 - val_f1_score: 0.8630\n"
          ],
          "name": "stdout"
        }
      ]
    },
    {
      "cell_type": "code",
      "metadata": {
        "id": "6xpGzBlnxyA4",
        "colab_type": "code",
        "outputId": "51e9444a-2ca0-4bab-8835-2f4a8bae814f",
        "colab": {
          "base_uri": "https://localhost:8080/",
          "height": 379
        }
      },
      "source": [
        "# Plot model loss\n",
        "\n",
        "import matplotlib.pyplot as plt\n",
        "\n",
        "plt.plot(hist.history['loss'])\n",
        "plt.plot(hist.history['val_loss'])\n",
        "plt.title('Model loss')\n",
        "plt.ylabel('Loss')\n",
        "plt.xlabel('Epoch')\n",
        "plt.legend(['Train', 'Val'], loc='upper right')\n",
        "plt.show()"
      ],
      "execution_count": 51,
      "outputs": [
        {
          "output_type": "display_data",
          "data": {
            "image/png": "[encoded data removed]",
            "text/plain": [
              "<Figure size 576x396 with 1 Axes>"
            ]
          },
          "metadata": {
            "tags": []
          }
        }
      ]
    },
    {
      "cell_type": "code",
      "metadata": {
        "id": "ylOZKSEfD_5K",
        "colab_type": "code",
        "outputId": "a32c889a-c97b-4fbe-aa5f-40b5be274fd0",
        "colab": {
          "base_uri": "https://localhost:8080/",
          "height": 379
        }
      },
      "source": [
        "# Plot model acuracy\n",
        "\n",
        "import matplotlib.pyplot as plt\n",
        "\n",
        "plt.plot(hist.history['acc'])\n",
        "plt.plot(hist.history['val_acc'])\n",
        "plt.title('Model accuracy')\n",
        "plt.ylabel('Accuracy')\n",
        "plt.xlabel('Epoch')\n",
        "plt.legend(['Train', 'Val'], loc='lower right')\n",
        "plt.show()"
      ],
      "execution_count": 52,
      "outputs": [
        {
          "output_type": "display_data",
          "data": {
            "image/png": "[encoded data removed]",
            "text/plain": [
              "<Figure size 576x396 with 1 Axes>"
            ]
          },
          "metadata": {
            "tags": []
          }
        }
      ]
    },
    {
      "cell_type": "code",
      "metadata": {
        "id": "-CIT6vRWk5Ls",
        "colab_type": "code",
        "outputId": "ea4b1f5f-f4bc-450a-eca9-4850869fa68a",
        "colab": {
          "base_uri": "https://localhost:8080/",
          "height": 51
        }
      },
      "source": [
        "results = model.evaluate(X_val, Y_val)\n",
        "\n",
        "print('test loss, test acc:', results)"
      ],
      "execution_count": 53,
      "outputs": [
        {
          "output_type": "stream",
          "text": [
            "33560/33560 [==============================] - 1s 25us/step\n",
            "test loss, test acc: [0.3465448390101932, 0.8590584028747568, 0.8331674408270672, 0.8979141835464963, 0.8643299179401639]\n"
          ],
          "name": "stdout"
        }
      ]
    },
    {
      "cell_type": "code",
      "metadata": {
        "id": "kLHgr2-flkuV",
        "colab_type": "code",
        "outputId": "8f3fc60c-2712-46be-fe39-c801858b46a4",
        "colab": {
          "base_uri": "https://localhost:8080/",
          "height": 187
        }
      },
      "source": [
        "from sklearn.metrics import classification_report, confusion_matrix\n",
        "\n",
        "Y_val_true = [ enc[int(max(enc))] for enc in Y_val]\n",
        "\n",
        "print( 'Classification report\\n', classification_report(Y_val_true, model.predict_classes(X_val)) )"
      ],
      "execution_count": 54,
      "outputs": [
        {
          "output_type": "stream",
          "text": [
            "Classification report\n",
            "               precision    recall  f1-score   support\n",
            "\n",
            "         0.0       0.83      0.90      0.86     16780\n",
            "         1.0       0.89      0.82      0.85     16780\n",
            "\n",
            "    accuracy                           0.86     33560\n",
            "   macro avg       0.86      0.86      0.86     33560\n",
            "weighted avg       0.86      0.86      0.86     33560\n",
            "\n"
          ],
          "name": "stdout"
        }
      ]
    },
    {
      "cell_type": "code",
      "metadata": {
        "id": "M_ahp5YQ5Mw2",
        "colab_type": "code",
        "outputId": "50fea7cf-3c16-4cc1-dc7a-09cdc90d8a32",
        "colab": {
          "base_uri": "https://localhost:8080/",
          "height": 456
        }
      },
      "source": [
        "def plot_confusion_matrix(y_true, y_pred, classes,\n",
        "                          normalize=False,\n",
        "                          title=None,\n",
        "                          cmap=plt.cm.Blues):\n",
        "    \"\"\"\n",
        "    This function prints and plots the confusion matrix.\n",
        "    Normalization can be applied by setting `normalize=True`.\n",
        "    \"\"\"\n",
        "    if not title:\n",
        "        if normalize:\n",
        "            title = 'Normalized confusion matrix'\n",
        "        else:\n",
        "            title = 'Confusion matrix, without normalization'\n",
        "\n",
        "    # Compute confusion matrix\n",
        "    cm = confusion_matrix(y_true, y_pred)\n",
        "    # Only use the labels that appear in the data\n",
        "    #classes = classes[unique_labels(y_true, y_pred)]\n",
        "    if normalize:\n",
        "        cm = cm.astype('float') / cm.sum(axis=1)[:, np.newaxis]\n",
        "        print(\"\\nNormalized confusion matrix\")\n",
        "    else:\n",
        "        print('\\nConfusion matrix, without normalization')\n",
        "\n",
        "    fig, ax = plt.subplots()\n",
        "    im = ax.imshow(cm, interpolation='nearest', cmap=cmap)\n",
        "    ax.figure.colorbar(im, ax=ax)\n",
        "    # We want to show all ticks...\n",
        "    ax.set(xticks=np.arange(cm.shape[1]),\n",
        "           yticks=np.arange(cm.shape[0]),\n",
        "           # ... and label them with the respective list entries\n",
        "           xticklabels=classes, yticklabels=classes,\n",
        "           title=title,\n",
        "           ylabel='True label',\n",
        "           xlabel='Predicted label')\n",
        "\n",
        "    # Rotate the tick labels and set their alignment.\n",
        "    plt.setp(ax.get_xticklabels(), rotation=45, ha=\"right\",\n",
        "             rotation_mode=\"anchor\")\n",
        "\n",
        "    # Loop over data dimensions and create text annotations.\n",
        "    fmt = '.2f' if normalize else 'd'\n",
        "    thresh = cm.max() / 2.\n",
        "    for i in range(cm.shape[0]):\n",
        "        for j in range(cm.shape[1]):\n",
        "            ax.text(j, i, format(cm[i, j], fmt),\n",
        "                    ha=\"center\", va=\"center\",\n",
        "                    color=\"white\" if cm[i, j] > thresh else \"black\")\n",
        "    fig.tight_layout()\n",
        "    return ax\n",
        "\n",
        "  \n",
        "plot_confusion_matrix(Y_val_true, model.predict_classes(X_val), ['0','1'], normalize = True)\n"
      ],
      "execution_count": 55,
      "outputs": [
        {
          "output_type": "stream",
          "text": [
            "\n",
            "Normalized confusion matrix\n"
          ],
          "name": "stdout"
        },
        {
          "output_type": "execute_result",
          "data": {
            "text/plain": [
              "<matplotlib.axes._subplots.AxesSubplot at 0x7fed6201b400>"
            ]
          },
          "metadata": {
            "tags": []
          },
          "execution_count": 55
        },
        {
          "output_type": "display_data",
          "data": {
            "image/png": "[encoded data removed]",
            "text/plain": [
              "<Figure size 576x396 with 2 Axes>"
            ]
          },
          "metadata": {
            "tags": []
          }
        }
      ]
    },
    {
      "cell_type": "code",
      "metadata": {
        "id": "GyrMuDtYBVNO",
        "colab_type": "code",
        "colab": {
          "base_uri": "https://localhost:8080/",
          "height": 153
        },
        "outputId": "20384ab8-3267-43e6-eedb-d7fed8819737"
      },
      "source": [
        "# Predict on test\n",
        "\n",
        "print(X_test)\n",
        "\n",
        "Y_test_pred = model.predict_classes(X_test)\n",
        "print(Y_test_pred)"
      ],
      "execution_count": 59,
      "outputs": [
        {
          "output_type": "stream",
          "text": [
            "[[ 0.50702924 -1.4061815  -1.3463069  -1.2966547  -1.2783971  -0.61554044]\n",
            " [-0.18120492 -0.07540161 -0.05041097 -0.02476694  0.00470266  0.03363895]\n",
            " [-0.18120492 -0.07540161 -0.05041097 -0.02476694  0.00470266  0.03363895]\n",
            " ...\n",
            " [ 1.1952634  -0.07540161 -0.05041097 -0.02476694  0.00470266  1.3319978 ]\n",
            " [-1.5576732  -1.4061815  -1.3463069  -1.2966547  -1.2783971  -1.2647198 ]\n",
            " [-0.8694391  -0.74079156 -0.69835895 -0.6607108  -0.6368472  -0.61554044]]\n",
            "[0 0 0 ... 1 0 0]\n"
          ],
          "name": "stdout"
        }
      ]
    }
  ]
}