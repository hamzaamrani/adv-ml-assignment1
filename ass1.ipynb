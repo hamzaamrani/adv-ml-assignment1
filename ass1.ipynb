{
  "nbformat": 4,
  "nbformat_minor": 0,
  "metadata": {
    "colab": {
      "name": "ass1.ipynb",
      "provenance": [],
      "collapsed_sections": [],
      "toc_visible": true,
      "include_colab_link": true
    },
    "kernelspec": {
      "name": "python3",
      "display_name": "Python 3"
    }
  },
  "cells": [
    {
      "cell_type": "markdown",
      "metadata": {
        "id": "view-in-github",
        "colab_type": "text"
      },
      "source": [
        "<a href=\"https://colab.research.google.com/github/hamzi27/adv-ml-assignment1/blob/master/ass1.ipynb\" target=\"_parent\"><img src=\"https://colab.research.google.com/assets/colab-badge.svg\" alt=\"Open In Colab\"/></a>"
      ]
    },
    {
      "cell_type": "markdown",
      "metadata": {
        "id": "ABVe6x05udwR",
        "colab_type": "text"
      },
      "source": [
        "# Amrani Hamza - 807386"
      ]
    },
    {
      "cell_type": "markdown",
      "metadata": {
        "id": "ypQq2FN-rSDe",
        "colab_type": "text"
      },
      "source": [
        "# Load data"
      ]
    },
    {
      "cell_type": "code",
      "metadata": {
        "id": "gsPy5ahXujZt",
        "colab_type": "code",
        "outputId": "6ad9046b-de40-4e77-a477-3e01dea73a93",
        "colab": {
          "base_uri": "https://localhost:8080/",
          "height": 170
        }
      },
      "source": [
        "import pandas as pd\n",
        "import numpy as np\n",
        "\n",
        "url_train = 'https://raw.githubusercontent.com/hamzi27/adv-ml-assignment1/master/train.csv'\n",
        "url_test = 'https://raw.githubusercontent.com/hamzi27/adv-ml-assignment1/master/test.csv'\n",
        "\n",
        "train = pd.read_csv(url_train)\n",
        "test = pd.read_csv(url_test)\n",
        "\n",
        "print(train.head())\n",
        "print(\"Training set data shape: \", train.shape)"
      ],
      "execution_count": 1,
      "outputs": [
        {
          "output_type": "stream",
          "text": [
            "   LIMIT_BAL  SEX  EDUCATION  ...  PAY_AMT5  PAY_AMT6  default.payment.next.month\n",
            "0    20000.0    2          2  ...       0.0       0.0                           1\n",
            "1   120000.0    2          2  ...       0.0    2000.0                           1\n",
            "2    90000.0    2          2  ...    1000.0    5000.0                           0\n",
            "3    50000.0    2          2  ...    1069.0    1000.0                           0\n",
            "4    50000.0    1          2  ...     689.0     679.0                           0\n",
            "\n",
            "[5 rows x 24 columns]\n",
            "Training set data shape:  (27000, 24)\n"
          ],
          "name": "stdout"
        }
      ]
    },
    {
      "cell_type": "markdown",
      "metadata": {
        "id": "V0a7BVVIpvzO",
        "colab_type": "text"
      },
      "source": [
        "# Analysis on data"
      ]
    },
    {
      "cell_type": "code",
      "metadata": {
        "id": "KlQ4_442smWo",
        "colab_type": "code",
        "colab": {}
      },
      "source": [
        "# !pip install -U pandas_profiling"
      ],
      "execution_count": 0,
      "outputs": []
    },
    {
      "cell_type": "code",
      "metadata": {
        "id": "62TFvroXpyiP",
        "colab_type": "code",
        "colab": {}
      },
      "source": [
        "#import pandas_profiling\n",
        "\n",
        "# train.profile_report(style={'full_width':True})\n"
      ],
      "execution_count": 0,
      "outputs": []
    },
    {
      "cell_type": "markdown",
      "metadata": {
        "id": "Cb7jLOZtuVMH",
        "colab_type": "text"
      },
      "source": [
        "# Removing columns highly correlated and duplicates rows"
      ]
    },
    {
      "cell_type": "code",
      "metadata": {
        "id": "nL_qakFeuc7N",
        "colab_type": "code",
        "outputId": "ed04a66f-b806-46aa-d3e7-48ba580ec20a",
        "colab": {
          "base_uri": "https://localhost:8080/",
          "height": 68
        }
      },
      "source": [
        "# Drop of duplicates rows\n",
        "train = train.drop_duplicates()\n",
        "test = test.drop_duplicates()\n",
        "\n",
        "# Drop columns lowly correlated to target\n",
        "\n",
        "train.drop(columns=['AGE','EDUCATION','LIMIT_BAL','MARRIAGE','SEX','BILL_AMT1','BILL_AMT2','BILL_AMT3','BILL_AMT4','BILL_AMT5','BILL_AMT6'], axis=1, inplace=True)\n",
        "test.drop(columns=['AGE','EDUCATION','LIMIT_BAL','MARRIAGE','SEX','BILL_AMT1','BILL_AMT2','BILL_AMT3','BILL_AMT4','BILL_AMT5','BILL_AMT6'], axis=1, inplace=True)\n",
        "\n",
        "print(\"Train shape: \", train.shape)\n",
        "print(\"Number of 0: \", sum(train['default.payment.next.month']==0))\n",
        "print(\"Number of 1: \", sum(train['default.payment.next.month']==1))"
      ],
      "execution_count": 3,
      "outputs": [
        {
          "output_type": "stream",
          "text": [
            "Train shape:  (26973, 13)\n",
            "Number of 0:  21004\n",
            "Number of 1:  5969\n"
          ],
          "name": "stdout"
        }
      ]
    },
    {
      "cell_type": "markdown",
      "metadata": {
        "id": "e9YrxFoahyvI",
        "colab_type": "text"
      },
      "source": [
        "# Split train"
      ]
    },
    {
      "cell_type": "code",
      "metadata": {
        "id": "RNQk-sc-h1-A",
        "colab_type": "code",
        "outputId": "82fcc673-c888-41f4-ff84-ef41e1534ee3",
        "colab": {
          "base_uri": "https://localhost:8080/",
          "height": 136
        }
      },
      "source": [
        "from sklearn.model_selection import train_test_split\n",
        "\n",
        "train, validation = train_test_split( train,test_size=0.2)\n",
        "\n",
        "print(\"Train: \", train.shape)\n",
        "\n",
        "num_0 = sum(train['default.payment.next.month']==0)\n",
        "num_1 = sum(train['default.payment.next.month']==1)\n",
        "print(\"Number of 0: \", num_0)\n",
        "print(\"Number of 1: \", num_1)\n",
        "\n",
        "print(\"\\nValidation: \", validation.shape)\n",
        "print(\"Number of 0: \", sum(validation['default.payment.next.month']==0))\n",
        "print(\"Number of 1: \", sum(validation['default.payment.next.month']==1))"
      ],
      "execution_count": 4,
      "outputs": [
        {
          "output_type": "stream",
          "text": [
            "Train:  (21578, 13)\n",
            "Number of 0:  16756\n",
            "Number of 1:  4822\n",
            "\n",
            "Validation:  (5395, 13)\n",
            "Number of 0:  4248\n",
            "Number of 1:  1147\n"
          ],
          "name": "stdout"
        }
      ]
    },
    {
      "cell_type": "markdown",
      "metadata": {
        "id": "HktIjzJ01HNV",
        "colab_type": "text"
      },
      "source": [
        "# Over-sample data"
      ]
    },
    {
      "cell_type": "code",
      "metadata": {
        "id": "99ISu_VF31NH",
        "colab_type": "code",
        "outputId": "aa165440-ae28-40e8-ba66-d58f2704e458",
        "colab": {
          "base_uri": "https://localhost:8080/",
          "height": 204
        }
      },
      "source": [
        "from numpy.random import random_sample\n",
        "\n",
        "train_1 = train[train['default.payment.next.month']==1]\n",
        "\n",
        "values = [train_1[column].value_counts(normalize=True).keys().tolist() for column in train_1.columns[:-1]]\n",
        "probabilities = [train_1[column].value_counts(normalize=True).tolist() for column in train_1.columns[:-1]]\n",
        "\n",
        "verify = {}\n",
        "for index, row in train_1.iterrows():\n",
        "    verify [str(row.values)]=1\n",
        "    \n",
        "sample_rows = []\n",
        "for _ in range(num_0-num_1):\n",
        "  while True:\n",
        "    sample_row = []\n",
        "    \n",
        "    for i in range(len(values)):\n",
        "      bins = np.add.accumulate(probabilities[i])\n",
        "      sample_of_column = [values[i][n] for n in np.digitize(random_sample(1), bins)]\n",
        "      sample_row.extend(sample_of_column)\n",
        "    sample_row.extend([1])\n",
        "    \n",
        "    try:\n",
        "      verify[str(sample_row)]\n",
        "    except:\n",
        "      verify[str(sample_row)] = 1\n",
        "      break\n",
        "  \n",
        "  sample_rows.append(sample_row)\n",
        "\n",
        "train_oversample = pd.DataFrame(sample_rows, columns = train.columns) \n",
        "train = train.append(train_oversample, ignore_index=True)\n",
        "\n",
        "print(train.head())\n",
        "\n",
        "print(\"Ended over-sample on train!\")\n",
        "print(\"Number of 0: \", sum(train['default.payment.next.month']==0))\n",
        "print(\"Number of 1: \", sum(train['default.payment.next.month']==1))\n",
        "\n"
      ],
      "execution_count": 5,
      "outputs": [
        {
          "output_type": "stream",
          "text": [
            "   PAY_0  PAY_2  PAY_3  ...  PAY_AMT5  PAY_AMT6  default.payment.next.month\n",
            "0     -1     -1     -1  ...       0.0    1593.0                           0\n",
            "1      0      0      0  ...    5155.0    4145.0                           0\n",
            "2      2      2      0  ...   13600.0   13600.0                           1\n",
            "3      0     -1      0  ...    9000.0    9014.0                           0\n",
            "4      0      0      0  ...       0.0    5000.0                           0\n",
            "\n",
            "[5 rows x 13 columns]\n",
            "Ended over-sample on train!\n",
            "Number of 0:  16756\n",
            "Number of 1:  16756\n"
          ],
          "name": "stdout"
        }
      ]
    },
    {
      "cell_type": "markdown",
      "metadata": {
        "id": "mRRgLhpASlgK",
        "colab_type": "text"
      },
      "source": [
        "# Standardization"
      ]
    },
    {
      "cell_type": "code",
      "metadata": {
        "id": "yB7BcrYNSpgw",
        "colab_type": "code",
        "outputId": "5fc3fbed-20ef-4dba-f62c-4a978b395d0a",
        "colab": {
          "base_uri": "https://localhost:8080/",
          "height": 68
        }
      },
      "source": [
        "from sklearn.preprocessing import StandardScaler\n",
        "from sklearn.preprocessing import LabelEncoder\n",
        "from keras.utils import np_utils\n",
        "\n",
        "def load_data(df, train=True):\n",
        "    X = df.values.copy()\n",
        "    if train:\n",
        "        np.random.shuffle(X)  \n",
        "        X, labels = X[:, 0:-1].astype(np.float32), X[:, -1]\n",
        "        return X, labels\n",
        "    else:\n",
        "        X, ids = X[:, 0:].astype(np.float32), X[:, 0].astype(str)\n",
        "        return X, ids\n",
        "\n",
        "\n",
        "def preprocess_labels(labels, encoder=None, categorical=True):\n",
        "    \"\"\"Encode labels with values among 0 and `n-classes-1`\"\"\"\n",
        "    if not encoder:\n",
        "        encoder = LabelEncoder()\n",
        "        encoder.fit(labels)\n",
        "    y = encoder.transform(labels).astype(np.int32)\n",
        "    if categorical:\n",
        "        y = np_utils.to_categorical(y)\n",
        "    return y, encoder\n",
        "  \n",
        "\n",
        "X_train, Y_train = load_data(train, train=True)\n",
        "X_val, Y_val = load_data(validation, train=True)\n",
        "X_test, Y_test = load_data(test, train=False)\n",
        "  \n",
        "scaler = StandardScaler()\n",
        "scaler.fit(X_train)\n",
        "\n",
        "X_train = scaler.transform(X_train)\n",
        "X_val = scaler.transform(X_val)\n",
        "X_test = scaler.transform(X_test)\n",
        "\n",
        "\n",
        "Y_train, encoder = preprocess_labels(Y_train)\n",
        "Y_val, encoder_val = preprocess_labels(Y_val)\n",
        "\n",
        "nb_classes = Y_train.shape[1]\n",
        "dims = X_train.shape[1]\n",
        "\n",
        "print(nb_classes, 'classes')\n",
        "print(dims, 'dims')"
      ],
      "execution_count": 6,
      "outputs": [
        {
          "output_type": "stream",
          "text": [
            "Using TensorFlow backend.\n"
          ],
          "name": "stderr"
        },
        {
          "output_type": "stream",
          "text": [
            "2 classes\n",
            "12 dims\n"
          ],
          "name": "stdout"
        }
      ]
    },
    {
      "cell_type": "markdown",
      "metadata": {
        "id": "KOsKfsy4Ta5C",
        "colab_type": "text"
      },
      "source": [
        "# Neural Network"
      ]
    },
    {
      "cell_type": "code",
      "metadata": {
        "id": "CTA4XjQwBF96",
        "colab_type": "code",
        "outputId": "6f5ad6e8-31cc-4697-f167-483d798ae89c",
        "colab": {
          "base_uri": "https://localhost:8080/",
          "height": 190
        }
      },
      "source": [
        "pip install keras_metrics"
      ],
      "execution_count": 7,
      "outputs": [
        {
          "output_type": "stream",
          "text": [
            "Requirement already satisfied: keras_metrics in /usr/local/lib/python3.6/dist-packages (1.1.0)\n",
            "Requirement already satisfied: Keras>=2.1.5 in /usr/local/lib/python3.6/dist-packages (from keras_metrics) (2.2.5)\n",
            "Requirement already satisfied: h5py in /usr/local/lib/python3.6/dist-packages (from Keras>=2.1.5->keras_metrics) (2.8.0)\n",
            "Requirement already satisfied: numpy>=1.9.1 in /usr/local/lib/python3.6/dist-packages (from Keras>=2.1.5->keras_metrics) (1.16.5)\n",
            "Requirement already satisfied: scipy>=0.14 in /usr/local/lib/python3.6/dist-packages (from Keras>=2.1.5->keras_metrics) (1.3.1)\n",
            "Requirement already satisfied: six>=1.9.0 in /usr/local/lib/python3.6/dist-packages (from Keras>=2.1.5->keras_metrics) (1.12.0)\n",
            "Requirement already satisfied: keras-preprocessing>=1.1.0 in /usr/local/lib/python3.6/dist-packages (from Keras>=2.1.5->keras_metrics) (1.1.0)\n",
            "Requirement already satisfied: keras-applications>=1.0.8 in /usr/local/lib/python3.6/dist-packages (from Keras>=2.1.5->keras_metrics) (1.0.8)\n",
            "Requirement already satisfied: pyyaml in /usr/local/lib/python3.6/dist-packages (from Keras>=2.1.5->keras_metrics) (3.13)\n"
          ],
          "name": "stdout"
        }
      ]
    },
    {
      "cell_type": "code",
      "metadata": {
        "id": "J3OAAJsOTeyH",
        "colab_type": "code",
        "outputId": "d9e95826-4360-4486-aba8-cff1f5c9c5b3",
        "colab": {
          "base_uri": "https://localhost:8080/",
          "height": 289
        }
      },
      "source": [
        "from keras.models import Sequential\n",
        "from keras.layers import Dense, Activation\n",
        "from keras.layers.core import Activation, Dropout\n",
        "import keras_metrics\n",
        "\n",
        "model = Sequential()\n",
        "model.add(Dense(64, activation='relu', input_shape=(dims,)))\n",
        "model.add(Dense(32, activation='relu'))\n",
        "model.add(Dense(nb_classes))\n",
        "model.add(Activation('softmax'))\n",
        "          \n",
        "model.compile(optimizer='sgd',\n",
        "              loss='binary_crossentropy',\n",
        "              metrics =[\"accuracy\", keras_metrics.binary_precision(), keras_metrics.binary_recall(), keras_metrics.binary_f1_score()])\n",
        "\n",
        "model.summary()"
      ],
      "execution_count": 31,
      "outputs": [
        {
          "output_type": "stream",
          "text": [
            "Model: \"sequential_5\"\n",
            "_________________________________________________________________\n",
            "Layer (type)                 Output Shape              Param #   \n",
            "=================================================================\n",
            "dense_13 (Dense)             (None, 64)                832       \n",
            "_________________________________________________________________\n",
            "dense_14 (Dense)             (None, 32)                2080      \n",
            "_________________________________________________________________\n",
            "dense_15 (Dense)             (None, 2)                 66        \n",
            "_________________________________________________________________\n",
            "activation_5 (Activation)    (None, 2)                 0         \n",
            "=================================================================\n",
            "Total params: 2,978\n",
            "Trainable params: 2,978\n",
            "Non-trainable params: 0\n",
            "_________________________________________________________________\n"
          ],
          "name": "stdout"
        }
      ]
    },
    {
      "cell_type": "code",
      "metadata": {
        "id": "umdZhxDfC4mX",
        "colab_type": "code",
        "outputId": "da1e6122-aedb-4ca5-a998-c47800216c1b",
        "colab": {
          "base_uri": "https://localhost:8080/",
          "height": 1000
        }
      },
      "source": [
        "hist = model.fit(X_train, Y_train, validation_split=0.2, epochs=100, batch_size=128, verbose=True) \n"
      ],
      "execution_count": 32,
      "outputs": [
        {
          "output_type": "stream",
          "text": [
            "Train on 26809 samples, validate on 6703 samples\n",
            "Epoch 1/100\n",
            "26809/26809 [==============================] - 1s 27us/step - loss: 0.6261 - acc: 0.7155 - precision: 0.7130 - recall: 0.7253 - f1_score: 0.7191 - val_loss: 0.5829 - val_acc: 0.7676 - val_precision: 0.7554 - val_recall: 0.7793 - val_f1_score: 0.7672\n",
            "Epoch 2/100\n",
            "26809/26809 [==============================] - 0s 16us/step - loss: 0.5466 - acc: 0.7911 - precision: 0.7868 - recall: 0.8011 - f1_score: 0.7939 - val_loss: 0.5389 - val_acc: 0.7856 - val_precision: 0.7720 - val_recall: 0.7999 - val_f1_score: 0.7857\n",
            "Epoch 3/100\n",
            "26809/26809 [==============================] - 0s 15us/step - loss: 0.5078 - acc: 0.8003 - precision: 0.7962 - recall: 0.8093 - f1_score: 0.8027 - val_loss: 0.5098 - val_acc: 0.7913 - val_precision: 0.7829 - val_recall: 0.7960 - val_f1_score: 0.7894\n",
            "Epoch 4/100\n",
            "26809/26809 [==============================] - 0s 15us/step - loss: 0.4806 - acc: 0.8047 - precision: 0.8049 - recall: 0.8065 - f1_score: 0.8057 - val_loss: 0.4882 - val_acc: 0.7952 - val_precision: 0.7911 - val_recall: 0.7923 - val_f1_score: 0.7917\n",
            "Epoch 5/100\n",
            "26809/26809 [==============================] - 0s 16us/step - loss: 0.4604 - acc: 0.8076 - precision: 0.8109 - recall: 0.8044 - f1_score: 0.8076 - val_loss: 0.4727 - val_acc: 0.7982 - val_precision: 0.7940 - val_recall: 0.7957 - val_f1_score: 0.7948\n",
            "Epoch 6/100\n",
            "26809/26809 [==============================] - 0s 15us/step - loss: 0.4459 - acc: 0.8104 - precision: 0.8152 - recall: 0.8049 - f1_score: 0.8100 - val_loss: 0.4615 - val_acc: 0.8010 - val_precision: 0.7986 - val_recall: 0.7957 - val_f1_score: 0.7971\n",
            "Epoch 7/100\n",
            "26809/26809 [==============================] - 0s 15us/step - loss: 0.4357 - acc: 0.8115 - precision: 0.8178 - recall: 0.8037 - f1_score: 0.8107 - val_loss: 0.4536 - val_acc: 0.8013 - val_precision: 0.7953 - val_recall: 0.8021 - val_f1_score: 0.7987\n",
            "Epoch 8/100\n",
            "26809/26809 [==============================] - 0s 15us/step - loss: 0.4284 - acc: 0.8128 - precision: 0.8168 - recall: 0.8086 - f1_score: 0.8127 - val_loss: 0.4478 - val_acc: 0.8026 - val_precision: 0.8015 - val_recall: 0.7954 - val_f1_score: 0.7984\n",
            "Epoch 9/100\n",
            "26809/26809 [==============================] - 0s 15us/step - loss: 0.4230 - acc: 0.8138 - precision: 0.8175 - recall: 0.8098 - f1_score: 0.8137 - val_loss: 0.4435 - val_acc: 0.8028 - val_precision: 0.7970 - val_recall: 0.8033 - val_f1_score: 0.8001\n",
            "Epoch 10/100\n",
            "26809/26809 [==============================] - 0s 15us/step - loss: 0.4191 - acc: 0.8135 - precision: 0.8152 - recall: 0.8128 - f1_score: 0.8140 - val_loss: 0.4398 - val_acc: 0.8055 - val_precision: 0.8006 - val_recall: 0.8045 - val_f1_score: 0.8025\n",
            "Epoch 11/100\n",
            "26809/26809 [==============================] - 0s 16us/step - loss: 0.4161 - acc: 0.8152 - precision: 0.8164 - recall: 0.8154 - f1_score: 0.8159 - val_loss: 0.4371 - val_acc: 0.8075 - val_precision: 0.7998 - val_recall: 0.8115 - val_f1_score: 0.8056\n",
            "Epoch 12/100\n",
            "26809/26809 [==============================] - 0s 15us/step - loss: 0.4136 - acc: 0.8169 - precision: 0.8160 - recall: 0.8205 - f1_score: 0.8182 - val_loss: 0.4346 - val_acc: 0.8099 - val_precision: 0.8019 - val_recall: 0.8145 - val_f1_score: 0.8081\n",
            "Epoch 13/100\n",
            "26809/26809 [==============================] - 0s 16us/step - loss: 0.4114 - acc: 0.8181 - precision: 0.8181 - recall: 0.8202 - f1_score: 0.8191 - val_loss: 0.4328 - val_acc: 0.8126 - val_precision: 0.8017 - val_recall: 0.8221 - val_f1_score: 0.8118\n",
            "Epoch 14/100\n",
            "26809/26809 [==============================] - 0s 15us/step - loss: 0.4097 - acc: 0.8206 - precision: 0.8179 - recall: 0.8268 - f1_score: 0.8223 - val_loss: 0.4313 - val_acc: 0.8137 - val_precision: 0.8053 - val_recall: 0.8188 - val_f1_score: 0.8120\n",
            "Epoch 15/100\n",
            "26809/26809 [==============================] - 0s 15us/step - loss: 0.4081 - acc: 0.8208 - precision: 0.8190 - recall: 0.8256 - f1_score: 0.8223 - val_loss: 0.4303 - val_acc: 0.8164 - val_precision: 0.8033 - val_recall: 0.8294 - val_f1_score: 0.8161\n",
            "Epoch 16/100\n",
            "26809/26809 [==============================] - 0s 15us/step - loss: 0.4068 - acc: 0.8216 - precision: 0.8180 - recall: 0.8291 - f1_score: 0.8235 - val_loss: 0.4284 - val_acc: 0.8164 - val_precision: 0.8065 - val_recall: 0.8239 - val_f1_score: 0.8151\n",
            "Epoch 17/100\n",
            "26809/26809 [==============================] - 0s 15us/step - loss: 0.4054 - acc: 0.8228 - precision: 0.8197 - recall: 0.8295 - f1_score: 0.8246 - val_loss: 0.4275 - val_acc: 0.8166 - val_precision: 0.8034 - val_recall: 0.8300 - val_f1_score: 0.8165\n",
            "Epoch 18/100\n",
            "26809/26809 [==============================] - 0s 16us/step - loss: 0.4043 - acc: 0.8236 - precision: 0.8193 - recall: 0.8321 - f1_score: 0.8257 - val_loss: 0.4272 - val_acc: 0.8168 - val_precision: 0.8017 - val_recall: 0.8333 - val_f1_score: 0.8172\n",
            "Epoch 19/100\n",
            "26809/26809 [==============================] - 0s 15us/step - loss: 0.4033 - acc: 0.8251 - precision: 0.8198 - recall: 0.8354 - f1_score: 0.8275 - val_loss: 0.4256 - val_acc: 0.8177 - val_precision: 0.8043 - val_recall: 0.8312 - val_f1_score: 0.8176\n",
            "Epoch 20/100\n",
            "26809/26809 [==============================] - 0s 15us/step - loss: 0.4020 - acc: 0.8256 - precision: 0.8205 - recall: 0.8355 - f1_score: 0.8279 - val_loss: 0.4247 - val_acc: 0.8174 - val_precision: 0.8039 - val_recall: 0.8312 - val_f1_score: 0.8173\n",
            "Epoch 21/100\n",
            "26809/26809 [==============================] - 0s 15us/step - loss: 0.4012 - acc: 0.8258 - precision: 0.8198 - recall: 0.8372 - f1_score: 0.8284 - val_loss: 0.4234 - val_acc: 0.8174 - val_precision: 0.8066 - val_recall: 0.8267 - val_f1_score: 0.8165\n",
            "Epoch 22/100\n",
            "26809/26809 [==============================] - 0s 15us/step - loss: 0.4002 - acc: 0.8263 - precision: 0.8213 - recall: 0.8361 - f1_score: 0.8286 - val_loss: 0.4235 - val_acc: 0.8192 - val_precision: 0.8055 - val_recall: 0.8333 - val_f1_score: 0.8192\n",
            "Epoch 23/100\n",
            "26809/26809 [==============================] - 0s 15us/step - loss: 0.3994 - acc: 0.8271 - precision: 0.8215 - recall: 0.8378 - f1_score: 0.8295 - val_loss: 0.4218 - val_acc: 0.8186 - val_precision: 0.8052 - val_recall: 0.8321 - val_f1_score: 0.8185\n",
            "Epoch 24/100\n",
            "26809/26809 [==============================] - 0s 15us/step - loss: 0.3986 - acc: 0.8274 - precision: 0.8216 - recall: 0.8384 - f1_score: 0.8299 - val_loss: 0.4207 - val_acc: 0.8195 - val_precision: 0.8074 - val_recall: 0.8309 - val_f1_score: 0.8190\n",
            "Epoch 25/100\n",
            "26809/26809 [==============================] - 0s 15us/step - loss: 0.3977 - acc: 0.8283 - precision: 0.8227 - recall: 0.8389 - f1_score: 0.8307 - val_loss: 0.4204 - val_acc: 0.8190 - val_precision: 0.8036 - val_recall: 0.8361 - val_f1_score: 0.8195\n",
            "Epoch 26/100\n",
            "26809/26809 [==============================] - 0s 15us/step - loss: 0.3969 - acc: 0.8288 - precision: 0.8216 - recall: 0.8418 - f1_score: 0.8316 - val_loss: 0.4190 - val_acc: 0.8187 - val_precision: 0.8064 - val_recall: 0.8306 - val_f1_score: 0.8183\n",
            "Epoch 27/100\n",
            "26809/26809 [==============================] - 0s 15us/step - loss: 0.3962 - acc: 0.8296 - precision: 0.8232 - recall: 0.8413 - f1_score: 0.8322 - val_loss: 0.4184 - val_acc: 0.8201 - val_precision: 0.8063 - val_recall: 0.8342 - val_f1_score: 0.8201\n",
            "Epoch 28/100\n",
            "26809/26809 [==============================] - 0s 15us/step - loss: 0.3954 - acc: 0.8296 - precision: 0.8225 - recall: 0.8424 - f1_score: 0.8323 - val_loss: 0.4177 - val_acc: 0.8190 - val_precision: 0.8065 - val_recall: 0.8312 - val_f1_score: 0.8187\n",
            "Epoch 29/100\n",
            "26809/26809 [==============================] - 0s 15us/step - loss: 0.3947 - acc: 0.8296 - precision: 0.8235 - recall: 0.8410 - f1_score: 0.8322 - val_loss: 0.4166 - val_acc: 0.8199 - val_precision: 0.8070 - val_recall: 0.8327 - val_f1_score: 0.8197\n",
            "Epoch 30/100\n",
            "26809/26809 [==============================] - 0s 15us/step - loss: 0.3939 - acc: 0.8299 - precision: 0.8233 - recall: 0.8419 - f1_score: 0.8325 - val_loss: 0.4157 - val_acc: 0.8204 - val_precision: 0.8070 - val_recall: 0.8339 - val_f1_score: 0.8202\n",
            "Epoch 31/100\n",
            "26809/26809 [==============================] - 0s 15us/step - loss: 0.3932 - acc: 0.8308 - precision: 0.8235 - recall: 0.8440 - f1_score: 0.8336 - val_loss: 0.4155 - val_acc: 0.8205 - val_precision: 0.8074 - val_recall: 0.8336 - val_f1_score: 0.8203\n",
            "Epoch 32/100\n",
            "26809/26809 [==============================] - 0s 15us/step - loss: 0.3925 - acc: 0.8308 - precision: 0.8231 - recall: 0.8445 - f1_score: 0.8337 - val_loss: 0.4148 - val_acc: 0.8199 - val_precision: 0.8081 - val_recall: 0.8309 - val_f1_score: 0.8193\n",
            "Epoch 33/100\n",
            "26809/26809 [==============================] - 0s 15us/step - loss: 0.3919 - acc: 0.8314 - precision: 0.8242 - recall: 0.8444 - f1_score: 0.8342 - val_loss: 0.4139 - val_acc: 0.8211 - val_precision: 0.8075 - val_recall: 0.8352 - val_f1_score: 0.8211\n",
            "Epoch 34/100\n",
            "26809/26809 [==============================] - 0s 15us/step - loss: 0.3912 - acc: 0.8315 - precision: 0.8239 - recall: 0.8451 - f1_score: 0.8344 - val_loss: 0.4135 - val_acc: 0.8222 - val_precision: 0.8080 - val_recall: 0.8370 - val_f1_score: 0.8222\n",
            "Epoch 35/100\n",
            "26809/26809 [==============================] - 0s 15us/step - loss: 0.3907 - acc: 0.8318 - precision: 0.8239 - recall: 0.8458 - f1_score: 0.8347 - val_loss: 0.4126 - val_acc: 0.8220 - val_precision: 0.8091 - val_recall: 0.8349 - val_f1_score: 0.8218\n",
            "Epoch 36/100\n",
            "26809/26809 [==============================] - 0s 16us/step - loss: 0.3899 - acc: 0.8318 - precision: 0.8247 - recall: 0.8446 - f1_score: 0.8346 - val_loss: 0.4127 - val_acc: 0.8229 - val_precision: 0.8023 - val_recall: 0.8488 - val_f1_score: 0.8249\n",
            "Epoch 37/100\n",
            "26809/26809 [==============================] - 0s 15us/step - loss: 0.3894 - acc: 0.8327 - precision: 0.8239 - recall: 0.8482 - f1_score: 0.8358 - val_loss: 0.4115 - val_acc: 0.8228 - val_precision: 0.8059 - val_recall: 0.8421 - val_f1_score: 0.8236\n",
            "Epoch 38/100\n",
            "26809/26809 [==============================] - 0s 15us/step - loss: 0.3889 - acc: 0.8326 - precision: 0.8238 - recall: 0.8479 - f1_score: 0.8357 - val_loss: 0.4107 - val_acc: 0.8232 - val_precision: 0.8079 - val_recall: 0.8400 - val_f1_score: 0.8236\n",
            "Epoch 39/100\n",
            "26809/26809 [==============================] - 0s 15us/step - loss: 0.3884 - acc: 0.8330 - precision: 0.8239 - recall: 0.8489 - f1_score: 0.8362 - val_loss: 0.4103 - val_acc: 0.8234 - val_precision: 0.8062 - val_recall: 0.8434 - val_f1_score: 0.8243\n",
            "Epoch 40/100\n",
            "26809/26809 [==============================] - 0s 15us/step - loss: 0.3877 - acc: 0.8333 - precision: 0.8240 - recall: 0.8495 - f1_score: 0.8365 - val_loss: 0.4096 - val_acc: 0.8237 - val_precision: 0.8070 - val_recall: 0.8427 - val_f1_score: 0.8245\n",
            "Epoch 41/100\n",
            "26809/26809 [==============================] - 0s 15us/step - loss: 0.3871 - acc: 0.8339 - precision: 0.8236 - recall: 0.8515 - f1_score: 0.8373 - val_loss: 0.4095 - val_acc: 0.8235 - val_precision: 0.8120 - val_recall: 0.8339 - val_f1_score: 0.8228\n",
            "Epoch 42/100\n",
            "26809/26809 [==============================] - 0s 16us/step - loss: 0.3867 - acc: 0.8348 - precision: 0.8247 - recall: 0.8521 - f1_score: 0.8382 - val_loss: 0.4084 - val_acc: 0.8240 - val_precision: 0.8091 - val_recall: 0.8400 - val_f1_score: 0.8242\n",
            "Epoch 43/100\n",
            "26809/26809 [==============================] - 0s 15us/step - loss: 0.3861 - acc: 0.8349 - precision: 0.8235 - recall: 0.8543 - f1_score: 0.8386 - val_loss: 0.4081 - val_acc: 0.8244 - val_precision: 0.8109 - val_recall: 0.8382 - val_f1_score: 0.8243\n",
            "Epoch 44/100\n",
            "26809/26809 [==============================] - 0s 15us/step - loss: 0.3855 - acc: 0.8354 - precision: 0.8237 - recall: 0.8552 - f1_score: 0.8392 - val_loss: 0.4073 - val_acc: 0.8247 - val_precision: 0.8106 - val_recall: 0.8394 - val_f1_score: 0.8248\n",
            "Epoch 45/100\n",
            "26809/26809 [==============================] - 0s 15us/step - loss: 0.3848 - acc: 0.8361 - precision: 0.8260 - recall: 0.8534 - f1_score: 0.8395 - val_loss: 0.4066 - val_acc: 0.8289 - val_precision: 0.8045 - val_recall: 0.8610 - val_f1_score: 0.8318\n",
            "Epoch 46/100\n",
            "26809/26809 [==============================] - 0s 16us/step - loss: 0.3844 - acc: 0.8373 - precision: 0.8227 - recall: 0.8618 - f1_score: 0.8418 - val_loss: 0.4065 - val_acc: 0.8260 - val_precision: 0.8148 - val_recall: 0.8361 - val_f1_score: 0.8253\n",
            "Epoch 47/100\n",
            "26809/26809 [==============================] - 0s 15us/step - loss: 0.3839 - acc: 0.8357 - precision: 0.8248 - recall: 0.8543 - f1_score: 0.8393 - val_loss: 0.4068 - val_acc: 0.8287 - val_precision: 0.8026 - val_recall: 0.8640 - val_f1_score: 0.8322\n",
            "Epoch 48/100\n",
            "26809/26809 [==============================] - 0s 15us/step - loss: 0.3835 - acc: 0.8370 - precision: 0.8228 - recall: 0.8609 - f1_score: 0.8414 - val_loss: 0.4058 - val_acc: 0.8280 - val_precision: 0.8049 - val_recall: 0.8579 - val_f1_score: 0.8306\n",
            "Epoch 49/100\n",
            "26809/26809 [==============================] - 0s 15us/step - loss: 0.3830 - acc: 0.8374 - precision: 0.8230 - recall: 0.8616 - f1_score: 0.8418 - val_loss: 0.4049 - val_acc: 0.8283 - val_precision: 0.8101 - val_recall: 0.8497 - val_f1_score: 0.8295\n",
            "Epoch 50/100\n",
            "26809/26809 [==============================] - 0s 15us/step - loss: 0.3824 - acc: 0.8389 - precision: 0.8241 - recall: 0.8635 - f1_score: 0.8433 - val_loss: 0.4049 - val_acc: 0.8287 - val_precision: 0.8105 - val_recall: 0.8503 - val_f1_score: 0.8299\n",
            "Epoch 51/100\n",
            "26809/26809 [==============================] - 0s 15us/step - loss: 0.3820 - acc: 0.8380 - precision: 0.8247 - recall: 0.8601 - f1_score: 0.8420 - val_loss: 0.4039 - val_acc: 0.8310 - val_precision: 0.8076 - val_recall: 0.8613 - val_f1_score: 0.8336\n",
            "Epoch 52/100\n",
            "26809/26809 [==============================] - 0s 17us/step - loss: 0.3815 - acc: 0.8389 - precision: 0.8231 - recall: 0.8653 - f1_score: 0.8436 - val_loss: 0.4033 - val_acc: 0.8292 - val_precision: 0.8135 - val_recall: 0.8464 - val_f1_score: 0.8296\n",
            "Epoch 53/100\n",
            "26809/26809 [==============================] - 0s 15us/step - loss: 0.3811 - acc: 0.8395 - precision: 0.8250 - recall: 0.8635 - f1_score: 0.8438 - val_loss: 0.4030 - val_acc: 0.8310 - val_precision: 0.8100 - val_recall: 0.8570 - val_f1_score: 0.8329\n",
            "Epoch 54/100\n",
            "26809/26809 [==============================] - 0s 16us/step - loss: 0.3804 - acc: 0.8392 - precision: 0.8248 - recall: 0.8632 - f1_score: 0.8435 - val_loss: 0.4030 - val_acc: 0.8317 - val_precision: 0.8080 - val_recall: 0.8638 - val_f1_score: 0.8350\n",
            "Epoch 55/100\n",
            "26809/26809 [==============================] - 0s 16us/step - loss: 0.3803 - acc: 0.8395 - precision: 0.8243 - recall: 0.8645 - f1_score: 0.8439 - val_loss: 0.4026 - val_acc: 0.8316 - val_precision: 0.8059 - val_recall: 0.8658 - val_f1_score: 0.8348\n",
            "Epoch 56/100\n",
            "26809/26809 [==============================] - 0s 16us/step - loss: 0.3797 - acc: 0.8407 - precision: 0.8240 - recall: 0.8681 - f1_score: 0.8455 - val_loss: 0.4018 - val_acc: 0.8323 - val_precision: 0.8161 - val_recall: 0.8503 - val_f1_score: 0.8329\n",
            "Epoch 57/100\n",
            "26809/26809 [==============================] - 0s 16us/step - loss: 0.3793 - acc: 0.8401 - precision: 0.8257 - recall: 0.8640 - f1_score: 0.8444 - val_loss: 0.4013 - val_acc: 0.8325 - val_precision: 0.8129 - val_recall: 0.8561 - val_f1_score: 0.8339\n",
            "Epoch 58/100\n",
            "26809/26809 [==============================] - 0s 15us/step - loss: 0.3790 - acc: 0.8409 - precision: 0.8255 - recall: 0.8664 - f1_score: 0.8455 - val_loss: 0.4011 - val_acc: 0.8325 - val_precision: 0.8081 - val_recall: 0.8643 - val_f1_score: 0.8353\n",
            "Epoch 59/100\n",
            "26809/26809 [==============================] - 0s 15us/step - loss: 0.3784 - acc: 0.8411 - precision: 0.8246 - recall: 0.8684 - f1_score: 0.8459 - val_loss: 0.4008 - val_acc: 0.8332 - val_precision: 0.8179 - val_recall: 0.8497 - val_f1_score: 0.8335\n",
            "Epoch 60/100\n",
            "26809/26809 [==============================] - 0s 15us/step - loss: 0.3782 - acc: 0.8414 - precision: 0.8264 - recall: 0.8661 - f1_score: 0.8458 - val_loss: 0.4005 - val_acc: 0.8329 - val_precision: 0.8102 - val_recall: 0.8619 - val_f1_score: 0.8352\n",
            "Epoch 61/100\n",
            "26809/26809 [==============================] - 0s 15us/step - loss: 0.3777 - acc: 0.8416 - precision: 0.8259 - recall: 0.8675 - f1_score: 0.8462 - val_loss: 0.4005 - val_acc: 0.8328 - val_precision: 0.8058 - val_recall: 0.8692 - val_f1_score: 0.8363\n",
            "Epoch 62/100\n",
            "26809/26809 [==============================] - 0s 15us/step - loss: 0.3772 - acc: 0.8420 - precision: 0.8253 - recall: 0.8695 - f1_score: 0.8468 - val_loss: 0.4001 - val_acc: 0.8341 - val_precision: 0.8151 - val_recall: 0.8567 - val_f1_score: 0.8354\n",
            "Epoch 63/100\n",
            "26809/26809 [==============================] - 0s 16us/step - loss: 0.3770 - acc: 0.8424 - precision: 0.8260 - recall: 0.8691 - f1_score: 0.8470 - val_loss: 0.3992 - val_acc: 0.8329 - val_precision: 0.8149 - val_recall: 0.8540 - val_f1_score: 0.8340\n",
            "Epoch 64/100\n",
            "26809/26809 [==============================] - 0s 15us/step - loss: 0.3766 - acc: 0.8425 - precision: 0.8264 - recall: 0.8689 - f1_score: 0.8471 - val_loss: 0.3988 - val_acc: 0.8329 - val_precision: 0.8097 - val_recall: 0.8628 - val_f1_score: 0.8354\n",
            "Epoch 65/100\n",
            "26809/26809 [==============================] - 0s 15us/step - loss: 0.3763 - acc: 0.8430 - precision: 0.8264 - recall: 0.8701 - f1_score: 0.8477 - val_loss: 0.3988 - val_acc: 0.8351 - val_precision: 0.8098 - val_recall: 0.8685 - val_f1_score: 0.8381\n",
            "Epoch 66/100\n",
            "26809/26809 [==============================] - 0s 15us/step - loss: 0.3759 - acc: 0.8442 - precision: 0.8259 - recall: 0.8739 - f1_score: 0.8492 - val_loss: 0.3985 - val_acc: 0.8347 - val_precision: 0.8185 - val_recall: 0.8528 - val_f1_score: 0.8353\n",
            "Epoch 67/100\n",
            "26809/26809 [==============================] - 0s 15us/step - loss: 0.3756 - acc: 0.8426 - precision: 0.8269 - recall: 0.8684 - f1_score: 0.8471 - val_loss: 0.3980 - val_acc: 0.8350 - val_precision: 0.8155 - val_recall: 0.8585 - val_f1_score: 0.8364\n",
            "Epoch 68/100\n",
            "26809/26809 [==============================] - 0s 15us/step - loss: 0.3754 - acc: 0.8439 - precision: 0.8272 - recall: 0.8712 - f1_score: 0.8486 - val_loss: 0.3971 - val_acc: 0.8346 - val_precision: 0.8126 - val_recall: 0.8622 - val_f1_score: 0.8366\n",
            "Epoch 69/100\n",
            "26809/26809 [==============================] - 0s 15us/step - loss: 0.3750 - acc: 0.8445 - precision: 0.8278 - recall: 0.8716 - f1_score: 0.8491 - val_loss: 0.3970 - val_acc: 0.8354 - val_precision: 0.8106 - val_recall: 0.8679 - val_f1_score: 0.8383\n",
            "Epoch 70/100\n",
            "26809/26809 [==============================] - 0s 15us/step - loss: 0.3745 - acc: 0.8455 - precision: 0.8283 - recall: 0.8734 - f1_score: 0.8502 - val_loss: 0.3970 - val_acc: 0.8353 - val_precision: 0.8113 - val_recall: 0.8664 - val_f1_score: 0.8379\n",
            "Epoch 71/100\n",
            "26809/26809 [==============================] - 0s 16us/step - loss: 0.3744 - acc: 0.8445 - precision: 0.8266 - recall: 0.8736 - f1_score: 0.8495 - val_loss: 0.3965 - val_acc: 0.8347 - val_precision: 0.8091 - val_recall: 0.8685 - val_f1_score: 0.8378\n",
            "Epoch 72/100\n",
            "26809/26809 [==============================] - 0s 16us/step - loss: 0.3740 - acc: 0.8452 - precision: 0.8270 - recall: 0.8747 - f1_score: 0.8502 - val_loss: 0.3963 - val_acc: 0.8353 - val_precision: 0.8123 - val_recall: 0.8646 - val_f1_score: 0.8376\n",
            "Epoch 73/100\n",
            "26809/26809 [==============================] - 0s 16us/step - loss: 0.3737 - acc: 0.8446 - precision: 0.8280 - recall: 0.8716 - f1_score: 0.8492 - val_loss: 0.3959 - val_acc: 0.8346 - val_precision: 0.8094 - val_recall: 0.8676 - val_f1_score: 0.8375\n",
            "Epoch 74/100\n",
            "26809/26809 [==============================] - 0s 16us/step - loss: 0.3733 - acc: 0.8453 - precision: 0.8281 - recall: 0.8731 - f1_score: 0.8500 - val_loss: 0.3957 - val_acc: 0.8356 - val_precision: 0.8103 - val_recall: 0.8689 - val_f1_score: 0.8386\n",
            "Epoch 75/100\n",
            "26809/26809 [==============================] - 0s 16us/step - loss: 0.3731 - acc: 0.8458 - precision: 0.8281 - recall: 0.8744 - f1_score: 0.8506 - val_loss: 0.3953 - val_acc: 0.8359 - val_precision: 0.8145 - val_recall: 0.8625 - val_f1_score: 0.8378\n",
            "Epoch 76/100\n",
            "26809/26809 [==============================] - 0s 16us/step - loss: 0.3729 - acc: 0.8453 - precision: 0.8276 - recall: 0.8739 - f1_score: 0.8501 - val_loss: 0.3957 - val_acc: 0.8363 - val_precision: 0.8097 - val_recall: 0.8719 - val_f1_score: 0.8396\n",
            "Epoch 77/100\n",
            "26809/26809 [==============================] - 0s 16us/step - loss: 0.3726 - acc: 0.8449 - precision: 0.8272 - recall: 0.8735 - f1_score: 0.8497 - val_loss: 0.3949 - val_acc: 0.8357 - val_precision: 0.8114 - val_recall: 0.8673 - val_f1_score: 0.8384\n",
            "Epoch 78/100\n",
            "26809/26809 [==============================] - 0s 16us/step - loss: 0.3721 - acc: 0.8463 - precision: 0.8278 - recall: 0.8762 - f1_score: 0.8513 - val_loss: 0.3946 - val_acc: 0.8368 - val_precision: 0.8163 - val_recall: 0.8619 - val_f1_score: 0.8385\n",
            "Epoch 79/100\n",
            "26809/26809 [==============================] - 0s 17us/step - loss: 0.3720 - acc: 0.8458 - precision: 0.8284 - recall: 0.8738 - f1_score: 0.8505 - val_loss: 0.3950 - val_acc: 0.8360 - val_precision: 0.8094 - val_recall: 0.8716 - val_f1_score: 0.8394\n",
            "Epoch 80/100\n",
            "26809/26809 [==============================] - 0s 16us/step - loss: 0.3717 - acc: 0.8457 - precision: 0.8286 - recall: 0.8734 - f1_score: 0.8504 - val_loss: 0.3949 - val_acc: 0.8351 - val_precision: 0.8055 - val_recall: 0.8761 - val_f1_score: 0.8393\n",
            "Epoch 81/100\n",
            "26809/26809 [==============================] - 0s 16us/step - loss: 0.3713 - acc: 0.8466 - precision: 0.8274 - recall: 0.8776 - f1_score: 0.8517 - val_loss: 0.3937 - val_acc: 0.8368 - val_precision: 0.8165 - val_recall: 0.8616 - val_f1_score: 0.8384\n",
            "Epoch 82/100\n",
            "26809/26809 [==============================] - 0s 17us/step - loss: 0.3711 - acc: 0.8466 - precision: 0.8283 - recall: 0.8762 - f1_score: 0.8516 - val_loss: 0.3937 - val_acc: 0.8369 - val_precision: 0.8138 - val_recall: 0.8664 - val_f1_score: 0.8393\n",
            "Epoch 83/100\n",
            "26809/26809 [==============================] - 0s 17us/step - loss: 0.3707 - acc: 0.8463 - precision: 0.8285 - recall: 0.8751 - f1_score: 0.8512 - val_loss: 0.3933 - val_acc: 0.8363 - val_precision: 0.8123 - val_recall: 0.8673 - val_f1_score: 0.8389\n",
            "Epoch 84/100\n",
            "26809/26809 [==============================] - 0s 16us/step - loss: 0.3706 - acc: 0.8457 - precision: 0.8274 - recall: 0.8752 - f1_score: 0.8507 - val_loss: 0.3929 - val_acc: 0.8360 - val_precision: 0.8101 - val_recall: 0.8704 - val_f1_score: 0.8392\n",
            "Epoch 85/100\n",
            "26809/26809 [==============================] - 0s 16us/step - loss: 0.3703 - acc: 0.8466 - precision: 0.8288 - recall: 0.8754 - f1_score: 0.8514 - val_loss: 0.3936 - val_acc: 0.8368 - val_precision: 0.8111 - val_recall: 0.8707 - val_f1_score: 0.8398\n",
            "Epoch 86/100\n",
            "26809/26809 [==============================] - 0s 16us/step - loss: 0.3700 - acc: 0.8464 - precision: 0.8281 - recall: 0.8760 - f1_score: 0.8514 - val_loss: 0.3930 - val_acc: 0.8368 - val_precision: 0.8134 - val_recall: 0.8667 - val_f1_score: 0.8392\n",
            "Epoch 87/100\n",
            "26809/26809 [==============================] - 0s 17us/step - loss: 0.3698 - acc: 0.8466 - precision: 0.8282 - recall: 0.8762 - f1_score: 0.8515 - val_loss: 0.3924 - val_acc: 0.8374 - val_precision: 0.8159 - val_recall: 0.8640 - val_f1_score: 0.8393\n",
            "Epoch 88/100\n",
            "26809/26809 [==============================] - 0s 16us/step - loss: 0.3694 - acc: 0.8470 - precision: 0.8300 - recall: 0.8742 - f1_score: 0.8516 - val_loss: 0.3925 - val_acc: 0.8368 - val_precision: 0.8086 - val_recall: 0.8749 - val_f1_score: 0.8405\n",
            "Epoch 89/100\n",
            "26809/26809 [==============================] - 0s 16us/step - loss: 0.3693 - acc: 0.8474 - precision: 0.8286 - recall: 0.8777 - f1_score: 0.8524 - val_loss: 0.3924 - val_acc: 0.8366 - val_precision: 0.8070 - val_recall: 0.8774 - val_f1_score: 0.8407\n",
            "Epoch 90/100\n",
            "26809/26809 [==============================] - 0s 16us/step - loss: 0.3689 - acc: 0.8472 - precision: 0.8282 - recall: 0.8778 - f1_score: 0.8523 - val_loss: 0.3913 - val_acc: 0.8381 - val_precision: 0.8171 - val_recall: 0.8640 - val_f1_score: 0.8399\n",
            "Epoch 91/100\n",
            "26809/26809 [==============================] - 0s 16us/step - loss: 0.3688 - acc: 0.8467 - precision: 0.8290 - recall: 0.8753 - f1_score: 0.8515 - val_loss: 0.3916 - val_acc: 0.8371 - val_precision: 0.8110 - val_recall: 0.8716 - val_f1_score: 0.8402\n",
            "Epoch 92/100\n",
            "26809/26809 [==============================] - 0s 16us/step - loss: 0.3686 - acc: 0.8474 - precision: 0.8286 - recall: 0.8777 - f1_score: 0.8524 - val_loss: 0.3907 - val_acc: 0.8392 - val_precision: 0.8189 - val_recall: 0.8637 - val_f1_score: 0.8407\n",
            "Epoch 93/100\n",
            "26809/26809 [==============================] - 0s 16us/step - loss: 0.3683 - acc: 0.8478 - precision: 0.8291 - recall: 0.8777 - f1_score: 0.8527 - val_loss: 0.3908 - val_acc: 0.8375 - val_precision: 0.8107 - val_recall: 0.8734 - val_f1_score: 0.8409\n",
            "Epoch 94/100\n",
            "26809/26809 [==============================] - 0s 16us/step - loss: 0.3680 - acc: 0.8474 - precision: 0.8289 - recall: 0.8772 - f1_score: 0.8524 - val_loss: 0.3915 - val_acc: 0.8395 - val_precision: 0.8147 - val_recall: 0.8716 - val_f1_score: 0.8422\n",
            "Epoch 95/100\n",
            "26809/26809 [==============================] - 0s 16us/step - loss: 0.3677 - acc: 0.8479 - precision: 0.8292 - recall: 0.8779 - f1_score: 0.8529 - val_loss: 0.3906 - val_acc: 0.8384 - val_precision: 0.8156 - val_recall: 0.8673 - val_f1_score: 0.8407\n",
            "Epoch 96/100\n",
            "26809/26809 [==============================] - 0s 16us/step - loss: 0.3675 - acc: 0.8478 - precision: 0.8299 - recall: 0.8767 - f1_score: 0.8527 - val_loss: 0.3911 - val_acc: 0.8384 - val_precision: 0.8117 - val_recall: 0.8740 - val_f1_score: 0.8417\n",
            "Epoch 97/100\n",
            "26809/26809 [==============================] - 0s 15us/step - loss: 0.3673 - acc: 0.8483 - precision: 0.8298 - recall: 0.8778 - f1_score: 0.8532 - val_loss: 0.3918 - val_acc: 0.8363 - val_precision: 0.8037 - val_recall: 0.8825 - val_f1_score: 0.8413\n",
            "Epoch 98/100\n",
            "26809/26809 [==============================] - 0s 15us/step - loss: 0.3671 - acc: 0.8478 - precision: 0.8290 - recall: 0.8780 - f1_score: 0.8528 - val_loss: 0.3895 - val_acc: 0.8377 - val_precision: 0.8100 - val_recall: 0.8749 - val_f1_score: 0.8412\n",
            "Epoch 99/100\n",
            "26809/26809 [==============================] - 0s 16us/step - loss: 0.3669 - acc: 0.8483 - precision: 0.8296 - recall: 0.8782 - f1_score: 0.8532 - val_loss: 0.3891 - val_acc: 0.8377 - val_precision: 0.8112 - val_recall: 0.8728 - val_f1_score: 0.8409\n",
            "Epoch 100/100\n",
            "26809/26809 [==============================] - 0s 15us/step - loss: 0.3666 - acc: 0.8478 - precision: 0.8290 - recall: 0.8780 - f1_score: 0.8528 - val_loss: 0.3889 - val_acc: 0.8393 - val_precision: 0.8138 - val_recall: 0.8728 - val_f1_score: 0.8422\n"
          ],
          "name": "stdout"
        }
      ]
    },
    {
      "cell_type": "code",
      "metadata": {
        "id": "6xpGzBlnxyA4",
        "colab_type": "code",
        "outputId": "51622c48-2860-49c3-aaae-104e3cdb58ea",
        "colab": {
          "base_uri": "https://localhost:8080/",
          "height": 295
        }
      },
      "source": [
        "# Plot model loss\n",
        "\n",
        "import matplotlib.pyplot as plt\n",
        "\n",
        "plt.plot(hist.history['loss'])\n",
        "plt.plot(hist.history['val_loss'])\n",
        "plt.title('Model loss')\n",
        "plt.ylabel('Loss')\n",
        "plt.xlabel('Epoch')\n",
        "plt.legend(['Train', 'Val'], loc='upper right')\n",
        "plt.show()"
      ],
      "execution_count": 33,
      "outputs": [
        {
          "output_type": "display_data",
          "data": {
            "image/png": "[encoded data removed]",
            "text/plain": [
              "<Figure size 432x288 with 1 Axes>"
            ]
          },
          "metadata": {
            "tags": []
          }
        }
      ]
    },
    {
      "cell_type": "code",
      "metadata": {
        "id": "ylOZKSEfD_5K",
        "colab_type": "code",
        "outputId": "164e2edb-a2d4-4f53-f933-35850afa863e",
        "colab": {
          "base_uri": "https://localhost:8080/",
          "height": 295
        }
      },
      "source": [
        "# Plot model acuracy\n",
        "\n",
        "import matplotlib.pyplot as plt\n",
        "\n",
        "plt.plot(hist.history['acc'])\n",
        "plt.plot(hist.history['val_acc'])\n",
        "plt.title('Model accuracy')\n",
        "plt.ylabel('Accuracy')\n",
        "plt.xlabel('Epoch')\n",
        "plt.legend(['Train', 'Val'], loc='lower right')\n",
        "plt.show()"
      ],
      "execution_count": 34,
      "outputs": [
        {
          "output_type": "display_data",
          "data": {
            "image/png": "[encoded data removed]",
            "text/plain": [
              "<Figure size 432x288 with 1 Axes>"
            ]
          },
          "metadata": {
            "tags": []
          }
        }
      ]
    },
    {
      "cell_type": "code",
      "metadata": {
        "id": "-CIT6vRWk5Ls",
        "colab_type": "code",
        "outputId": "3670faf5-8f6a-4049-b530-70dbfa04b39c",
        "colab": {
          "base_uri": "https://localhost:8080/",
          "height": 71
        }
      },
      "source": [
        "results = model.evaluate(X_val, Y_val)\n",
        "\n",
        "print('test loss, test acc:', results)"
      ],
      "execution_count": 37,
      "outputs": [
        {
          "output_type": "stream",
          "text": [
            "5395/5395 [==============================] - 0s 26us/step\n",
            "test loss, test acc: [0.48881267818507496, 0.7933271547176973, 0.8647264260567002, 0.8742937852901532, 0.8694837378776843]\n"
          ],
          "name": "stdout"
        }
      ]
    },
    {
      "cell_type": "code",
      "metadata": {
        "id": "kLHgr2-flkuV",
        "colab_type": "code",
        "outputId": "4e6c4391-be46-4000-c86f-e38a98be778c",
        "colab": {
          "base_uri": "https://localhost:8080/",
          "height": 187
        }
      },
      "source": [
        "from sklearn.metrics import classification_report, confusion_matrix\n",
        "\n",
        "Y_val_true = [ enc[int(max(enc))] for enc in Y_val]\n",
        "\n",
        "print( 'Classification report\\n', classification_report(Y_val_true, model.predict_classes(X_val)) )"
      ],
      "execution_count": 38,
      "outputs": [
        {
          "output_type": "stream",
          "text": [
            "Classification report\n",
            "               precision    recall  f1-score   support\n",
            "\n",
            "         0.0       0.86      0.87      0.87      4248\n",
            "         1.0       0.51      0.49      0.50      1147\n",
            "\n",
            "    accuracy                           0.79      5395\n",
            "   macro avg       0.69      0.68      0.69      5395\n",
            "weighted avg       0.79      0.79      0.79      5395\n",
            "\n"
          ],
          "name": "stdout"
        }
      ]
    },
    {
      "cell_type": "code",
      "metadata": {
        "id": "GyrMuDtYBVNO",
        "colab_type": "code",
        "outputId": "c5458ac2-d442-4661-cb5c-e29cbd75c5d4",
        "colab": {
          "base_uri": "https://localhost:8080/",
          "height": 34
        }
      },
      "source": [
        "# Predict on test\n",
        "\n",
        "Y_test_pred = model.predict_classes(X_test)\n",
        "print(Y_test_pred)\n",
        "\n",
        "with open(\"test_pred.txt\", \"w\") as txt_file:\n",
        "    for line in Y_test_pred:\n",
        "        txt_file.write(str(line) + \"\\n\") # works with any number of elements in"
      ],
      "execution_count": 40,
      "outputs": [
        {
          "output_type": "stream",
          "text": [
            "[0 0 0 ... 1 0 0]\n"
          ],
          "name": "stdout"
        }
      ]
    }
  ]
}